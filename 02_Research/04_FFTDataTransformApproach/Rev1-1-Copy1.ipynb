{
 "cells": [
  {
   "cell_type": "code",
   "execution_count": 1,
   "metadata": {},
   "outputs": [],
   "source": [
    "from eeg_learn_functions import *"
   ]
  },
  {
   "cell_type": "code",
   "execution_count": 2,
   "metadata": {},
   "outputs": [
    {
     "data": {
      "text/html": [
       "<style>.container { width:100% !important; }</style>"
      ],
      "text/plain": [
       "<IPython.core.display.HTML object>"
      ]
     },
     "metadata": {},
     "output_type": "display_data"
    }
   ],
   "source": [
    "import pandas as pd\n",
    "import numpy as np\n",
    "import matplotlib.pyplot as plt\n",
    "import seaborn as sns\n",
    "import scipy.stats as scs\n",
    "import re\n",
    "from numpy import genfromtxt\n",
    "\n",
    "%matplotlib inline\n",
    "plt.style.use('ggplot')\n",
    "from IPython.core.display import display, HTML\n",
    "display(HTML(\"<style>.container { width:100% !important; }</style>\"))\n",
    "plt.rcParams[\"figure.figsize\"] = (12,12)\n",
    "pd.options.display.max_columns = None\n",
    "pd.options.display.precision = 4"
   ]
  },
  {
   "cell_type": "markdown",
   "metadata": {},
   "source": [
    "## Brainwave Frequencies:\n",
    "Gamma, 30 to 50 Hz.  \n",
    "Beta, 14 to 30 Hz.  \n",
    "Alpha, 8 to 14 Hz.  \n",
    "Theta, 4 to 8 Hz.  \n",
    "Delta, 0.1 to 4 Hz.  "
   ]
  },
  {
   "cell_type": "markdown",
   "metadata": {},
   "source": [
    "## Changing Bin Size: \n",
    "https://stackoverflow.com/questions/25735153/plotting-a-fast-fourier-transform-in-python  \n",
    "(Search for 'bin')"
   ]
  },
  {
   "cell_type": "markdown",
   "metadata": {},
   "source": [
    "An EEG processing library:  \n",
    "https://github.com/pbashivan/EEGLearn"
   ]
  },
  {
   "cell_type": "code",
   "execution_count": 3,
   "metadata": {},
   "outputs": [],
   "source": [
    "delta = (0.1, 4)\n",
    "theta = (4,8)\n",
    "alpha = (8,14)\n",
    "beta = (14,30)\n",
    "gamma = (30, 50)"
   ]
  },
  {
   "cell_type": "code",
   "execution_count": 4,
   "metadata": {},
   "outputs": [],
   "source": [
    "def get_fft(snippet):\n",
    "    Fs = 128.0;  # sampling rate\n",
    "    #Ts = len(snippet)/Fs/Fs; # sampling interval\n",
    "    snippet_time = len(snippet)/Fs\n",
    "    Ts = 1.0/Fs; # sampling interval\n",
    "    t = np.arange(0,snippet_time,Ts) # time vector\n",
    "\n",
    "    # ff = 5;   # frequency of the signal\n",
    "    # y = np.sin(2*np.pi*ff*t)\n",
    "    y = snippet\n",
    "#     print('Ts: ',Ts)\n",
    "#     print(t)\n",
    "#     print(y.shape)\n",
    "    n = len(y) # length of the signal\n",
    "    k = np.arange(n)\n",
    "    T = n/Fs\n",
    "    frq = k/T # two sides frequency range\n",
    "    frq = frq[range(n//2)] # one side frequency range\n",
    "\n",
    "    Y = np.fft.fft(y)/n # fft computing and normalization\n",
    "    Y = Y[range(n//2)]\n",
    "    #Added in: (To remove bias.)\n",
    "    #Y[0] = 0\n",
    "    return frq,abs(Y)\n",
    "#f,Y = get_fft(np.hanning(len(snippet))*snippet)"
   ]
  },
  {
   "cell_type": "code",
   "execution_count": 5,
   "metadata": {},
   "outputs": [],
   "source": [
    "def theta_alpha_beta_averages(f,Y):\n",
    "    delta_range = (0.1, 4)\n",
    "    theta_range = (4,8)\n",
    "    alpha_range = (8,14)\n",
    "    beta_range = (14,30)\n",
    "    gamma_range = (30, 50)\n",
    "    delta = Y[(f>delta_range[0]) & (f<=delta_range[1])].mean()\n",
    "    theta = Y[(f>theta_range[0]) & (f<=theta_range[1])].mean()\n",
    "    alpha = Y[(f>alpha_range[0]) & (f<=alpha_range[1])].mean()\n",
    "    beta = Y[(f>beta_range[0]) & (f<=beta_range[1])].mean()\n",
    "    gamma = Y[(f>gamma_range[0]) & (f<=gamma_range[1])].mean()\n",
    "\n",
    "    return delta, theta, alpha, beta, gamma"
   ]
  },
  {
   "cell_type": "code",
   "execution_count": 6,
   "metadata": {},
   "outputs": [],
   "source": [
    "def make_steps(samples,frame_duration,overlap):\n",
    "    '''\n",
    "    in:\n",
    "    samples - number of samples in the session\n",
    "    frame_duration - frame duration in seconds \n",
    "    overlap - float fraction of frame to overlap in range (0,1)\n",
    "    \n",
    "    out: list of tuple ranges\n",
    "    '''\n",
    "    #steps = np.arange(0,len(df),frame_length)\n",
    "    Fs = 128.0\n",
    "    i = 0\n",
    "    intervals = []\n",
    "    samples_per_frame = 100#Fs * frame_duration\n",
    "    while i+samples_per_frame <= samples:\n",
    "        intervals.append((i,i+samples_per_frame))\n",
    "        i = i + samples_per_frame - int(samples_per_frame*overlap)\n",
    "    return intervals"
   ]
  },
  {
   "cell_type": "code",
   "execution_count": 7,
   "metadata": {},
   "outputs": [],
   "source": [
    "def make_frames(df,frame_duration):\n",
    "    '''\n",
    "    in: dataframe or array with all channels, frame duration in seconds\n",
    "    out: array of theta, alpha, beta averages for each probe for each time step\n",
    "        shape: (n-frames,m-probes,k-brainwave bands)\n",
    "    '''\n",
    "    Fs = 128.0\n",
    "    frame_length = 100#Fs*frame_duration\n",
    "    frames = []\n",
    "    steps = make_steps(len(df),frame_duration,overlap)\n",
    "    for i,_ in enumerate(steps):\n",
    "        frame = []\n",
    "        if i == 0:\n",
    "            continue\n",
    "        else:\n",
    "            for channel in df.columns:\n",
    "                snippet = np.array(df.loc[steps[i][0]:steps[i][1],int(channel)])\n",
    "                f,Y =  get_fft(snippet)\n",
    "                delta, theta, alpha, beta, gamma = theta_alpha_beta_averages(f,Y)\n",
    "                frame.append([delta, theta, alpha, beta, gamma])\n",
    "            \n",
    "        frames.append(frame)\n",
    "    return np.array(frames)"
   ]
  },
  {
   "cell_type": "code",
   "execution_count": 8,
   "metadata": {},
   "outputs": [],
   "source": [
    "locs_2d = [(-2.0,4.0),\n",
    "           (2.0,4.0),\n",
    "           (-1.0,3.0),\n",
    "           (1.0,3.0),\n",
    "           (-3.0,3.0),\n",
    "           (3.0,3.0),\n",
    "           (-2.0,2.0),\n",
    "           (2.0,2.0),\n",
    "           (-2.0,-2.0),\n",
    "           (2.0,-2.0),\n",
    "           (-4.0,1.0),\n",
    "           (4.0,1.0),\n",
    "           (-1.0,-3.0),\n",
    "           (1.0,-3.0)]"
   ]
  },
  {
   "cell_type": "code",
   "execution_count": 9,
   "metadata": {},
   "outputs": [],
   "source": [
    "from sklearn.preprocessing import StandardScaler\n",
    "import pickle\n",
    "def make_data_pipeline(file_names,labels,image_size,frame_duration,overlap, normalize = False):\n",
    "    '''\n",
    "    IN: \n",
    "    file_names - list of strings for each input file (one for each subject)\n",
    "    labels - list of labels for each\n",
    "    image_size - int size of output images in form (x, x)\n",
    "    frame_duration - time length of each frame (seconds)\n",
    "    overlap - float fraction of frame to overlap in range (0,1)\n",
    "    \n",
    "    OUT:\n",
    "    X: np array of frames (unshuffled)\n",
    "    y: np array of label for each frame (1 or 0)\n",
    "    '''\n",
    "    ##################################\n",
    "    ###Still need to do the overlap###!!!\n",
    "    ##################################\n",
    "    \n",
    "    Fs = 128.0   #sampling rate\n",
    "    frame_length = 100#Fs * frame_duration\n",
    "    \n",
    "    print('Generating training data...')\n",
    "    \n",
    "    \n",
    "    for i, file in enumerate(file_names):\n",
    "        print ('Processing session: ',file, '. (',i+1,' of ',len(file_names),')')\n",
    "        data = genfromtxt(file, delimiter=',')\n",
    "        df = pd.DataFrame(data)\n",
    "        \n",
    "        X_0 = make_frames(df,frame_duration)\n",
    "        #steps = np.arange(0,len(df),frame_length)\n",
    "        X_1 = X_0.reshape(len(X_0),14*5)\n",
    "        \n",
    "        images = gen_images(np.array(locs_2d),X_1, image_size, normalize=False)\n",
    "        images = np.swapaxes(images, 1, 3) \n",
    "        print(len(images), ' frames generated with label ', labels[i], '.')\n",
    "        print('\\n')\n",
    "        if i == 0:\n",
    "            X = images\n",
    "            y = np.ones(len(images))*labels[0]\n",
    "        else:\n",
    "            X = np.concatenate((X,images),axis = 0)\n",
    "            y = np.concatenate((y,np.ones(len(images))*labels[i]),axis = 0)\n",
    "    print(X.shape)\n",
    "    if(normalize):\n",
    "        scalers = [StandardScaler(), StandardScaler(), StandardScaler(), StandardScaler(), StandardScaler()]\n",
    "        scalers[0] = scalers[0].fit(X[:,:,:,0].reshape((X.shape[0]*image_size, image_size)))\n",
    "        scalers[1] = scalers[1].fit(X[:,:,:,1].reshape((X.shape[0]*image_size, image_size)))\n",
    "        scalers[2] = scalers[2].fit(X[:,:,:,2].reshape((X.shape[0]*image_size, image_size)))\n",
    "        scalers[3] = scalers[3].fit(X[:,:,:,3].reshape((X.shape[0]*image_size, image_size)))\n",
    "        scalers[4] = scalers[4].fit(X[:,:,:,4].reshape((X.shape[0]*image_size, image_size)))\n",
    "\n",
    "        X_r = scalers[0].transform(X[:,:,:,0].reshape((X.shape[0]*image_size, image_size)))\n",
    "        X_g = scalers[0].transform(X[:,:,:,1].reshape((X.shape[0]*image_size, image_size)))\n",
    "        X_b = scalers[0].transform(X[:,:,:,2].reshape((X.shape[0]*image_size, image_size)))\n",
    "        X_x = scalers[0].transform(X[:,:,:,3].reshape((X.shape[0]*image_size, image_size)))\n",
    "        X_y = scalers[0].transform(X[:,:,:,4].reshape((X.shape[0]*image_size, image_size)))\n",
    "        #\n",
    "        X[:,:,:,0] = X_r.reshape((X.shape[0], X.shape[1], X.shape[2])) \n",
    "        X[:,:,:,1] = X_g.reshape((X.shape[0], X.shape[1], X.shape[2])) \n",
    "        X[:,:,:,2] = X_b.reshape((X.shape[0], X.shape[1], X.shape[2]))   \n",
    "        X[:,:,:,3] = X_x.reshape((X.shape[0], X.shape[1], X.shape[2])) \n",
    "        X[:,:,:,4] = X_y.reshape((X.shape[0], X.shape[1], X.shape[2])) \n",
    "    \n",
    "        with open('scalers_dump.pickle', 'wb') as f:\n",
    "            pickle.dump(scalers, f)\n",
    "    return X,np.array(y)"
   ]
  },
  {
   "cell_type": "code",
   "execution_count": 10,
   "metadata": {
    "scrolled": false
   },
   "outputs": [
    {
     "name": "stdout",
     "output_type": "stream",
     "text": [
      "Generating training data...\n",
      "Processing session:  data/data_train_new_appr_1_label1.csv . ( 1  of  6 )\n",
      "398  frames generated with label  1 .398Interpolating 49/398Interpolating 73/398Interpolating 98/398Interpolating 123/398Interpolating 147/398Interpolating 170/398Interpolating 194/398Interpolating 218/398Interpolating 241/398Interpolating 266/398Interpolating 290/398Interpolating 313/398Interpolating 338/398Interpolating 362/398Interpolating 386/398\n",
      "\n",
      "\n",
      "Processing session:  data/data_train_new_appr_2_label0.csv . ( 2  of  6 )\n",
      "398  frames generated with label  0 .398Interpolating 44/398Interpolating 67/398Interpolating 88/398Interpolating 112/398Interpolating 137/398Interpolating 161/398Interpolating 185/398Interpolating 211/398Interpolating 235/398Interpolating 258/398Interpolating 281/398Interpolating 305/398Interpolating 330/398Interpolating 354/398Interpolating 378/398\n",
      "\n",
      "\n",
      "Processing session:  data/data_train_new_appr_3_label1.csv . ( 3  of  6 )\n",
      "398  frames generated with label  1 .398Interpolating 69/398Interpolating 93/398Interpolating 118/398Interpolating 144/398Interpolating 169/398Interpolating 193/398Interpolating 215/398Interpolating 237/398Interpolating 280/398Interpolating 324/398Interpolating 347/398Interpolating 368/398Interpolating 391/398\n",
      "\n",
      "\n",
      "Processing session:  data/data_train_new_appr_4_label0.csv . ( 4  of  6 )\n",
      "398  frames generated with label  0 .398Interpolating 46/398Interpolating 70/398Interpolating 95/398Interpolating 118/398Interpolating 143/398Interpolating 167/398Interpolating 232/398Interpolating 253/398Interpolating 273/398Interpolating 295/398Interpolating 315/398Interpolating 338/398Interpolating 362/398\n",
      "\n",
      "\n",
      "Processing session:  data/data_train_new_appr_7_label0.csv . ( 5  of  6 )\n",
      "398  frames generated with label  0 .398Interpolating 47/398Interpolating 68/398Interpolating 125/398Interpolating 186/398Interpolating 282/398Interpolating 321/398Interpolating 343/398Interpolating 385/398\n",
      "\n",
      "\n",
      "Processing session:  data/data_train_new_appr_8_label1.csv . ( 6  of  6 )\n",
      "398  frames generated with label  1 .398Interpolating 45/398Interpolating 70/398Interpolating 93/398Interpolating 139/398Interpolating 162/398Interpolating 186/398Interpolating 211/398Interpolating 235/398Interpolating 258/398Interpolating 281/398Interpolating 304/398Interpolating 326/398Interpolating 349/398Interpolating 372/398Interpolating 392/398\n",
      "\n",
      "\n",
      "(2388, 28, 28, 5)\n"
     ]
    }
   ],
   "source": [
    "file_names = ['data/data_train_new_appr_1_label1.csv',\n",
    "              'data/data_train_new_appr_2_label0.csv',\n",
    "              'data/data_train_new_appr_3_label1.csv',\n",
    "              'data/data_train_new_appr_4_label0.csv',\n",
    "              'data/data_train_new_appr_7_label0.csv',\n",
    "              'data/data_train_new_appr_8_label1.csv']\n",
    "labels = [1,0,1,0, 0,1]\n",
    "image_size = 28\n",
    "frame_duration = 0.78\n",
    "overlap = 0.5\n",
    "X, y = make_data_pipeline(file_names,labels,image_size,frame_duration,overlap)"
   ]
  },
  {
   "cell_type": "code",
   "execution_count": 55,
   "metadata": {},
   "outputs": [
    {
     "data": {
      "text/plain": [
       "(2388, 28, 28, 5)"
      ]
     },
     "execution_count": 55,
     "metadata": {},
     "output_type": "execute_result"
    }
   ],
   "source": [
    "X.shape"
   ]
  },
  {
   "cell_type": "code",
   "execution_count": 56,
   "metadata": {},
   "outputs": [
    {
     "data": {
      "text/plain": [
       "(2388,)"
      ]
     },
     "execution_count": 56,
     "metadata": {},
     "output_type": "execute_result"
    }
   ],
   "source": [
    "y.shape"
   ]
  },
  {
   "cell_type": "code",
   "execution_count": 49,
   "metadata": {},
   "outputs": [
    {
     "ename": "TypeError",
     "evalue": "Invalid shape (28, 28, 5) for image data",
     "output_type": "error",
     "traceback": [
      "\u001b[1;31m---------------------------------------------------------------------------\u001b[0m",
      "\u001b[1;31mTypeError\u001b[0m                                 Traceback (most recent call last)",
      "\u001b[1;32m<ipython-input-49-2408a73547a0>\u001b[0m in \u001b[0;36m<module>\u001b[1;34m\u001b[0m\n\u001b[0;32m      1\u001b[0m \u001b[1;32mimport\u001b[0m \u001b[0mmatplotlib\u001b[0m\u001b[1;33m.\u001b[0m\u001b[0mpyplot\u001b[0m \u001b[1;32mas\u001b[0m \u001b[0mplt\u001b[0m\u001b[1;33m\u001b[0m\u001b[1;33m\u001b[0m\u001b[0m\n\u001b[0;32m      2\u001b[0m \u001b[0mget_ipython\u001b[0m\u001b[1;33m(\u001b[0m\u001b[1;33m)\u001b[0m\u001b[1;33m.\u001b[0m\u001b[0mrun_line_magic\u001b[0m\u001b[1;33m(\u001b[0m\u001b[1;34m'matplotlib'\u001b[0m\u001b[1;33m,\u001b[0m \u001b[1;34m'inline'\u001b[0m\u001b[1;33m)\u001b[0m\u001b[1;33m\u001b[0m\u001b[1;33m\u001b[0m\u001b[0m\n\u001b[1;32m----> 3\u001b[1;33m \u001b[0mplt\u001b[0m\u001b[1;33m.\u001b[0m\u001b[0mimshow\u001b[0m\u001b[1;33m(\u001b[0m\u001b[0mX\u001b[0m\u001b[1;33m[\u001b[0m\u001b[1;36m202\u001b[0m\u001b[1;33m]\u001b[0m\u001b[1;33m)\u001b[0m\u001b[1;33m;\u001b[0m\u001b[1;33m\u001b[0m\u001b[1;33m\u001b[0m\u001b[0m\n\u001b[0m",
      "\u001b[1;32mC:\\ProgramData\\Anaconda3\\lib\\site-packages\\matplotlib\\pyplot.py\u001b[0m in \u001b[0;36mimshow\u001b[1;34m(X, cmap, norm, aspect, interpolation, alpha, vmin, vmax, origin, extent, shape, filternorm, filterrad, imlim, resample, url, data, **kwargs)\u001b[0m\n\u001b[0;32m   2681\u001b[0m         \u001b[0mfilternorm\u001b[0m\u001b[1;33m=\u001b[0m\u001b[0mfilternorm\u001b[0m\u001b[1;33m,\u001b[0m \u001b[0mfilterrad\u001b[0m\u001b[1;33m=\u001b[0m\u001b[0mfilterrad\u001b[0m\u001b[1;33m,\u001b[0m \u001b[0mimlim\u001b[0m\u001b[1;33m=\u001b[0m\u001b[0mimlim\u001b[0m\u001b[1;33m,\u001b[0m\u001b[1;33m\u001b[0m\u001b[1;33m\u001b[0m\u001b[0m\n\u001b[0;32m   2682\u001b[0m         resample=resample, url=url, **({\"data\": data} if data is not\n\u001b[1;32m-> 2683\u001b[1;33m         None else {}), **kwargs)\n\u001b[0m\u001b[0;32m   2684\u001b[0m     \u001b[0msci\u001b[0m\u001b[1;33m(\u001b[0m\u001b[0m__ret\u001b[0m\u001b[1;33m)\u001b[0m\u001b[1;33m\u001b[0m\u001b[1;33m\u001b[0m\u001b[0m\n\u001b[0;32m   2685\u001b[0m     \u001b[1;32mreturn\u001b[0m \u001b[0m__ret\u001b[0m\u001b[1;33m\u001b[0m\u001b[1;33m\u001b[0m\u001b[0m\n",
      "\u001b[1;32mC:\\ProgramData\\Anaconda3\\lib\\site-packages\\matplotlib\\__init__.py\u001b[0m in \u001b[0;36minner\u001b[1;34m(ax, data, *args, **kwargs)\u001b[0m\n\u001b[0;32m   1599\u001b[0m     \u001b[1;32mdef\u001b[0m \u001b[0minner\u001b[0m\u001b[1;33m(\u001b[0m\u001b[0max\u001b[0m\u001b[1;33m,\u001b[0m \u001b[1;33m*\u001b[0m\u001b[0margs\u001b[0m\u001b[1;33m,\u001b[0m \u001b[0mdata\u001b[0m\u001b[1;33m=\u001b[0m\u001b[1;32mNone\u001b[0m\u001b[1;33m,\u001b[0m \u001b[1;33m**\u001b[0m\u001b[0mkwargs\u001b[0m\u001b[1;33m)\u001b[0m\u001b[1;33m:\u001b[0m\u001b[1;33m\u001b[0m\u001b[1;33m\u001b[0m\u001b[0m\n\u001b[0;32m   1600\u001b[0m         \u001b[1;32mif\u001b[0m \u001b[0mdata\u001b[0m \u001b[1;32mis\u001b[0m \u001b[1;32mNone\u001b[0m\u001b[1;33m:\u001b[0m\u001b[1;33m\u001b[0m\u001b[1;33m\u001b[0m\u001b[0m\n\u001b[1;32m-> 1601\u001b[1;33m             \u001b[1;32mreturn\u001b[0m \u001b[0mfunc\u001b[0m\u001b[1;33m(\u001b[0m\u001b[0max\u001b[0m\u001b[1;33m,\u001b[0m \u001b[1;33m*\u001b[0m\u001b[0mmap\u001b[0m\u001b[1;33m(\u001b[0m\u001b[0msanitize_sequence\u001b[0m\u001b[1;33m,\u001b[0m \u001b[0margs\u001b[0m\u001b[1;33m)\u001b[0m\u001b[1;33m,\u001b[0m \u001b[1;33m**\u001b[0m\u001b[0mkwargs\u001b[0m\u001b[1;33m)\u001b[0m\u001b[1;33m\u001b[0m\u001b[1;33m\u001b[0m\u001b[0m\n\u001b[0m\u001b[0;32m   1602\u001b[0m \u001b[1;33m\u001b[0m\u001b[0m\n\u001b[0;32m   1603\u001b[0m         \u001b[0mbound\u001b[0m \u001b[1;33m=\u001b[0m \u001b[0mnew_sig\u001b[0m\u001b[1;33m.\u001b[0m\u001b[0mbind\u001b[0m\u001b[1;33m(\u001b[0m\u001b[0max\u001b[0m\u001b[1;33m,\u001b[0m \u001b[1;33m*\u001b[0m\u001b[0margs\u001b[0m\u001b[1;33m,\u001b[0m \u001b[1;33m**\u001b[0m\u001b[0mkwargs\u001b[0m\u001b[1;33m)\u001b[0m\u001b[1;33m\u001b[0m\u001b[1;33m\u001b[0m\u001b[0m\n",
      "\u001b[1;32mC:\\ProgramData\\Anaconda3\\lib\\site-packages\\matplotlib\\cbook\\deprecation.py\u001b[0m in \u001b[0;36mwrapper\u001b[1;34m(*args, **kwargs)\u001b[0m\n\u001b[0;32m    367\u001b[0m                 \u001b[1;34mf\"%(removal)s.  If any parameter follows {name!r}, they \"\u001b[0m\u001b[1;33m\u001b[0m\u001b[1;33m\u001b[0m\u001b[0m\n\u001b[0;32m    368\u001b[0m                 f\"should be pass as keyword, not positionally.\")\n\u001b[1;32m--> 369\u001b[1;33m         \u001b[1;32mreturn\u001b[0m \u001b[0mfunc\u001b[0m\u001b[1;33m(\u001b[0m\u001b[1;33m*\u001b[0m\u001b[0margs\u001b[0m\u001b[1;33m,\u001b[0m \u001b[1;33m**\u001b[0m\u001b[0mkwargs\u001b[0m\u001b[1;33m)\u001b[0m\u001b[1;33m\u001b[0m\u001b[1;33m\u001b[0m\u001b[0m\n\u001b[0m\u001b[0;32m    370\u001b[0m \u001b[1;33m\u001b[0m\u001b[0m\n\u001b[0;32m    371\u001b[0m     \u001b[1;32mreturn\u001b[0m \u001b[0mwrapper\u001b[0m\u001b[1;33m\u001b[0m\u001b[1;33m\u001b[0m\u001b[0m\n",
      "\u001b[1;32mC:\\ProgramData\\Anaconda3\\lib\\site-packages\\matplotlib\\cbook\\deprecation.py\u001b[0m in \u001b[0;36mwrapper\u001b[1;34m(*args, **kwargs)\u001b[0m\n\u001b[0;32m    367\u001b[0m                 \u001b[1;34mf\"%(removal)s.  If any parameter follows {name!r}, they \"\u001b[0m\u001b[1;33m\u001b[0m\u001b[1;33m\u001b[0m\u001b[0m\n\u001b[0;32m    368\u001b[0m                 f\"should be pass as keyword, not positionally.\")\n\u001b[1;32m--> 369\u001b[1;33m         \u001b[1;32mreturn\u001b[0m \u001b[0mfunc\u001b[0m\u001b[1;33m(\u001b[0m\u001b[1;33m*\u001b[0m\u001b[0margs\u001b[0m\u001b[1;33m,\u001b[0m \u001b[1;33m**\u001b[0m\u001b[0mkwargs\u001b[0m\u001b[1;33m)\u001b[0m\u001b[1;33m\u001b[0m\u001b[1;33m\u001b[0m\u001b[0m\n\u001b[0m\u001b[0;32m    370\u001b[0m \u001b[1;33m\u001b[0m\u001b[0m\n\u001b[0;32m    371\u001b[0m     \u001b[1;32mreturn\u001b[0m \u001b[0mwrapper\u001b[0m\u001b[1;33m\u001b[0m\u001b[1;33m\u001b[0m\u001b[0m\n",
      "\u001b[1;32mC:\\ProgramData\\Anaconda3\\lib\\site-packages\\matplotlib\\axes\\_axes.py\u001b[0m in \u001b[0;36mimshow\u001b[1;34m(self, X, cmap, norm, aspect, interpolation, alpha, vmin, vmax, origin, extent, shape, filternorm, filterrad, imlim, resample, url, **kwargs)\u001b[0m\n\u001b[0;32m   5669\u001b[0m                               resample=resample, **kwargs)\n\u001b[0;32m   5670\u001b[0m \u001b[1;33m\u001b[0m\u001b[0m\n\u001b[1;32m-> 5671\u001b[1;33m         \u001b[0mim\u001b[0m\u001b[1;33m.\u001b[0m\u001b[0mset_data\u001b[0m\u001b[1;33m(\u001b[0m\u001b[0mX\u001b[0m\u001b[1;33m)\u001b[0m\u001b[1;33m\u001b[0m\u001b[1;33m\u001b[0m\u001b[0m\n\u001b[0m\u001b[0;32m   5672\u001b[0m         \u001b[0mim\u001b[0m\u001b[1;33m.\u001b[0m\u001b[0mset_alpha\u001b[0m\u001b[1;33m(\u001b[0m\u001b[0malpha\u001b[0m\u001b[1;33m)\u001b[0m\u001b[1;33m\u001b[0m\u001b[1;33m\u001b[0m\u001b[0m\n\u001b[0;32m   5673\u001b[0m         \u001b[1;32mif\u001b[0m \u001b[0mim\u001b[0m\u001b[1;33m.\u001b[0m\u001b[0mget_clip_path\u001b[0m\u001b[1;33m(\u001b[0m\u001b[1;33m)\u001b[0m \u001b[1;32mis\u001b[0m \u001b[1;32mNone\u001b[0m\u001b[1;33m:\u001b[0m\u001b[1;33m\u001b[0m\u001b[1;33m\u001b[0m\u001b[0m\n",
      "\u001b[1;32mC:\\ProgramData\\Anaconda3\\lib\\site-packages\\matplotlib\\image.py\u001b[0m in \u001b[0;36mset_data\u001b[1;34m(self, A)\u001b[0m\n\u001b[0;32m    688\u001b[0m                 or self._A.ndim == 3 and self._A.shape[-1] in [3, 4]):\n\u001b[0;32m    689\u001b[0m             raise TypeError(\"Invalid shape {} for image data\"\n\u001b[1;32m--> 690\u001b[1;33m                             .format(self._A.shape))\n\u001b[0m\u001b[0;32m    691\u001b[0m \u001b[1;33m\u001b[0m\u001b[0m\n\u001b[0;32m    692\u001b[0m         \u001b[1;32mif\u001b[0m \u001b[0mself\u001b[0m\u001b[1;33m.\u001b[0m\u001b[0m_A\u001b[0m\u001b[1;33m.\u001b[0m\u001b[0mndim\u001b[0m \u001b[1;33m==\u001b[0m \u001b[1;36m3\u001b[0m\u001b[1;33m:\u001b[0m\u001b[1;33m\u001b[0m\u001b[1;33m\u001b[0m\u001b[0m\n",
      "\u001b[1;31mTypeError\u001b[0m: Invalid shape (28, 28, 5) for image data"
     ]
    },
    {
     "data": {
      "image/png": "[encoded data removed]",
      "text/plain": [
       "<Figure size 432x288 with 1 Axes>"
      ]
     },
     "metadata": {
      "needs_background": "light"
     },
     "output_type": "display_data"
    }
   ],
   "source": [
    "import matplotlib.pyplot as plt\n",
    "%matplotlib inline\n",
    "plt.imshow(X[202]);"
   ]
  },
  {
   "cell_type": "code",
   "execution_count": 99,
   "metadata": {},
   "outputs": [
    {
     "name": "stderr",
     "output_type": "stream",
     "text": [
      "Clipping input data to the valid range for imshow with RGB data ([0..1] for floats or [0..255] for integers).\n",
      "Clipping input data to the valid range for imshow with RGB data ([0..1] for floats or [0..255] for integers).\n",
      "Clipping input data to the valid range for imshow with RGB data ([0..1] for floats or [0..255] for integers).\n",
      "Clipping input data to the valid range for imshow with RGB data ([0..1] for floats or [0..255] for integers).\n"
     ]
    },
    {
     "data": {
      "text/plain": [
       "''"
      ]
     },
     "execution_count": 99,
     "metadata": {},
     "output_type": "execute_result"
    },
    {
     "data": {
      "image/png": "[encoded data removed]",
      "text/plain": [
       "<Figure size 576x576 with 4 Axes>"
      ]
     },
     "metadata": {
      "needs_background": "light"
     },
     "output_type": "display_data"
    }
   ],
   "source": [
    "# Two subplots, the axes array is 1-d\n",
    "f, axarr = plt.subplots(2,2, figsize = (8,8))\n",
    "axarr[0][0].set_title('Known Skill')\n",
    "axarr[0][0].imshow(X[0])\n",
    "axarr[1][0].imshow(X[1])\n",
    "\n",
    "axarr[0][1].set_title('Unknown Skill')\n",
    "axarr[0][1].imshow(X[1550])\n",
    "axarr[1][1].imshow(X[1551])\n",
    "\n",
    ";"
   ]
  },
  {
   "cell_type": "code",
   "execution_count": 57,
   "metadata": {},
   "outputs": [],
   "source": [
    "from sklearn.model_selection import train_test_split\n",
    "x_train, x_test, y_train, y_test = train_test_split(X, y, test_size=0.1,shuffle=True)"
   ]
  },
  {
   "cell_type": "code",
   "execution_count": 58,
   "metadata": {},
   "outputs": [
    {
     "data": {
      "text/plain": [
       "(2149,)"
      ]
     },
     "execution_count": 58,
     "metadata": {},
     "output_type": "execute_result"
    }
   ],
   "source": [
    "y_train.shape"
   ]
  },
  {
   "cell_type": "code",
   "execution_count": 59,
   "metadata": {},
   "outputs": [
    {
     "name": "stdout",
     "output_type": "stream",
     "text": [
      "x_train shape: (2149, 28, 28, 5)\n",
      "2149 train samples\n",
      "239 test samples\n"
     ]
    }
   ],
   "source": [
    "# input image dimensions\n",
    "img_rows, img_cols = 28, 28\n",
    "\n",
    "x_train = x_train.astype('float32')\n",
    "x_test = x_test.astype('float32')\n",
    "#x_train /= 255\n",
    "#x_test /= 255\n",
    "print('x_train shape:', x_train.shape)\n",
    "print(x_train.shape[0], 'train samples')\n",
    "print(x_test.shape[0], 'test samples')\n",
    "\n",
    "input_shape = (img_rows, img_cols, 5)"
   ]
  },
  {
   "cell_type": "code",
   "execution_count": null,
   "metadata": {},
   "outputs": [
    {
     "name": "stdout",
     "output_type": "stream",
     "text": [
      "Train on 2041 samples, validate on 108 samples\n",
      "Epoch 1/50\n",
      "2041/2041 [==============================] - 2s 782us/step - loss: 0.6703 - accuracy: 0.6257 - val_loss: 0.6639 - val_accuracy: 0.6296\n",
      "Epoch 2/50\n",
      "2041/2041 [==============================] - 1s 443us/step - loss: 0.6348 - accuracy: 0.6781 - val_loss: 0.6181 - val_accuracy: 0.6944\n",
      "Epoch 3/50\n",
      "2041/2041 [==============================] - 1s 427us/step - loss: 0.6071 - accuracy: 0.7026 - val_loss: 0.6121 - val_accuracy: 0.7407\n",
      "Epoch 4/50\n",
      "2041/2041 [==============================] - 1s 432us/step - loss: 0.5905 - accuracy: 0.7065 - val_loss: 0.5951 - val_accuracy: 0.6944\n",
      "Epoch 5/50\n",
      "2041/2041 [==============================] - 1s 432us/step - loss: 0.5869 - accuracy: 0.7212 - val_loss: 0.6629 - val_accuracy: 0.6574\n",
      "Epoch 6/50\n",
      "2041/2041 [==============================] - 1s 432us/step - loss: 0.5781 - accuracy: 0.7158 - val_loss: 0.5894 - val_accuracy: 0.7037\n",
      "Epoch 7/50\n",
      "2041/2041 [==============================] - 1s 429us/step - loss: 0.5670 - accuracy: 0.7163 - val_loss: 0.5862 - val_accuracy: 0.7130\n",
      "Epoch 8/50\n",
      "2041/2041 [==============================] - 1s 431us/step - loss: 0.5584 - accuracy: 0.7217 - val_loss: 0.5810 - val_accuracy: 0.7222\n",
      "Epoch 9/50\n",
      "2041/2041 [==============================] - 1s 428us/step - loss: 0.5485 - accuracy: 0.7217 - val_loss: 0.6235 - val_accuracy: 0.6944\n",
      "Epoch 10/50\n",
      "2041/2041 [==============================] - 1s 435us/step - loss: 0.5475 - accuracy: 0.7261 - val_loss: 0.5633 - val_accuracy: 0.7778\n",
      "Epoch 11/50\n",
      "2041/2041 [==============================] - 1s 443us/step - loss: 0.5390 - accuracy: 0.7300 - val_loss: 0.5536 - val_accuracy: 0.7130\n",
      "Epoch 12/50\n",
      "2041/2041 [==============================] - 1s 435us/step - loss: 0.5441 - accuracy: 0.7320 - val_loss: 0.5551 - val_accuracy: 0.7130\n",
      "Epoch 13/50\n",
      "2041/2041 [==============================] - 1s 432us/step - loss: 0.5325 - accuracy: 0.7369 - val_loss: 0.5628 - val_accuracy: 0.7315\n",
      "Epoch 14/50\n",
      "1824/2041 [=========================>....] - ETA: 0s - loss: 0.5295 - accuracy: 0.7341"
     ]
    }
   ],
   "source": [
    "import keras\n",
    "from keras.models import Sequential\n",
    "from keras.layers import Dense, Dropout, Activation, Flatten\n",
    "from keras.layers import Conv2D, MaxPooling2D\n",
    "from sklearn.model_selection import StratifiedKFold\n",
    "batch_size = 32\n",
    "num_classes = 2\n",
    "epochs = 50\n",
    "\n",
    "model = Sequential()\n",
    "model.add(Conv2D(32, (3, 3), padding='same',input_shape=input_shape))\n",
    "model.add(Activation('relu'))\n",
    "model.add(Conv2D(32, (3, 3)))\n",
    "model.add(Activation('relu'))\n",
    "model.add(MaxPooling2D(pool_size=(2, 2)))\n",
    "#model.add(Dropout(0.25))\n",
    "\n",
    "model.add(Flatten())\n",
    "model.add(Dense(10))\n",
    "model.add(Activation('relu'))\n",
    "#model.add(Dropout(0.5))\n",
    "model.add(Dense(num_classes))\n",
    "model.add(Activation('softmax'))\n",
    "\n",
    "# initiate RMSprop optimizer\n",
    "opt = keras.optimizers.rmsprop(lr=0.0001, decay=1e-6)\n",
    "\n",
    "# Let's train the model using RMSprop\n",
    "model.compile(loss='categorical_crossentropy',\n",
    "              optimizer=opt,\n",
    "              metrics=['accuracy'])\n",
    "\n",
    "x_train = x_train.astype('float32')\n",
    "#x_test = x_test.astype('float32')\n",
    "#x_train /= 255\n",
    "#x_test /= 255\n",
    "y_train = keras.utils.to_categorical(y_train, num_classes)\n",
    "y_test = keras.utils.to_categorical(y_test, num_classes)\n",
    "model.fit(x_train, y_train,\n",
    "          batch_size=batch_size,\n",
    "          epochs=epochs, \n",
    "          validation_split = 0.05)\n",
    "\n",
    "model.save('80_model.h5')"
   ]
  },
  {
   "cell_type": "code",
   "execution_count": 32,
   "metadata": {
    "scrolled": true
   },
   "outputs": [
    {
     "name": "stdout",
     "output_type": "stream",
     "text": [
      "Train on 858 samples, validate on 96 samples\n",
      "Epoch 1/110\n",
      "858/858 [==============================] - 1s 1ms/step - loss: 0.7998 - accuracy: 0.5839 - val_loss: 0.8496 - val_accuracy: 0.0729\n",
      "Epoch 2/110\n",
      "858/858 [==============================] - 0s 469us/step - loss: 0.6555 - accuracy: 0.6399 - val_loss: 0.9700 - val_accuracy: 0.0208\n",
      "Epoch 3/110\n",
      "858/858 [==============================] - 0s 452us/step - loss: 0.6439 - accuracy: 0.6515 - val_loss: 0.9361 - val_accuracy: 0.0521\n",
      "Epoch 4/110\n",
      "858/858 [==============================] - 0s 453us/step - loss: 0.6367 - accuracy: 0.6725 - val_loss: 0.9556 - val_accuracy: 0.0625\n",
      "Epoch 5/110\n",
      "858/858 [==============================] - 0s 451us/step - loss: 0.6267 - accuracy: 0.6515 - val_loss: 1.2293 - val_accuracy: 0.0000e+00\n",
      "Epoch 6/110\n",
      "858/858 [==============================] - 0s 447us/step - loss: 0.6252 - accuracy: 0.6678 - val_loss: 1.0852 - val_accuracy: 0.0521\n",
      "Epoch 7/110\n",
      "858/858 [==============================] - 0s 447us/step - loss: 0.6201 - accuracy: 0.6655 - val_loss: 1.0096 - val_accuracy: 0.0938\n",
      "Epoch 8/110\n",
      "858/858 [==============================] - 0s 447us/step - loss: 0.6111 - accuracy: 0.6853 - val_loss: 1.0080 - val_accuracy: 0.1146\n",
      "Epoch 9/110\n",
      "858/858 [==============================] - 0s 446us/step - loss: 0.6070 - accuracy: 0.6888 - val_loss: 0.9420 - val_accuracy: 0.1875\n",
      "Epoch 10/110\n",
      "858/858 [==============================] - 0s 449us/step - loss: 0.5993 - accuracy: 0.6923 - val_loss: 1.0301 - val_accuracy: 0.1146\n",
      "Epoch 11/110\n",
      "858/858 [==============================] - 0s 453us/step - loss: 0.5934 - accuracy: 0.6935 - val_loss: 1.1004 - val_accuracy: 0.0938\n",
      "Epoch 12/110\n",
      "858/858 [==============================] - 0s 453us/step - loss: 0.5915 - accuracy: 0.6981 - val_loss: 1.1568 - val_accuracy: 0.1146\n",
      "Epoch 13/110\n",
      "858/858 [==============================] - 0s 450us/step - loss: 0.5898 - accuracy: 0.7028 - val_loss: 1.1592 - val_accuracy: 0.1146\n",
      "Epoch 14/110\n",
      "858/858 [==============================] - 0s 434us/step - loss: 0.5771 - accuracy: 0.7168 - val_loss: 1.2019 - val_accuracy: 0.0833\n",
      "Epoch 15/110\n",
      "858/858 [==============================] - 0s 449us/step - loss: 0.5715 - accuracy: 0.7214 - val_loss: 1.1034 - val_accuracy: 0.1458\n",
      "Epoch 16/110\n",
      "858/858 [==============================] - 0s 443us/step - loss: 0.5704 - accuracy: 0.7168 - val_loss: 1.1583 - val_accuracy: 0.1250\n",
      "Epoch 17/110\n",
      "858/858 [==============================] - 0s 444us/step - loss: 0.5631 - accuracy: 0.7273 - val_loss: 1.0935 - val_accuracy: 0.1667\n",
      "Epoch 18/110\n",
      "858/858 [==============================] - 0s 451us/step - loss: 0.5550 - accuracy: 0.7261 - val_loss: 1.3873 - val_accuracy: 0.0417\n",
      "Epoch 19/110\n",
      "858/858 [==============================] - 0s 449us/step - loss: 0.5549 - accuracy: 0.7308 - val_loss: 1.1540 - val_accuracy: 0.1667\n",
      "Epoch 20/110\n",
      "858/858 [==============================] - 0s 447us/step - loss: 0.5471 - accuracy: 0.7203 - val_loss: 1.2420 - val_accuracy: 0.1354\n",
      "Epoch 21/110\n",
      "858/858 [==============================] - 0s 446us/step - loss: 0.5432 - accuracy: 0.7401 - val_loss: 1.1701 - val_accuracy: 0.1458\n",
      "Epoch 22/110\n",
      "858/858 [==============================] - 0s 452us/step - loss: 0.5360 - accuracy: 0.7354 - val_loss: 1.0761 - val_accuracy: 0.1875\n",
      "Epoch 23/110\n",
      "858/858 [==============================] - 0s 447us/step - loss: 0.5363 - accuracy: 0.7541 - val_loss: 0.9855 - val_accuracy: 0.2292\n",
      "Epoch 24/110\n",
      "858/858 [==============================] - 0s 445us/step - loss: 0.5305 - accuracy: 0.7378 - val_loss: 1.1756 - val_accuracy: 0.1562\n",
      "Epoch 25/110\n",
      "858/858 [==============================] - 0s 456us/step - loss: 0.5235 - accuracy: 0.7669 - val_loss: 1.3382 - val_accuracy: 0.1146\n",
      "Epoch 26/110\n",
      "858/858 [==============================] - 0s 452us/step - loss: 0.5208 - accuracy: 0.7552 - val_loss: 1.3501 - val_accuracy: 0.1354\n",
      "Epoch 27/110\n",
      "858/858 [==============================] - 0s 449us/step - loss: 0.5230 - accuracy: 0.7483 - val_loss: 1.2318 - val_accuracy: 0.1562\n",
      "Epoch 28/110\n",
      "858/858 [==============================] - 0s 448us/step - loss: 0.5112 - accuracy: 0.7529 - val_loss: 1.1778 - val_accuracy: 0.1875\n",
      "Epoch 29/110\n",
      "858/858 [==============================] - 0s 453us/step - loss: 0.5156 - accuracy: 0.7494 - val_loss: 0.9780 - val_accuracy: 0.2604\n",
      "Epoch 30/110\n",
      "858/858 [==============================] - 0s 448us/step - loss: 0.5082 - accuracy: 0.7634 - val_loss: 1.3456 - val_accuracy: 0.1458\n",
      "Epoch 31/110\n",
      "858/858 [==============================] - 0s 454us/step - loss: 0.5045 - accuracy: 0.7622 - val_loss: 1.1996 - val_accuracy: 0.1771\n",
      "Epoch 32/110\n",
      "858/858 [==============================] - 0s 447us/step - loss: 0.5026 - accuracy: 0.7622 - val_loss: 1.2188 - val_accuracy: 0.1771\n",
      "Epoch 33/110\n",
      "858/858 [==============================] - 0s 453us/step - loss: 0.5003 - accuracy: 0.7681 - val_loss: 1.2204 - val_accuracy: 0.1771\n",
      "Epoch 34/110\n",
      "858/858 [==============================] - 0s 444us/step - loss: 0.4973 - accuracy: 0.7587 - val_loss: 1.1520 - val_accuracy: 0.2188\n",
      "Epoch 35/110\n",
      "858/858 [==============================] - 0s 448us/step - loss: 0.4948 - accuracy: 0.7622 - val_loss: 1.2412 - val_accuracy: 0.1771\n",
      "Epoch 36/110\n",
      "858/858 [==============================] - 0s 449us/step - loss: 0.4932 - accuracy: 0.7704 - val_loss: 1.3493 - val_accuracy: 0.1667\n",
      "Epoch 37/110\n",
      "858/858 [==============================] - 0s 445us/step - loss: 0.4868 - accuracy: 0.7657 - val_loss: 1.1744 - val_accuracy: 0.2188\n",
      "Epoch 38/110\n",
      "858/858 [==============================] - 0s 436us/step - loss: 0.4866 - accuracy: 0.7716 - val_loss: 1.3928 - val_accuracy: 0.1458\n",
      "Epoch 39/110\n",
      "858/858 [==============================] - 0s 443us/step - loss: 0.4807 - accuracy: 0.7774 - val_loss: 1.4146 - val_accuracy: 0.1667\n",
      "Epoch 40/110\n",
      "858/858 [==============================] - 0s 445us/step - loss: 0.4824 - accuracy: 0.7937 - val_loss: 1.3409 - val_accuracy: 0.1771\n",
      "Epoch 41/110\n",
      "858/858 [==============================] - 0s 446us/step - loss: 0.4738 - accuracy: 0.7821 - val_loss: 1.1173 - val_accuracy: 0.2604\n",
      "Epoch 42/110\n",
      "858/858 [==============================] - 0s 445us/step - loss: 0.4749 - accuracy: 0.7844 - val_loss: 1.3456 - val_accuracy: 0.1771\n",
      "Epoch 43/110\n",
      "858/858 [==============================] - 0s 449us/step - loss: 0.4691 - accuracy: 0.7809 - val_loss: 1.2008 - val_accuracy: 0.2396\n",
      "Epoch 44/110\n",
      "858/858 [==============================] - 0s 448us/step - loss: 0.4706 - accuracy: 0.7902 - val_loss: 1.1496 - val_accuracy: 0.2500\n",
      "Epoch 45/110\n",
      "858/858 [==============================] - 0s 450us/step - loss: 0.4635 - accuracy: 0.7925 - val_loss: 1.3511 - val_accuracy: 0.1771\n",
      "Epoch 46/110\n",
      "858/858 [==============================] - 0s 446us/step - loss: 0.4656 - accuracy: 0.7937 - val_loss: 1.1451 - val_accuracy: 0.2604\n",
      "Epoch 47/110\n",
      "858/858 [==============================] - 0s 452us/step - loss: 0.4599 - accuracy: 0.7867 - val_loss: 1.4205 - val_accuracy: 0.1667\n",
      "Epoch 48/110\n",
      "858/858 [==============================] - 0s 444us/step - loss: 0.4641 - accuracy: 0.7972 - val_loss: 1.2935 - val_accuracy: 0.2292\n",
      "Epoch 49/110\n",
      "858/858 [==============================] - 0s 451us/step - loss: 0.4533 - accuracy: 0.7949 - val_loss: 1.3011 - val_accuracy: 0.2083\n",
      "Epoch 50/110\n",
      "858/858 [==============================] - 0s 450us/step - loss: 0.4506 - accuracy: 0.8042 - val_loss: 1.2754 - val_accuracy: 0.2292\n",
      "Epoch 51/110\n",
      "858/858 [==============================] - 0s 446us/step - loss: 0.4552 - accuracy: 0.7914 - val_loss: 1.2538 - val_accuracy: 0.2500\n",
      "Epoch 52/110\n",
      "858/858 [==============================] - 0s 452us/step - loss: 0.4504 - accuracy: 0.7925 - val_loss: 1.2834 - val_accuracy: 0.2292\n",
      "Epoch 53/110\n",
      "858/858 [==============================] - 0s 453us/step - loss: 0.4485 - accuracy: 0.8054 - val_loss: 1.3767 - val_accuracy: 0.1979\n",
      "Epoch 54/110\n",
      "858/858 [==============================] - 0s 450us/step - loss: 0.4448 - accuracy: 0.8054 - val_loss: 1.4342 - val_accuracy: 0.1875\n",
      "Epoch 55/110\n",
      "858/858 [==============================] - 0s 453us/step - loss: 0.4409 - accuracy: 0.8100 - val_loss: 1.3538 - val_accuracy: 0.2396\n",
      "Epoch 56/110\n",
      "858/858 [==============================] - 0s 449us/step - loss: 0.4404 - accuracy: 0.8065 - val_loss: 1.4551 - val_accuracy: 0.1667\n"
     ]
    },
    {
     "name": "stdout",
     "output_type": "stream",
     "text": [
      "Epoch 57/110\n",
      "858/858 [==============================] - 0s 454us/step - loss: 0.4378 - accuracy: 0.8019 - val_loss: 1.5049 - val_accuracy: 0.1771\n",
      "Epoch 58/110\n",
      "858/858 [==============================] - 0s 446us/step - loss: 0.4362 - accuracy: 0.8135 - val_loss: 1.2241 - val_accuracy: 0.2708\n",
      "Epoch 59/110\n",
      "858/858 [==============================] - 0s 446us/step - loss: 0.4387 - accuracy: 0.8042 - val_loss: 1.4858 - val_accuracy: 0.1667\n",
      "Epoch 60/110\n",
      "858/858 [==============================] - 0s 449us/step - loss: 0.4283 - accuracy: 0.8182 - val_loss: 1.4791 - val_accuracy: 0.1562\n",
      "Epoch 61/110\n",
      "858/858 [==============================] - 0s 441us/step - loss: 0.4286 - accuracy: 0.8077 - val_loss: 1.3621 - val_accuracy: 0.2500\n",
      "Epoch 62/110\n",
      "858/858 [==============================] - 0s 447us/step - loss: 0.4287 - accuracy: 0.8135 - val_loss: 1.3789 - val_accuracy: 0.2083\n",
      "Epoch 63/110\n",
      "858/858 [==============================] - 0s 450us/step - loss: 0.4279 - accuracy: 0.8124 - val_loss: 1.3455 - val_accuracy: 0.2292\n",
      "Epoch 64/110\n",
      "800/858 [==========================>...] - ETA: 0s - loss: 0.4189 - accuracy: 0.8188"
     ]
    },
    {
     "ename": "KeyboardInterrupt",
     "evalue": "",
     "output_type": "error",
     "traceback": [
      "\u001b[1;31m---------------------------------------------------------------------------\u001b[0m",
      "\u001b[1;31mKeyboardInterrupt\u001b[0m                         Traceback (most recent call last)",
      "\u001b[1;32m<ipython-input-32-2d03b999ddbc>\u001b[0m in \u001b[0;36m<module>\u001b[1;34m\u001b[0m\n\u001b[0;32m     52\u001b[0m               \u001b[0mbatch_size\u001b[0m\u001b[1;33m=\u001b[0m\u001b[0mbatch_size\u001b[0m\u001b[1;33m,\u001b[0m\u001b[1;33m\u001b[0m\u001b[1;33m\u001b[0m\u001b[0m\n\u001b[0;32m     53\u001b[0m               \u001b[0mepochs\u001b[0m\u001b[1;33m=\u001b[0m\u001b[0mepochs\u001b[0m\u001b[1;33m,\u001b[0m\u001b[1;33m\u001b[0m\u001b[1;33m\u001b[0m\u001b[0m\n\u001b[1;32m---> 54\u001b[1;33m               validation_split = 0.1)\n\u001b[0m\u001b[0;32m     55\u001b[0m     \u001b[0mlst\u001b[0m\u001b[1;33m.\u001b[0m\u001b[0mappend\u001b[0m\u001b[1;33m(\u001b[0m\u001b[0mmodel\u001b[0m\u001b[1;33m.\u001b[0m\u001b[0mevaluate\u001b[0m\u001b[1;33m(\u001b[0m\u001b[0mx_test\u001b[0m\u001b[1;33m,\u001b[0m \u001b[0my_test\u001b[0m\u001b[1;33m)\u001b[0m\u001b[1;33m)\u001b[0m\u001b[1;33m\u001b[0m\u001b[1;33m\u001b[0m\u001b[0m\n\u001b[0;32m     56\u001b[0m     \u001b[0mprint\u001b[0m\u001b[1;33m(\u001b[0m\u001b[0mlst\u001b[0m\u001b[1;33m)\u001b[0m\u001b[1;33m\u001b[0m\u001b[1;33m\u001b[0m\u001b[0m\n",
      "\u001b[1;32mC:\\ProgramData\\Anaconda3\\lib\\site-packages\\keras\\engine\\training.py\u001b[0m in \u001b[0;36mfit\u001b[1;34m(self, x, y, batch_size, epochs, verbose, callbacks, validation_split, validation_data, shuffle, class_weight, sample_weight, initial_epoch, steps_per_epoch, validation_steps, validation_freq, max_queue_size, workers, use_multiprocessing, **kwargs)\u001b[0m\n\u001b[0;32m   1237\u001b[0m                                         \u001b[0msteps_per_epoch\u001b[0m\u001b[1;33m=\u001b[0m\u001b[0msteps_per_epoch\u001b[0m\u001b[1;33m,\u001b[0m\u001b[1;33m\u001b[0m\u001b[1;33m\u001b[0m\u001b[0m\n\u001b[0;32m   1238\u001b[0m                                         \u001b[0mvalidation_steps\u001b[0m\u001b[1;33m=\u001b[0m\u001b[0mvalidation_steps\u001b[0m\u001b[1;33m,\u001b[0m\u001b[1;33m\u001b[0m\u001b[1;33m\u001b[0m\u001b[0m\n\u001b[1;32m-> 1239\u001b[1;33m                                         validation_freq=validation_freq)\n\u001b[0m\u001b[0;32m   1240\u001b[0m \u001b[1;33m\u001b[0m\u001b[0m\n\u001b[0;32m   1241\u001b[0m     def evaluate(self,\n",
      "\u001b[1;32mC:\\ProgramData\\Anaconda3\\lib\\site-packages\\keras\\engine\\training_arrays.py\u001b[0m in \u001b[0;36mfit_loop\u001b[1;34m(model, fit_function, fit_inputs, out_labels, batch_size, epochs, verbose, callbacks, val_function, val_inputs, shuffle, initial_epoch, steps_per_epoch, validation_steps, validation_freq)\u001b[0m\n\u001b[0;32m    194\u001b[0m                     \u001b[0mins_batch\u001b[0m\u001b[1;33m[\u001b[0m\u001b[0mi\u001b[0m\u001b[1;33m]\u001b[0m \u001b[1;33m=\u001b[0m \u001b[0mins_batch\u001b[0m\u001b[1;33m[\u001b[0m\u001b[0mi\u001b[0m\u001b[1;33m]\u001b[0m\u001b[1;33m.\u001b[0m\u001b[0mtoarray\u001b[0m\u001b[1;33m(\u001b[0m\u001b[1;33m)\u001b[0m\u001b[1;33m\u001b[0m\u001b[1;33m\u001b[0m\u001b[0m\n\u001b[0;32m    195\u001b[0m \u001b[1;33m\u001b[0m\u001b[0m\n\u001b[1;32m--> 196\u001b[1;33m                 \u001b[0mouts\u001b[0m \u001b[1;33m=\u001b[0m \u001b[0mfit_function\u001b[0m\u001b[1;33m(\u001b[0m\u001b[0mins_batch\u001b[0m\u001b[1;33m)\u001b[0m\u001b[1;33m\u001b[0m\u001b[1;33m\u001b[0m\u001b[0m\n\u001b[0m\u001b[0;32m    197\u001b[0m                 \u001b[0mouts\u001b[0m \u001b[1;33m=\u001b[0m \u001b[0mto_list\u001b[0m\u001b[1;33m(\u001b[0m\u001b[0mouts\u001b[0m\u001b[1;33m)\u001b[0m\u001b[1;33m\u001b[0m\u001b[1;33m\u001b[0m\u001b[0m\n\u001b[0;32m    198\u001b[0m                 \u001b[1;32mfor\u001b[0m \u001b[0ml\u001b[0m\u001b[1;33m,\u001b[0m \u001b[0mo\u001b[0m \u001b[1;32min\u001b[0m \u001b[0mzip\u001b[0m\u001b[1;33m(\u001b[0m\u001b[0mout_labels\u001b[0m\u001b[1;33m,\u001b[0m \u001b[0mouts\u001b[0m\u001b[1;33m)\u001b[0m\u001b[1;33m:\u001b[0m\u001b[1;33m\u001b[0m\u001b[1;33m\u001b[0m\u001b[0m\n",
      "\u001b[1;32mC:\\ProgramData\\Anaconda3\\lib\\site-packages\\tensorflow_core\\python\\keras\\backend.py\u001b[0m in \u001b[0;36m__call__\u001b[1;34m(self, inputs)\u001b[0m\n\u001b[0;32m   3474\u001b[0m \u001b[1;33m\u001b[0m\u001b[0m\n\u001b[0;32m   3475\u001b[0m     fetched = self._callable_fn(*array_vals,\n\u001b[1;32m-> 3476\u001b[1;33m                                 run_metadata=self.run_metadata)\n\u001b[0m\u001b[0;32m   3477\u001b[0m     \u001b[0mself\u001b[0m\u001b[1;33m.\u001b[0m\u001b[0m_call_fetch_callbacks\u001b[0m\u001b[1;33m(\u001b[0m\u001b[0mfetched\u001b[0m\u001b[1;33m[\u001b[0m\u001b[1;33m-\u001b[0m\u001b[0mlen\u001b[0m\u001b[1;33m(\u001b[0m\u001b[0mself\u001b[0m\u001b[1;33m.\u001b[0m\u001b[0m_fetches\u001b[0m\u001b[1;33m)\u001b[0m\u001b[1;33m:\u001b[0m\u001b[1;33m]\u001b[0m\u001b[1;33m)\u001b[0m\u001b[1;33m\u001b[0m\u001b[1;33m\u001b[0m\u001b[0m\n\u001b[0;32m   3478\u001b[0m     output_structure = nest.pack_sequence_as(\n",
      "\u001b[1;32mC:\\ProgramData\\Anaconda3\\lib\\site-packages\\tensorflow_core\\python\\client\\session.py\u001b[0m in \u001b[0;36m__call__\u001b[1;34m(self, *args, **kwargs)\u001b[0m\n\u001b[0;32m   1470\u001b[0m         ret = tf_session.TF_SessionRunCallable(self._session._session,\n\u001b[0;32m   1471\u001b[0m                                                \u001b[0mself\u001b[0m\u001b[1;33m.\u001b[0m\u001b[0m_handle\u001b[0m\u001b[1;33m,\u001b[0m \u001b[0margs\u001b[0m\u001b[1;33m,\u001b[0m\u001b[1;33m\u001b[0m\u001b[1;33m\u001b[0m\u001b[0m\n\u001b[1;32m-> 1472\u001b[1;33m                                                run_metadata_ptr)\n\u001b[0m\u001b[0;32m   1473\u001b[0m         \u001b[1;32mif\u001b[0m \u001b[0mrun_metadata\u001b[0m\u001b[1;33m:\u001b[0m\u001b[1;33m\u001b[0m\u001b[1;33m\u001b[0m\u001b[0m\n\u001b[0;32m   1474\u001b[0m           \u001b[0mproto_data\u001b[0m \u001b[1;33m=\u001b[0m \u001b[0mtf_session\u001b[0m\u001b[1;33m.\u001b[0m\u001b[0mTF_GetBuffer\u001b[0m\u001b[1;33m(\u001b[0m\u001b[0mrun_metadata_ptr\u001b[0m\u001b[1;33m)\u001b[0m\u001b[1;33m\u001b[0m\u001b[1;33m\u001b[0m\u001b[0m\n",
      "\u001b[1;31mKeyboardInterrupt\u001b[0m: "
     ]
    }
   ],
   "source": [
    "import keras\n",
    "from keras.models import Sequential\n",
    "from keras.layers import Dense, Dropout, Activation, Flatten\n",
    "from keras.layers import Conv2D, MaxPooling2D\n",
    "from sklearn.model_selection import StratifiedKFold\n",
    "batch_size = 32\n",
    "num_classes = 2\n",
    "epochs = 110\n",
    "\n",
    "# convert class vectors to binary class matrices\n",
    "\n",
    "kf = StratifiedKFold(n_splits=5, shuffle = True)\n",
    "acc_row = []\n",
    "lst = []\n",
    "for train_index, test_index in kf.split(X, y):\n",
    "    x_train, x_test = X[train_index], X[test_index]\n",
    "    y_train, y_test = y[train_index], y[test_index]\n",
    "    y_train = keras.utils.to_categorical(y_train, num_classes)\n",
    "    y_test = keras.utils.to_categorical(y_test, num_classes)\n",
    "    x_train = x_train.astype('float32')\n",
    "    x_test = x_test.astype('float32')\n",
    "    model = Sequential()\n",
    "    model.add(Conv2D(32, (3, 3), padding='same',input_shape=input_shape))\n",
    "    model.add(Activation('relu'))\n",
    "    model.add(Conv2D(32, (3, 3)))\n",
    "    model.add(Activation('relu'))\n",
    "    model.add(MaxPooling2D(pool_size=(2, 2)))\n",
    "    #model.add(Dropout(0.25))\n",
    "\n",
    "    model.add(Flatten())\n",
    "    model.add(Dense(10))\n",
    "    model.add(Activation('relu'))\n",
    "    #model.add(Dropout(0.5))\n",
    "    model.add(Dense(num_classes))\n",
    "    model.add(Activation('softmax'))\n",
    "\n",
    "    # initiate RMSprop optimizer\n",
    "    opt = keras.optimizers.rmsprop(lr=0.0001, decay=1e-6)\n",
    "\n",
    "    # Let's train the model using RMSprop\n",
    "    model.compile(loss='categorical_crossentropy',\n",
    "                  optimizer=opt,\n",
    "                  metrics=['accuracy'])\n",
    "\n",
    "    #x_train = x_train.astype('float32')\n",
    "    #x_test = x_test.astype('float32')\n",
    "    #x_train /= 255\n",
    "    #x_test /= 255\n",
    "\n",
    "\n",
    "    model.fit(x_train, y_train,\n",
    "              batch_size=batch_size,\n",
    "              epochs=epochs,\n",
    "              validation_split = 0.1)\n",
    "    lst.append(model.evaluate(x_test, y_test))\n",
    "    print(lst)"
   ]
  },
  {
   "cell_type": "code",
   "execution_count": 19,
   "metadata": {},
   "outputs": [],
   "source": [
    "model.save('path_to_my_model.h5')"
   ]
  },
  {
   "cell_type": "code",
   "execution_count": 52,
   "metadata": {},
   "outputs": [
    {
     "name": "stdout",
     "output_type": "stream",
     "text": [
      "120/120 [==============================] - 0s 1ms/step\n"
     ]
    },
    {
     "data": {
      "text/plain": [
       "[0.4470618307590485, 0.8083333373069763]"
      ]
     },
     "execution_count": 52,
     "metadata": {},
     "output_type": "execute_result"
    }
   ],
   "source": [
    "model.evaluate(x_test, y_test)"
   ]
  },
  {
   "cell_type": "code",
   "execution_count": 53,
   "metadata": {},
   "outputs": [
    {
     "name": "stdout",
     "output_type": "stream",
     "text": [
      "Accuracy = 0.17500000000000004 1/1Interpolating 1/1Interpolating 1/1Interpolating 1/1Interpolating 1/1Interpolating 1/1Interpolating 1/1Interpolating 1/1Interpolating 1/1Interpolating 1/1Interpolating 1/1Interpolating 1/1Interpolating 1/1Interpolating 1/1Interpolating 1/1\n",
      "Accuracy = 0.6251Interpolating 1/1Interpolating 1/1Interpolating 1/1Interpolating 1/1Interpolating 1/1Interpolating 1/1Interpolating 1/1Interpolating 1/1Interpolating 1/1Interpolating 1/1Interpolating 1/1Interpolating 1/1Interpolating 1/1Interpolating 1/1\n"
     ]
    }
   ],
   "source": [
    "from test_pipeline import  TestPipelineEEG\n",
    "import pandas as pd\n",
    "import pickle\n",
    "import numpy as np\n",
    "predictor = TestPipelineEEG(image_size = 28, frame_duration = 0.78, overlap = 0.0, model_path = '80_model.h5', normalize = False)\n",
    "data = pd.read_csv('data/data_train_new_appr_5_label0.csv')\n",
    "data.columns = range(14)\n",
    "lst = []\n",
    "for i in range(200):\n",
    "    lst.append(predictor.evaluate(data.iloc[i*100:i*100+100]))\n",
    "print(\"Accuracy = {}\".format(1-np.sum(lst)/len(lst)))\n",
    "\n",
    "data = pd.read_csv('data/data_train_new_appr_6_label1.csv')\n",
    "data.columns = range(14)\n",
    "lst = []\n",
    "for i in range(200):\n",
    "    lst.append(predictor.evaluate(data.iloc[i*100:i*100+100]))\n",
    "print(\"Accuracy = {}\".format(np.sum(lst)/len(lst)))"
   ]
  },
  {
   "cell_type": "code",
   "execution_count": null,
   "metadata": {},
   "outputs": [],
   "source": []
  }
 ],
 "metadata": {
  "anaconda-cloud": {},
  "kernelspec": {
   "display_name": "Python 3",
   "language": "python",
   "name": "python3"
  },
  "language_info": {
   "codemirror_mode": {
    "name": "ipython",
    "version": 3
   },
   "file_extension": ".py",
   "mimetype": "text/x-python",
   "name": "python",
   "nbconvert_exporter": "python",
   "pygments_lexer": "ipython3",
   "version": "3.7.4"
  }
 },
 "nbformat": 4,
 "nbformat_minor": 1
}
