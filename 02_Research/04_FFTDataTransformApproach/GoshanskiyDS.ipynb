{
 "cells": [
  {
   "cell_type": "code",
   "execution_count": 1,
   "metadata": {},
   "outputs": [],
   "source": [
    "from eeg_learn_functions import *"
   ]
  },
  {
   "cell_type": "code",
   "execution_count": 2,
   "metadata": {},
   "outputs": [
    {
     "data": {
      "text/html": [
       "<style>.container { width:100% !important; }</style>"
      ],
      "text/plain": [
       "<IPython.core.display.HTML object>"
      ]
     },
     "metadata": {},
     "output_type": "display_data"
    }
   ],
   "source": [
    "import pandas as pd\n",
    "import numpy as np\n",
    "import matplotlib.pyplot as plt\n",
    "import seaborn as sns\n",
    "import scipy.stats as scs\n",
    "import re\n",
    "from numpy import genfromtxt\n",
    "\n",
    "%matplotlib inline\n",
    "plt.style.use('ggplot')\n",
    "from IPython.core.display import display, HTML\n",
    "display(HTML(\"<style>.container { width:100% !important; }</style>\"))\n",
    "plt.rcParams[\"figure.figsize\"] = (12,12)\n",
    "pd.options.display.max_columns = None\n",
    "pd.options.display.precision = 4"
   ]
  },
  {
   "cell_type": "code",
   "execution_count": 3,
   "metadata": {
    "scrolled": true
   },
   "outputs": [
    {
     "name": "stderr",
     "output_type": "stream",
     "text": [
      "Using TensorFlow backend.\n"
     ]
    }
   ],
   "source": [
    "import numpy as np\n",
    "from keras import layers\n",
    "from keras.layers import Input, Add, Dense, Activation, ZeroPadding2D, BatchNormalization, Flatten, Conv2D, AveragePooling2D, MaxPooling2D, GlobalMaxPooling2D\n",
    "from keras.models import Model, load_model\n",
    "from keras.preprocessing import image\n",
    "from keras.utils import layer_utils\n",
    "from keras.utils.data_utils import get_file\n",
    "from keras.applications.imagenet_utils import preprocess_input\n",
    "#import pydot\n",
    "from IPython.display import SVG\n",
    "from keras.utils.vis_utils import model_to_dot\n",
    "from keras.utils import plot_model\n",
    "from resnets_utils import *\n",
    "from keras.initializers import glorot_uniform\n",
    "import scipy.misc\n",
    "from matplotlib.pyplot import imshow\n",
    "%matplotlib inline\n",
    "\n",
    "import keras.backend as K\n",
    "K.set_image_data_format('channels_last')\n",
    "K.set_learning_phase(1)\n",
    "from keras.utils import to_categorical"
   ]
  },
  {
   "cell_type": "code",
   "execution_count": 4,
   "metadata": {},
   "outputs": [],
   "source": [
    "#from collections import deque"
   ]
  },
  {
   "cell_type": "code",
   "execution_count": 5,
   "metadata": {},
   "outputs": [],
   "source": [
    "#d = deque([{'data': [28, 1, 4206.538, 4202.473, 4205.879, 4206.648, 4205.22, 4204.744, 4202.363, 4207.088, 4208.15, 4207.857, 4263.919, 4958.004, 4205.659, 4218.114, 0.0, 0, []], 'time': 1588618461.4657}, {'data': [29, 1, 4207.051, 4202.198, 4206.081, 4206.593, 4205.238, 4204.744, 4201.886, 4207.454, 4208.498, 4206.685, 4263.37, 4957.784, 4205.458, 4218.223, 0.0, 0, []], 'time': 1588618461.4736}, {'data': [30, 0, 4207.564, 4201.923, 4206.282, 4206.538, 4205.256, 4204.744, 4201.41, 4207.821, 4208.846, 4205.513, 4262.821, 4957.564, 4205.256, 4218.333, 0.0, 0, []], 'time': 1588618461.4816}, {'data': [31, 0, 4204.359, 4203.846, 4207.692, 4206.795, 4204.615, 4205.385, 4200.641, 4207.179, 4206.923, 4210.256, 4266.282, 4961.795, 4204.744, 4217.564, 0.0, 0, []], 'time': 1588618461.4896}, {'data': [32, 0, 4205.0, 4207.051, 4205.0, 4207.051, 4204.872, 4205.641, 4198.718, 4206.923, 4207.308, 4206.923, 4268.205, 4961.667, 4207.051, 4216.154, 0.0, 0, []], 'time': 1588618461.4976}], maxlen=5)"
   ]
  },
  {
   "cell_type": "code",
   "execution_count": 6,
   "metadata": {},
   "outputs": [],
   "source": [
    "#d[0]['time']"
   ]
  },
  {
   "cell_type": "code",
   "execution_count": 7,
   "metadata": {},
   "outputs": [],
   "source": [
    "#l = []\n",
    "#for i in list(d):\n",
    "#    l.append(i['data'][2:16])\n",
    "#l"
   ]
  },
  {
   "cell_type": "markdown",
   "metadata": {},
   "source": [
    "## Brainwave Frequencies:\n",
    "Gamma, 30 to 50 Hz.  \n",
    "Beta, 14 to 30 Hz.  \n",
    "Alpha, 8 to 14 Hz.  \n",
    "Theta, 4 to 8 Hz.  \n",
    "Delta, 0.1 to 4 Hz.  "
   ]
  },
  {
   "cell_type": "markdown",
   "metadata": {},
   "source": [
    "## Changing Bin Size: \n",
    "https://stackoverflow.com/questions/25735153/plotting-a-fast-fourier-transform-in-python  \n",
    "(Search for 'bin')"
   ]
  },
  {
   "cell_type": "markdown",
   "metadata": {},
   "source": [
    "An EEG processing library:  \n",
    "https://github.com/pbashivan/EEGLearn"
   ]
  },
  {
   "cell_type": "code",
   "execution_count": 8,
   "metadata": {},
   "outputs": [],
   "source": [
    "theta = (2,8)\n",
    "alpha = (8,12)\n",
    "beta = (12,40)"
   ]
  },
  {
   "cell_type": "code",
   "execution_count": 9,
   "metadata": {},
   "outputs": [],
   "source": [
    "def get_fft(snippet):\n",
    "    Fs = 128.0\n",
    "    #Fs = 100.0;  # sampling rate\n",
    "    #Ts = len(snippet)/Fs/Fs; # sampling interval\n",
    "    snippet_time = len(snippet)/Fs\n",
    "    Ts = 1.0/Fs; # sampling interval\n",
    "    t = np.arange(0,snippet_time,Ts) # time vector\n",
    "\n",
    "    # ff = 5;   # frequency of the signal\n",
    "    # y = np.sin(2*np.pi*ff*t)\n",
    "    y = snippet\n",
    "#     print('Ts: ',Ts)\n",
    "#     print(t)\n",
    "#     print(y.shape)\n",
    "    n = len(y) # length of the signal\n",
    "    k = np.arange(n)\n",
    "    T = n/Fs\n",
    "    frq = k/T # two sides frequency range\n",
    "    frq = frq[range(n//2)] # one side frequency range\n",
    "\n",
    "    Y = np.fft.fft(y)/n # fft computing and normalization\n",
    "    Y = Y[range(n//2)]\n",
    "    #Added in: (To remove bias.)\n",
    "    #Y[0] = 0\n",
    "    return frq,abs(Y)\n",
    "#f,Y = get_fft(np.hanning(len(snippet))*snippet)"
   ]
  },
  {
   "cell_type": "code",
   "execution_count": 10,
   "metadata": {},
   "outputs": [],
   "source": [
    "def theta_alpha_beta_averages(f,Y):\n",
    "    theta_range = (2,8)\n",
    "    alpha_range = (8,12)\n",
    "    beta_range = (12,40)\n",
    "    theta = Y[(f>theta_range[0]) & (f<=theta_range[1])].mean()\n",
    "    alpha = Y[(f>alpha_range[0]) & (f<=alpha_range[1])].mean()\n",
    "    beta = Y[(f>beta_range[0]) & (f<=beta_range[1])].mean()\n",
    "    return theta, alpha, beta"
   ]
  },
  {
   "cell_type": "code",
   "execution_count": 11,
   "metadata": {},
   "outputs": [],
   "source": [
    "def make_steps(samples,frame_duration,overlap):\n",
    "    '''\n",
    "    in:\n",
    "    samples - number of samples in the session\n",
    "    frame_duration - frame duration in seconds \n",
    "    overlap - float fraction of frame to overlap in range (0,1)\n",
    "    \n",
    "    out: list of tuple ranges\n",
    "    '''\n",
    "    #steps = np.arange(0,len(df),frame_length)\n",
    "    #Fs = 100.0\n",
    "    Fs = 128.0\n",
    "    i = 0\n",
    "    intervals = []\n",
    "    #samples_per_frame = Fs * frame_duration\n",
    "    samples_per_frame = 100\n",
    "    while i+samples_per_frame <= samples:\n",
    "        intervals.append((i,i+samples_per_frame))\n",
    "        i = i + samples_per_frame - int(samples_per_frame*overlap)\n",
    "    return intervals"
   ]
  },
  {
   "cell_type": "code",
   "execution_count": 12,
   "metadata": {},
   "outputs": [],
   "source": [
    "def make_frames(df,frame_duration):\n",
    "    '''\n",
    "    in: dataframe or array with all channels, frame duration in seconds\n",
    "    out: array of theta, alpha, beta averages for each probe for each time step\n",
    "        shape: (n-frames,m-probes,k-brainwave bands)\n",
    "    '''\n",
    "    #Fs = 100.0\n",
    "    Fs = 128.0\n",
    "    frame_length = Fs*frame_duration\n",
    "    frames = []\n",
    "    steps = make_steps(len(df),frame_duration,overlap)\n",
    "    for i,_ in enumerate(steps):\n",
    "        frame = []\n",
    "        if i == 0:\n",
    "            continue\n",
    "        else:\n",
    "            for channel in df.columns:\n",
    "                snippet = np.array(df.loc[steps[i][0]:steps[i][1],int(channel)])\n",
    "                f,Y =  get_fft(snippet)\n",
    "                theta, alpha, beta = theta_alpha_beta_averages(f,Y)\n",
    "                frame.append([theta, alpha, beta])\n",
    "            \n",
    "        frames.append(frame)\n",
    "    return np.array(frames)"
   ]
  },
  {
   "cell_type": "code",
   "execution_count": 13,
   "metadata": {},
   "outputs": [],
   "source": [
    "locs_2d = [(-2.0,4.0),\n",
    "           (2.0,4.0),\n",
    "           (-1.0,3.0),\n",
    "           (1.0,3.0),\n",
    "           (-3.0,3.0),\n",
    "           (3.0,3.0),\n",
    "           (-2.0,2.0),\n",
    "           (2.0,2.0),\n",
    "           (-2.0,-2.0),\n",
    "           (2.0,-2.0),\n",
    "           (-4.0,1.0),\n",
    "           (4.0,1.0),\n",
    "           (-1.0,-3.0),\n",
    "           (1.0,-3.0)]"
   ]
  },
  {
   "cell_type": "code",
   "execution_count": 43,
   "metadata": {},
   "outputs": [],
   "source": [
    "def make_data_pipeline(file_names,labels,image_size,frame_duration,overlap):\n",
    "    '''\n",
    "    IN: \n",
    "    file_names - list of strings for each input file (one for each subject)\n",
    "    labels - list of labels for each\n",
    "    image_size - int size of output images in form (x, x)\n",
    "    frame_duration - time length of each frame (seconds)\n",
    "    overlap - float fraction of frame to overlap in range (0,1)\n",
    "    \n",
    "    OUT:\n",
    "    X: np array of frames (unshuffled)\n",
    "    y: np array of label for each frame (1 or 0)\n",
    "    '''\n",
    "    ##################################\n",
    "    ###Still need to do the overlap###!!!\n",
    "    ##################################\n",
    "    \n",
    "    #Fs = 100.0   #sampling rate\n",
    "    Fs = 128\n",
    "    frame_length =  Fs * frame_duration\n",
    "    \n",
    "    print('Generating training data...')\n",
    "    \n",
    "    \n",
    "    for i, file in enumerate(file_names):\n",
    "        print ('Processing session: ',file, '. (',i+1,' of ',len(file_names),')')\n",
    "        data = genfromtxt(file, delimiter=',')#.T\n",
    "        df = pd.DataFrame(data)\n",
    "        \n",
    "        X_0 = make_frames(df,frame_duration)\n",
    "        #steps = np.arange(0,len(df),frame_length)\n",
    "        X_1 = X_0.reshape(len(X_0),14*3)\n",
    "        \n",
    "        images = gen_images(np.array(locs_2d),X_1, image_size, normalize=False)\n",
    "        images = np.swapaxes(images, 1, 3) \n",
    "        print(len(images), ' frames generated with label ', labels[i], '.')\n",
    "        print('\\n')\n",
    "        if i == 0:\n",
    "            X = images\n",
    "            y = np.ones(len(images))*labels[0]\n",
    "        else:\n",
    "            X = np.concatenate((X,images),axis = 0)\n",
    "            y = np.concatenate((y,np.ones(len(images))*labels[i]),axis = 0)\n",
    "        \n",
    "        \n",
    "    return X,np.array(y)"
   ]
  },
  {
   "cell_type": "code",
   "execution_count": 44,
   "metadata": {},
   "outputs": [],
   "source": [
    "#data_0 = pd.read_csv('Data for CNN\\\\data_0.csv')\n",
    "#data_1 = pd.read_csv('Data for CNN\\\\data_1.csv')\n",
    "#print(data_0.shape, data_1.shape)"
   ]
  },
  {
   "cell_type": "code",
   "execution_count": 45,
   "metadata": {},
   "outputs": [],
   "source": [
    "#data = pd.read_csv('Data_07_05\\\\Data_new_7_label0_07.05.20_10.54.50.md.csv', skiprows = 1)\n",
    "#columns = ['EEG.AF3', 'EEG.F7', 'EEG.F3', 'EEG.FC5', 'EEG.T7', 'EEG.P7', 'EEG.O1',\n",
    "#           'EEG.O2', 'EEG.P8', 'EEG.T8', 'EEG.FC6', 'EEG.F4', 'EEG.F8', 'EEG.AF4']\n",
    "#data[columns].head()"
   ]
  },
  {
   "cell_type": "code",
   "execution_count": 46,
   "metadata": {},
   "outputs": [],
   "source": [
    "# = 'Data_07_05\\\\Data_new_7_label0_07.05.20_10.54.50.md.csv'\n",
    "#[11:]"
   ]
  },
  {
   "cell_type": "code",
   "execution_count": 47,
   "metadata": {},
   "outputs": [],
   "source": [
    "def prepare_new_data(filenames):\n",
    "    columns = ['EEG.AF3', 'EEG.F7', 'EEG.F3', 'EEG.FC5', 'EEG.T7', 'EEG.P7', 'EEG.O1',\n",
    "           'EEG.O2', 'EEG.P8', 'EEG.T8', 'EEG.FC6', 'EEG.F4', 'EEG.F8', 'EEG.AF4']\n",
    "    for i in filenames:\n",
    "        df = pd.read_csv(i, skiprows = 1)\n",
    "        df[columns].to_csv('Data_07_05\\\\prepared\\\\'+i[11:], index = False)"
   ]
  },
  {
   "cell_type": "code",
   "execution_count": 69,
   "metadata": {},
   "outputs": [],
   "source": [
    "file_names_1 = ['Data_07_05\\\\Data_new_7_label0_07.05.20_10.54.50.md.csv',\n",
    "             'Data_07_05\\\\Data_new_8_label1_07.05.20_10.59.25.md.csv',\n",
    "             'Data_07_05\\\\Data_new_9_label2_07.05.20_11.04.57.md.csv',\n",
    "             'Data_07_05\\\\Data_new_10_label0_07.05.20_11.45.24.md.csv',\n",
    "             'Data_07_05\\\\Data_new_11_label1_07.05.20_11.51.24.md.csv',\n",
    "             'Data_07_05\\\\Data_new_12_label2_07.05.20_11.57.15.md.csv',\n",
    "             'Data_07_05\\\\Data_new_13_label0_08.05.20_11.15.15.md.csv',\n",
    "             'Data_07_05\\\\Data_new_14_label1_08.05.20_11.21.51.md.csv',\n",
    "             'Data_07_05\\\\Data_new_15_label2_08.05.20_11.36.34.md.csv',\n",
    "             'Data_07_05\\\\Data_new_16_label0_08.05.20_11.40.33.md.csv',\n",
    "             'Data_07_05\\\\Data_new_17_label1_08.05.20_11.45.38.md.csv',\n",
    "             'Data_07_05\\\\Data_new_18_label2_08.05.20_11.50.42.md.csv',\n",
    "             'Data_07_05\\\\Data_new_19_label0_10.05.20_11.07.13.md.csv',\n",
    "             'Data_07_05\\\\Data_new_20_label1_10.05.20_11.11.09.md.csv',\n",
    "             'Data_07_05\\\\Data_new_21_label2_10.05.20_11.15.31.md.csv',\n",
    "                'Data_07_05\\\\Data_new_22_label0_10.05.20_11.29.21.md.csv',\n",
    "               'Data_07_05\\\\Data_new_23_label1_10.05.20_11.32.52.md.csv',\n",
    "               'Data_07_05\\\\Data_new_24_label2_10.05.20_11.37.08.md.csv',\n",
    "               'Data_07_05\\\\Data_new_25_label0_11.05.20_10.11.23.md.csv',\n",
    "               'Data_07_05\\\\Data_new_26_label1_11.05.20_10.15.05.md.csv',\n",
    "               'Data_07_05\\\\Data_new_27_label2_11.05.20_10.19.25.md.csv',\n",
    "               'Data_07_05\\\\Data_new_28_label0_11.05.20_10.27.39.md.csv',\n",
    "               'Data_07_05\\\\Data_new_29_label1_11.05.20_10.33.00.md.csv',\n",
    "               'Data_07_05\\\\Data_new_30_label2_11.05.20_10.38.09.md.csv']\n",
    "prepare_new_data(file_names_1)"
   ]
  },
  {
   "cell_type": "code",
   "execution_count": 70,
   "metadata": {
    "scrolled": true
   },
   "outputs": [
    {
     "name": "stdout",
     "output_type": "stream",
     "text": [
      "Generating training data...\n",
      "Processing session:  Data_07_05\\prepared\\Data_new_7_label0_07.05.20_10.54.50.md.csv . ( 1  of  21 )\n",
      "830  frames generated with label  0 .830Interpolating 110/830Interpolating 147/830Interpolating 184/830Interpolating 222/830Interpolating 294/830Interpolating 333/830Interpolating 371/830Interpolating 409/830Interpolating 446/830Interpolating 481/830Interpolating 515/830Interpolating 554/830Interpolating 632/830Interpolating 663/830Interpolating 699/830Interpolating 738/830Interpolating 773/830Interpolating 811/830\n",
      "\n",
      "\n",
      "Processing session:  Data_07_05\\prepared\\Data_new_8_label1_07.05.20_10.59.25.md.csv . ( 2  of  21 )\n",
      "839  frames generated with label  1 .839Interpolating 72/839Interpolating 141/839Interpolating 174/839Interpolating 209/839Interpolating 277/839Interpolating 413/839Interpolating 447/839Interpolating 519/839Interpolating 572/839Interpolating 609/839Interpolating 698/839Interpolating 735/839Interpolating 801/839Interpolating 835/839\n",
      "\n",
      "\n",
      "Processing session:  Data_07_05\\prepared\\Data_new_9_label2_07.05.20_11.04.57.md.csv . ( 3  of  21 )\n",
      "841  frames generated with label  2 .841Interpolating 70/841Interpolating 107/841Interpolating 214/841Interpolating 357/841Interpolating 422/841Interpolating 526/841Interpolating 593/841Interpolating 627/841Interpolating 656/841Interpolating 693/841Interpolating 730/841Interpolating 763/841Interpolating 800/841Interpolating 838/841\n",
      "\n",
      "\n",
      "Processing session:  Data_07_05\\prepared\\Data_new_10_label0_07.05.20_11.45.24.md.csv . ( 4  of  21 )\n",
      "838  frames generated with label  0 .838Interpolating 74/838Interpolating 106/838Interpolating 141/838Interpolating 179/838Interpolating 253/838Interpolating 288/838Interpolating 322/838Interpolating 358/838Interpolating 432/838Interpolating 506/838Interpolating 538/838Interpolating 573/838Interpolating 645/838Interpolating 713/838Interpolating 787/838Interpolating 824/838\n",
      "\n",
      "\n",
      "Processing session:  Data_07_05\\prepared\\Data_new_11_label1_07.05.20_11.51.24.md.csv . ( 5  of  21 )\n",
      "849  frames generated with label  1 .849Interpolating 109/849Interpolating 146/849Interpolating 183/849Interpolating 219/849Interpolating 285/849Interpolating 321/849Interpolating 358/849Interpolating 392/849Interpolating 430/849Interpolating 499/849Interpolating 535/849Interpolating 573/849Interpolating 610/849Interpolating 646/849Interpolating 680/849Interpolating 718/849Interpolating 755/849Interpolating 791/849Interpolating 827/849\n",
      "\n",
      "\n",
      "Processing session:  Data_07_05\\prepared\\Data_new_12_label2_07.05.20_11.57.15.md.csv . ( 6  of  21 )\n",
      "840  frames generated with label  2 .840Interpolating 76/840Interpolating 112/840Interpolating 217/840Interpolating 254/840Interpolating 327/840Interpolating 364/840Interpolating 433/840Interpolating 469/840Interpolating 507/840Interpolating 545/840Interpolating 580/840Interpolating 617/840Interpolating 653/840Interpolating 690/840Interpolating 724/840\n",
      "\n",
      "\n",
      "Processing session:  Data_07_05\\prepared\\Data_new_13_label0_08.05.20_11.15.15.md.csv . ( 7  of  21 )\n",
      "839  frames generated with label  0 .839Interpolating 98/839Interpolating 167/839Interpolating 332/839Interpolating 368/839Interpolating 404/839Interpolating 435/839Interpolating 471/839Interpolating 537/839Interpolating 606/839Interpolating 641/839Interpolating 673/839Interpolating 746/839Interpolating 829/839\n",
      "\n",
      "\n",
      "Processing session:  Data_07_05\\prepared\\Data_new_14_label1_08.05.20_11.21.51.md.csv . ( 8  of  21 )\n",
      "843  frames generated with label  1 .843Interpolating 338/843Interpolating 424/843Interpolating 589/843Interpolating 645/843Interpolating 741/843Interpolating 805/843\n",
      "\n",
      "\n",
      "Processing session:  Data_07_05\\prepared\\Data_new_15_label2_08.05.20_11.36.34.md.csv . ( 9  of  21 )\n",
      "Interpolating 842/842nterpolating 40/842Interpolating 77/842Interpolating 145/842Interpolating 218/842Interpolating 254/842Interpolating 292/842Interpolating 330/842Interpolating 395/842Interpolating 433/842Interpolating 471/842Interpolating 508/842Interpolating 542/842Interpolating 614/842Interpolating 653/842Interpolating 693/842Interpolating 731/842Interpolating 805/842842  frames generated with label  2 .\n",
      "\n",
      "\n",
      "Processing session:  Data_07_05\\prepared\\Data_new_16_label0_08.05.20_11.40.33.md.csv . ( 10  of  21 )\n",
      "848  frames generated with label  0 .848Interpolating 74/848Interpolating 143/848Interpolating 177/848Interpolating 215/848Interpolating 288/848Interpolating 304/848Interpolating 340/848Interpolating 378/848Interpolating 415/848Interpolating 453/848Interpolating 520/848Interpolating 558/848Interpolating 593/848Interpolating 632/848Interpolating 671/848Interpolating 708/848Interpolating 748/848Interpolating 783/848Interpolating 820/848\n",
      "\n",
      "\n",
      "Processing session:  Data_07_05\\prepared\\Data_new_17_label1_08.05.20_11.45.38.md.csv . ( 11  of  21 )\n",
      "845  frames generated with label  1 .845Interpolating 76/845Interpolating 113/845Interpolating 152/845Interpolating 191/845Interpolating 263/845Interpolating 299/845Interpolating 336/845Interpolating 374/845Interpolating 412/845Interpolating 448/845Interpolating 486/845Interpolating 523/845Interpolating 561/845Interpolating 600/845Interpolating 639/845Interpolating 676/845Interpolating 715/845Interpolating 752/845Interpolating 791/845Interpolating 826/845\n",
      "\n",
      "\n",
      "Processing session:  Data_07_05\\prepared\\Data_new_18_label2_08.05.20_11.50.42.md.csv . ( 12  of  21 )\n",
      "Interpolating 836/836nterpolating 39/836Interpolating 77/836Interpolating 116/836Interpolating 155/836Interpolating 195/836Interpolating 233/836Interpolating 273/836Interpolating 311/836Interpolating 349/836Interpolating 387/836Interpolating 424/836Interpolating 464/836Interpolating 501/836Interpolating 577/836Interpolating 652/836Interpolating 690/836Interpolating 728/836Interpolating 767/836Interpolating 805/836836  frames generated with label  2 .\n",
      "\n",
      "\n",
      "Processing session:  Data_07_05\\prepared\\Data_new_19_label0_10.05.20_11.07.13.md.csv . ( 13  of  21 )\n",
      "833  frames generated with label  0 .833Interpolating 114/833Interpolating 151/833Interpolating 188/833Interpolating 225/833Interpolating 261/833Interpolating 336/833Interpolating 375/833Interpolating 411/833Interpolating 443/833Interpolating 481/833Interpolating 588/833Interpolating 624/833Interpolating 662/833Interpolating 699/833Interpolating 735/833Interpolating 774/833Interpolating 811/833\n",
      "\n",
      "\n",
      "Processing session:  Data_07_05\\prepared\\Data_new_20_label1_10.05.20_11.11.09.md.csv . ( 14  of  21 )\n",
      "838  frames generated with label  1 .838Interpolating 69/838Interpolating 106/838Interpolating 396/838Interpolating 433/838Interpolating 470/838Interpolating 506/838Interpolating 611/838Interpolating 649/838Interpolating 686/838Interpolating 754/838Interpolating 793/838\n",
      "\n",
      "\n",
      "Processing session:  Data_07_05\\prepared\\Data_new_21_label2_10.05.20_11.15.31.md.csv . ( 15  of  21 )\n",
      "832  frames generated with label  2 .832Interpolating 109/832Interpolating 148/832Interpolating 187/832Interpolating 220/832Interpolating 254/832Interpolating 293/832Interpolating 368/832Interpolating 437/832Interpolating 476/832Interpolating 513/832Interpolating 620/832Interpolating 658/832Interpolating 695/832Interpolating 732/832Interpolating 768/832Interpolating 800/832\n",
      "\n",
      "\n",
      "Processing session:  Data_07_05\\prepared\\Data_new_22_label0_10.05.20_11.29.21.md.csv . ( 16  of  21 )\n",
      "839  frames generated with label  0 .839Interpolating 73/839Interpolating 112/839Interpolating 188/839Interpolating 227/839Interpolating 269/839Interpolating 308/839Interpolating 347/839Interpolating 384/839Interpolating 424/839Interpolating 465/839Interpolating 540/839Interpolating 579/839Interpolating 615/839Interpolating 693/839Interpolating 732/839Interpolating 772/839Interpolating 811/839\n",
      "\n",
      "\n",
      "Processing session:  Data_07_05\\prepared\\Data_new_23_label1_10.05.20_11.32.52.md.csv . ( 17  of  21 )\n",
      "843  frames generated with label  1 .843Interpolating 115/843Interpolating 258/843Interpolating 292/843Interpolating 329/843Interpolating 429/843Interpolating 466/843Interpolating 504/843Interpolating 542/843Interpolating 580/843Interpolating 618/843Interpolating 726/843Interpolating 803/843Interpolating 842/843\n",
      "\n",
      "\n",
      "Processing session:  Data_07_05\\prepared\\Data_new_24_label2_10.05.20_11.37.08.md.csv . ( 18  of  21 )\n"
     ]
    },
    {
     "name": "stdout",
     "output_type": "stream",
     "text": [
      "843  frames generated with label  2 .3/843Interpolating 190/843Interpolating 229/843Interpolating 340/843Interpolating 377/843Interpolating 417/843Interpolating 605/843Interpolating 643/843Interpolating 683/843Interpolating 722/843Interpolating 760/843Interpolating 799/843Interpolating 838/843\n",
      "\n",
      "\n",
      "Processing session:  Data_07_05\\prepared\\\\Data_new_25_label0_11.05.20_10.11.23.md.csv . ( 19  of  21 )\n",
      "841  frames generated with label  0 .5/841Interpolating 154/841Interpolating 343/841Interpolating 383/841Interpolating 419/841Interpolating 456/841\n",
      "\n",
      "\n",
      "Processing session:  Data_07_05\\prepared\\Data_new_26_label1_11.05.20_10.15.05.md.csv . ( 20  of  21 )\n",
      "848  frames generated with label  1 .848Interpolating 128/848Interpolating 165/848Interpolating 203/848Interpolating 241/848Interpolating 280/848Interpolating 318/848Interpolating 355/848Interpolating 526/848Interpolating 566/848Interpolating 607/848Interpolating 645/848Interpolating 684/848Interpolating 721/848Interpolating 760/848Interpolating 799/848Interpolating 835/848\n",
      "\n",
      "\n",
      "Processing session:  Data_07_05\\prepared\\Data_new_27_label2_11.05.20_10.19.25.md.csv . ( 21  of  21 )\n",
      "847  frames generated with label  2 .847Interpolating 77/847Interpolating 152/847Interpolating 191/847Interpolating 229/847Interpolating 268/847Interpolating 304/847Interpolating 343/847Interpolating 380/847Interpolating 419/847Interpolating 456/847Interpolating 495/847Interpolating 532/847Interpolating 571/847Interpolating 610/847Interpolating 686/847Interpolating 714/847Interpolating 753/847Interpolating 793/847Interpolating 831/847\n",
      "\n",
      "\n"
     ]
    }
   ],
   "source": [
    "#file_names = ['New_data_29_04\\\\data_train_new_appr_1_label1.csv',\n",
    "#              'New_data_29_04\\\\data_train_new_appr_2_label0.csv',\n",
    "#             'New_data_29_04\\\\data_train_new_appr_3_label1.csv',\n",
    "#             'New_data_29_04\\\\data_train_new_appr_4_label0.csv',\n",
    "#             'New_data_29_04\\\\data_train_new_appr_5_label0.csv',\n",
    "#             'New_data_29_04\\\\data_train_new_appr_6_label1.csv',\n",
    "#             'New_data_29_04\\\\data_train_new_appr_7_label0.csv',\n",
    "#             'New_data_29_04\\\\data_train_new_appr_8_label1.csv']\n",
    "#file_names = [#'New_data_29_04\\\\data_train_new_appr_3_label1.csv',\n",
    "             #'New_data_29_04\\\\data_train_new_appr_4_label0.csv',\n",
    "             #'New_data_29_04\\\\data_train_new_appr_5_label0.csv',\n",
    "             #'New_data_29_04\\\\data_train_new_appr_6_label1.csv',\n",
    "             #'New_data_29_04\\\\data_train_new_appr_7_label0.csv',\n",
    "             #'New_data_29_04\\\\data_train_new_appr_8_label1.csv',\n",
    "             #'New_data_29_04\\\\data_train_new_appr_9_label0.csv',\n",
    "             #'New_data_29_04\\\\data_train_new_appr_10_label1.csv',\n",
    "             #'New_data_29_04\\\\data_train_new_appr_11_label0.csv',\n",
    "             #'New_data_29_04\\\\data_train_new_appr_12_label1.csv',\n",
    "             #'New_data_29_04\\\\data_train_new_appr_13_label0.csv',\n",
    "             #'New_data_29_04\\\\data_train_new_appr_14_label1.csv']\n",
    "             #'New_data_29_04\\\\data_train_new_appr_15_label1.csv',\n",
    "             #'New_data_29_04\\\\data_train_new_appr_16_label0.csv',\n",
    "             #'New_data_29_04\\\\data_train_new_appr_17_label1.csv',\n",
    "             #'New_data_29_04\\\\data_train_new_appr_18_label0.csv']\n",
    "\n",
    "#file_names = [\n",
    "#    'New_data_29_04\\\\data_train_new_appr_9_label0_good.csv',\n",
    "#    'New_data_29_04\\\\data_train_new_appr_10_label1_good.csv',\n",
    "#    'New_data_29_04\\\\data_train_new_appr_11_label0_good.csv',\n",
    "#    'New_data_29_04\\\\data_train_new_appr_12_label1_good.csv',\n",
    "#    'New_data_29_04\\\\data_train_new_appr_13_label0_good.csv',\n",
    "#    'New_data_29_04\\\\data_train_new_appr_14_label1_good.csv',\n",
    "#    'New_data_29_04\\\\data_train_new_appr_21_label1_good.csv',\n",
    "#    'New_data_29_04\\\\data_train_new_appr_22_label0_good.csv',\n",
    "#    'New_data_29_04\\\\data_train_new_appr_23_label1_good.csv',\n",
    "#    'New_data_29_04\\\\data_train_new_appr_24_label0_good.csv',\n",
    "#]\n",
    "\n",
    "#labels = [1,0,0,1,0,1,0,1,0,1,0,1,1,0,1,0]\n",
    "#labels = [0, 1, 0, 1, 0, 1, 1, 0, 1, 0]\n",
    "\n",
    "file_names_2 = ['Data_07_05\\\\prepared\\\\Data_new_7_label0_07.05.20_10.54.50.md.csv',\n",
    "             'Data_07_05\\\\prepared\\\\Data_new_8_label1_07.05.20_10.59.25.md.csv',\n",
    "             'Data_07_05\\\\prepared\\\\Data_new_9_label2_07.05.20_11.04.57.md.csv',\n",
    "             'Data_07_05\\\\prepared\\\\Data_new_10_label0_07.05.20_11.45.24.md.csv',\n",
    "             'Data_07_05\\\\prepared\\\\Data_new_11_label1_07.05.20_11.51.24.md.csv',\n",
    "             'Data_07_05\\\\prepared\\\\Data_new_12_label2_07.05.20_11.57.15.md.csv',\n",
    "             'Data_07_05\\\\prepared\\\\Data_new_13_label0_08.05.20_11.15.15.md.csv',\n",
    "             'Data_07_05\\\\prepared\\\\Data_new_14_label1_08.05.20_11.21.51.md.csv',\n",
    "             'Data_07_05\\\\prepared\\\\Data_new_15_label2_08.05.20_11.36.34.md.csv',\n",
    "             'Data_07_05\\\\prepared\\\\Data_new_16_label0_08.05.20_11.40.33.md.csv',\n",
    "             'Data_07_05\\\\prepared\\\\Data_new_17_label1_08.05.20_11.45.38.md.csv',\n",
    "             'Data_07_05\\\\prepared\\\\Data_new_18_label2_08.05.20_11.50.42.md.csv',\n",
    "             'Data_07_05\\\\prepared\\\\Data_new_19_label0_10.05.20_11.07.13.md.csv',\n",
    "             'Data_07_05\\\\prepared\\\\Data_new_20_label1_10.05.20_11.11.09.md.csv',\n",
    "             'Data_07_05\\\\prepared\\\\Data_new_21_label2_10.05.20_11.15.31.md.csv',\n",
    "               'Data_07_05\\\\prepared\\\\Data_new_22_label0_10.05.20_11.29.21.md.csv',\n",
    "               'Data_07_05\\\\prepared\\\\Data_new_23_label1_10.05.20_11.32.52.md.csv',\n",
    "               'Data_07_05\\\\prepared\\\\Data_new_24_label2_10.05.20_11.37.08.md.csv',\n",
    "               'Data_07_05\\prepared\\\\\\Data_new_25_label0_11.05.20_10.11.23.md.csv',\n",
    "               'Data_07_05\\\\prepared\\\\Data_new_26_label1_11.05.20_10.15.05.md.csv',\n",
    "               'Data_07_05\\\\prepared\\\\Data_new_27_label2_11.05.20_10.19.25.md.csv']\n",
    "labels = [0,1,2,0,1,2,0,1,2,0,1,2,0,1,2,0,1,2,0,1,2]\n",
    "image_size = 28\n",
    "frame_duration = 0.78\n",
    "overlap = 0.8\n",
    "#overlap = 0\n",
    "X, y = make_data_pipeline(file_names_2,labels,image_size,frame_duration,overlap)"
   ]
  },
  {
   "cell_type": "code",
   "execution_count": 71,
   "metadata": {},
   "outputs": [
    {
     "name": "stdout",
     "output_type": "stream",
     "text": [
      "Generating training data...\n",
      "Processing session:  Data_07_05\\prepared\\Data_new_28_label0_11.05.20_10.27.39.md.csv . ( 1  of  3 )\n",
      "836  frames generated with label  0 .836Interpolating 77/836Interpolating 153/836Interpolating 192/836Interpolating 231/836Interpolating 269/836Interpolating 346/836Interpolating 423/836Interpolating 460/836Interpolating 498/836Interpolating 536/836Interpolating 573/836Interpolating 612/836Interpolating 652/836Interpolating 691/836Interpolating 726/836Interpolating 765/836Interpolating 804/836\n",
      "\n",
      "\n",
      "Processing session:  Data_07_05\\prepared\\Data_new_29_label1_11.05.20_10.33.00.md.csv . ( 2  of  3 )\n",
      "840  frames generated with label  40/840Interpolating 79/840Interpolating 118/840Interpolating 157/840Interpolating 194/840Interpolating 233/840Interpolating 270/840Interpolating 310/840Interpolating 390/840Interpolating 427/840Interpolating 464/840Interpolating 502/840Interpolating 581/840Interpolating 620/840Interpolating 658/840Interpolating 698/840Interpolating 734/840Interpolating 772/840Interpolating 810/8401 .\n",
      "\n",
      "\n",
      "Processing session:  Data_07_05\\prepared\\Data_new_30_label2_11.05.20_10.38.09.md.csv . ( 3  of  3 )\n",
      "846  frames generated with label  2 .846Interpolating 78/846Interpolating 118/846Interpolating 158/846Interpolating 197/846Interpolating 235/846Interpolating 274/846Interpolating 313/846Interpolating 350/846Interpolating 389/846Interpolating 464/846Interpolating 501/846Interpolating 540/846Interpolating 577/846Interpolating 616/846Interpolating 655/846Interpolating 692/846Interpolating 732/846Interpolating 771/846Interpolating 808/846Interpolating 845/846\n",
      "\n",
      "\n"
     ]
    }
   ],
   "source": [
    "#file_names = ['New_data_29_04\\\\data_train_new_appr_27_label1_good.csv',\n",
    "#              'New_data_29_04\\\\data_train_new_appr_28_label0_good.csv']\n",
    "\n",
    "#file_names = ['Data_06.05\\\\data_train_new_appr_4_label0.csv',\n",
    " #            'Data_06.05\\\\data_train_new_appr_5_label1.csv',\n",
    "#             'Data_06.05\\\\data_train_new_appr_6_label2.csv']\n",
    "file_names_test = ['Data_07_05\\\\prepared\\\\Data_new_28_label0_11.05.20_10.27.39.md.csv',\n",
    "               'Data_07_05\\\\prepared\\\\Data_new_29_label1_11.05.20_10.33.00.md.csv',\n",
    "               'Data_07_05\\\\prepared\\\\Data_new_30_label2_11.05.20_10.38.09.md.csv']\n",
    "\n",
    "labels = [0,1,2]\n",
    "image_size = 28\n",
    "frame_duration = 0.78\n",
    "overlap = 0.8\n",
    "#overlap = 0\n",
    "x_test, y_test = make_data_pipeline(file_names_test,labels,image_size,frame_duration,overlap)"
   ]
  },
  {
   "cell_type": "code",
   "execution_count": 72,
   "metadata": {},
   "outputs": [
    {
     "name": "stdout",
     "output_type": "stream",
     "text": [
      "Generating training data...\n",
      "Processing session:  Data_07_05\\prepared\\Data_new_28_label0_11.05.20_10.27.39.md.csv . ( 1  of  1 )\n",
      "Interpolating 836/836nterpolating 40/836Interpolating 118/836Interpolating 155/836Interpolating 194/836Interpolating 231/836Interpolating 270/836Interpolating 304/836Interpolating 339/836Interpolating 378/836Interpolating 454/836Interpolating 493/836Interpolating 533/836Interpolating 607/836Interpolating 646/836Interpolating 684/836Interpolating 723/836Interpolating 761/836Interpolating 801/836836  frames generated with label  0 .\n",
      "\n",
      "\n",
      "Generating training data...\n",
      "Processing session:  Data_07_05\\prepared\\Data_new_29_label1_11.05.20_10.33.00.md.csv . ( 1  of  1 )\n",
      "840  frames generated with label  1 .840Interpolating 117/840Interpolating 157/840Interpolating 196/840Interpolating 235/840Interpolating 273/840Interpolating 310/840Interpolating 347/840Interpolating 424/840Interpolating 463/840Interpolating 503/840Interpolating 540/840Interpolating 580/840Interpolating 618/840Interpolating 657/840Interpolating 733/840Interpolating 771/840Interpolating 811/840\n",
      "\n",
      "\n",
      "Generating training data...\n",
      "Processing session:  Data_07_05\\prepared\\Data_new_30_label2_11.05.20_10.38.09.md.csv . ( 1  of  1 )\n",
      "846  frames generated with label  2 .7/846Interpolating 141/846Interpolating 179/846Interpolating 426/846Interpolating 462/846Interpolating 499/846Interpolating 537/846Interpolating 573/846Interpolating 611/846Interpolating 649/846Interpolating 686/846Interpolating 726/846Interpolating 762/846Interpolating 797/846Interpolating 835/846\n",
      "\n",
      "\n"
     ]
    }
   ],
   "source": [
    "file_names = ['Data_07_05\\\\prepared\\\\Data_new_28_label0_11.05.20_10.27.39.md.csv',]\n",
    "labels = [0]\n",
    "image_size = 28\n",
    "frame_duration = 0.78\n",
    "overlap = 0.8\n",
    "#overlap = 0\n",
    "x_test_0, y_test_0 = make_data_pipeline(file_names,labels,image_size,frame_duration,overlap)\n",
    "\n",
    "file_names = ['Data_07_05\\\\prepared\\\\Data_new_29_label1_11.05.20_10.33.00.md.csv']\n",
    "labels = [1]\n",
    "image_size = 28\n",
    "frame_duration = 0.78\n",
    "overlap = 0.8\n",
    "#overlap = 0\n",
    "x_test_1, y_test_1 = make_data_pipeline(file_names,labels,image_size,frame_duration,overlap)\n",
    "\n",
    "file_names = ['Data_07_05\\\\prepared\\\\Data_new_30_label2_11.05.20_10.38.09.md.csv']\n",
    "labels = [2]\n",
    "image_size = 28\n",
    "frame_duration = 0.78\n",
    "overlap = 0.8\n",
    "#overlap = 0\n",
    "x_test_2, y_test_2 = make_data_pipeline(file_names,labels,image_size,frame_duration,overlap)"
   ]
  },
  {
   "cell_type": "code",
   "execution_count": 73,
   "metadata": {
    "scrolled": true
   },
   "outputs": [
    {
     "data": {
      "text/plain": [
       "(17654, 28, 28, 3)"
      ]
     },
     "execution_count": 73,
     "metadata": {},
     "output_type": "execute_result"
    }
   ],
   "source": [
    "X_mean = np.sum(X, axis = 0)/X.shape[0]\n",
    "X_mean[X_mean<0] = 0\n",
    "#plt.imshow(X_mean)\n",
    "X_after = X# - X_mean\n",
    "X_after.shape"
   ]
  },
  {
   "cell_type": "code",
   "execution_count": 74,
   "metadata": {},
   "outputs": [
    {
     "data": {
      "text/plain": [
       "(2522, 28, 28, 3)"
      ]
     },
     "execution_count": 74,
     "metadata": {},
     "output_type": "execute_result"
    }
   ],
   "source": [
    "X_mean_test = np.sum(x_test, axis = 0)/x_test.shape[0]\n",
    "X_mean_test[X_mean_test<0] = 0\n",
    "x_after_test = x_test# - X_mean#_test\n",
    "x_after_test.shape"
   ]
  },
  {
   "cell_type": "code",
   "execution_count": 75,
   "metadata": {
    "scrolled": true
   },
   "outputs": [
    {
     "name": "stderr",
     "output_type": "stream",
     "text": [
      "Clipping input data to the valid range for imshow with RGB data ([0..1] for floats or [0..255] for integers).\n"
     ]
    },
    {
     "name": "stdout",
     "output_type": "stream",
     "text": [
      "2.0\n"
     ]
    },
    {
     "data": {
      "image/png": "[encoded data removed]",
      "text/plain": [
       "<Figure size 432x288 with 1 Axes>"
      ]
     },
     "metadata": {
      "needs_background": "light"
     },
     "output_type": "display_data"
    },
    {
     "name": "stderr",
     "output_type": "stream",
     "text": [
      "Clipping input data to the valid range for imshow with RGB data ([0..1] for floats or [0..255] for integers).\n"
     ]
    },
    {
     "name": "stdout",
     "output_type": "stream",
     "text": [
      "2.0\n"
     ]
    },
    {
     "data": {
      "image/png": "[encoded data removed]",
      "text/plain": [
       "<Figure size 432x288 with 1 Axes>"
      ]
     },
     "metadata": {
      "needs_background": "light"
     },
     "output_type": "display_data"
    },
    {
     "name": "stderr",
     "output_type": "stream",
     "text": [
      "Clipping input data to the valid range for imshow with RGB data ([0..1] for floats or [0..255] for integers).\n"
     ]
    },
    {
     "name": "stdout",
     "output_type": "stream",
     "text": [
      "2.0\n"
     ]
    },
    {
     "data": {
      "image/png": "[encoded data removed]",
      "text/plain": [
       "<Figure size 432x288 with 1 Axes>"
      ]
     },
     "metadata": {
      "needs_background": "light"
     },
     "output_type": "display_data"
    },
    {
     "name": "stderr",
     "output_type": "stream",
     "text": [
      "Clipping input data to the valid range for imshow with RGB data ([0..1] for floats or [0..255] for integers).\n"
     ]
    },
    {
     "name": "stdout",
     "output_type": "stream",
     "text": [
      "2.0\n"
     ]
    },
    {
     "data": {
      "image/png": "[encoded data removed]",
      "text/plain": [
       "<Figure size 432x288 with 1 Axes>"
      ]
     },
     "metadata": {
      "needs_background": "light"
     },
     "output_type": "display_data"
    },
    {
     "name": "stderr",
     "output_type": "stream",
     "text": [
      "Clipping input data to the valid range for imshow with RGB data ([0..1] for floats or [0..255] for integers).\n"
     ]
    },
    {
     "name": "stdout",
     "output_type": "stream",
     "text": [
      "2.0\n"
     ]
    },
    {
     "data": {
      "image/png": "[encoded data removed]",
      "text/plain": [
       "<Figure size 432x288 with 1 Axes>"
      ]
     },
     "metadata": {
      "needs_background": "light"
     },
     "output_type": "display_data"
    },
    {
     "name": "stderr",
     "output_type": "stream",
     "text": [
      "Clipping input data to the valid range for imshow with RGB data ([0..1] for floats or [0..255] for integers).\n"
     ]
    },
    {
     "name": "stdout",
     "output_type": "stream",
     "text": [
      "2.0\n"
     ]
    },
    {
     "data": {
      "image/png": "[encoded data removed]",
      "text/plain": [
       "<Figure size 432x288 with 1 Axes>"
      ]
     },
     "metadata": {
      "needs_background": "light"
     },
     "output_type": "display_data"
    },
    {
     "name": "stderr",
     "output_type": "stream",
     "text": [
      "Clipping input data to the valid range for imshow with RGB data ([0..1] for floats or [0..255] for integers).\n"
     ]
    },
    {
     "name": "stdout",
     "output_type": "stream",
     "text": [
      "2.0\n"
     ]
    },
    {
     "data": {
      "image/png": "[encoded data removed]",
      "text/plain": [
       "<Figure size 432x288 with 1 Axes>"
      ]
     },
     "metadata": {
      "needs_background": "light"
     },
     "output_type": "display_data"
    },
    {
     "name": "stderr",
     "output_type": "stream",
     "text": [
      "Clipping input data to the valid range for imshow with RGB data ([0..1] for floats or [0..255] for integers).\n"
     ]
    },
    {
     "name": "stdout",
     "output_type": "stream",
     "text": [
      "2.0\n"
     ]
    },
    {
     "data": {
      "image/png": "[encoded data removed]",
      "text/plain": [
       "<Figure size 432x288 with 1 Axes>"
      ]
     },
     "metadata": {
      "needs_background": "light"
     },
     "output_type": "display_data"
    },
    {
     "name": "stderr",
     "output_type": "stream",
     "text": [
      "Clipping input data to the valid range for imshow with RGB data ([0..1] for floats or [0..255] for integers).\n"
     ]
    },
    {
     "name": "stdout",
     "output_type": "stream",
     "text": [
      "2.0\n"
     ]
    },
    {
     "data": {
      "image/png": "[encoded data removed]",
      "text/plain": [
       "<Figure size 432x288 with 1 Axes>"
      ]
     },
     "metadata": {
      "needs_background": "light"
     },
     "output_type": "display_data"
    },
    {
     "name": "stderr",
     "output_type": "stream",
     "text": [
      "Clipping input data to the valid range for imshow with RGB data ([0..1] for floats or [0..255] for integers).\n"
     ]
    },
    {
     "name": "stdout",
     "output_type": "stream",
     "text": [
      "2.0\n"
     ]
    },
    {
     "data": {
      "image/png": "[encoded data removed]",
      "text/plain": [
       "<Figure size 432x288 with 1 Axes>"
      ]
     },
     "metadata": {
      "needs_background": "light"
     },
     "output_type": "display_data"
    },
    {
     "name": "stderr",
     "output_type": "stream",
     "text": [
      "Clipping input data to the valid range for imshow with RGB data ([0..1] for floats or [0..255] for integers).\n"
     ]
    },
    {
     "name": "stdout",
     "output_type": "stream",
     "text": [
      "2.0\n"
     ]
    },
    {
     "data": {
      "image/png": "[encoded data removed]",
      "text/plain": [
       "<Figure size 432x288 with 1 Axes>"
      ]
     },
     "metadata": {
      "needs_background": "light"
     },
     "output_type": "display_data"
    },
    {
     "name": "stderr",
     "output_type": "stream",
     "text": [
      "Clipping input data to the valid range for imshow with RGB data ([0..1] for floats or [0..255] for integers).\n"
     ]
    },
    {
     "name": "stdout",
     "output_type": "stream",
     "text": [
      "2.0\n"
     ]
    },
    {
     "data": {
      "image/png": "[encoded data removed]",
      "text/plain": [
       "<Figure size 432x288 with 1 Axes>"
      ]
     },
     "metadata": {
      "needs_background": "light"
     },
     "output_type": "display_data"
    },
    {
     "name": "stderr",
     "output_type": "stream",
     "text": [
      "Clipping input data to the valid range for imshow with RGB data ([0..1] for floats or [0..255] for integers).\n"
     ]
    },
    {
     "name": "stdout",
     "output_type": "stream",
     "text": [
      "2.0\n"
     ]
    },
    {
     "data": {
      "image/png": "[encoded data removed]",
      "text/plain": [
       "<Figure size 432x288 with 1 Axes>"
      ]
     },
     "metadata": {
      "needs_background": "light"
     },
     "output_type": "display_data"
    },
    {
     "name": "stderr",
     "output_type": "stream",
     "text": [
      "Clipping input data to the valid range for imshow with RGB data ([0..1] for floats or [0..255] for integers).\n"
     ]
    },
    {
     "name": "stdout",
     "output_type": "stream",
     "text": [
      "2.0\n"
     ]
    },
    {
     "data": {
      "image/png": "[encoded data removed]",
      "text/plain": [
       "<Figure size 432x288 with 1 Axes>"
      ]
     },
     "metadata": {
      "needs_background": "light"
     },
     "output_type": "display_data"
    },
    {
     "name": "stderr",
     "output_type": "stream",
     "text": [
      "Clipping input data to the valid range for imshow with RGB data ([0..1] for floats or [0..255] for integers).\n"
     ]
    },
    {
     "name": "stdout",
     "output_type": "stream",
     "text": [
      "2.0\n"
     ]
    },
    {
     "data": {
      "image/png": "[encoded data removed]",
      "text/plain": [
       "<Figure size 432x288 with 1 Axes>"
      ]
     },
     "metadata": {
      "needs_background": "light"
     },
     "output_type": "display_data"
    },
    {
     "name": "stderr",
     "output_type": "stream",
     "text": [
      "Clipping input data to the valid range for imshow with RGB data ([0..1] for floats or [0..255] for integers).\n"
     ]
    },
    {
     "name": "stdout",
     "output_type": "stream",
     "text": [
      "2.0\n"
     ]
    },
    {
     "data": {
      "image/png": "[encoded data removed]",
      "text/plain": [
       "<Figure size 432x288 with 1 Axes>"
      ]
     },
     "metadata": {
      "needs_background": "light"
     },
     "output_type": "display_data"
    },
    {
     "name": "stderr",
     "output_type": "stream",
     "text": [
      "Clipping input data to the valid range for imshow with RGB data ([0..1] for floats or [0..255] for integers).\n"
     ]
    },
    {
     "name": "stdout",
     "output_type": "stream",
     "text": [
      "2.0\n"
     ]
    },
    {
     "data": {
      "image/png": "[encoded data removed]",
      "text/plain": [
       "<Figure size 432x288 with 1 Axes>"
      ]
     },
     "metadata": {
      "needs_background": "light"
     },
     "output_type": "display_data"
    },
    {
     "name": "stderr",
     "output_type": "stream",
     "text": [
      "Clipping input data to the valid range for imshow with RGB data ([0..1] for floats or [0..255] for integers).\n"
     ]
    },
    {
     "name": "stdout",
     "output_type": "stream",
     "text": [
      "2.0\n"
     ]
    },
    {
     "data": {
      "image/png": "[encoded data removed]",
      "text/plain": [
       "<Figure size 432x288 with 1 Axes>"
      ]
     },
     "metadata": {
      "needs_background": "light"
     },
     "output_type": "display_data"
    },
    {
     "name": "stderr",
     "output_type": "stream",
     "text": [
      "Clipping input data to the valid range for imshow with RGB data ([0..1] for floats or [0..255] for integers).\n"
     ]
    },
    {
     "name": "stdout",
     "output_type": "stream",
     "text": [
      "2.0\n"
     ]
    },
    {
     "data": {
      "image/png": "[encoded data removed]",
      "text/plain": [
       "<Figure size 432x288 with 1 Axes>"
      ]
     },
     "metadata": {
      "needs_background": "light"
     },
     "output_type": "display_data"
    },
    {
     "name": "stderr",
     "output_type": "stream",
     "text": [
      "Clipping input data to the valid range for imshow with RGB data ([0..1] for floats or [0..255] for integers).\n"
     ]
    },
    {
     "name": "stdout",
     "output_type": "stream",
     "text": [
      "2.0\n"
     ]
    },
    {
     "data": {
      "image/png": "[encoded data removed]",
      "text/plain": [
       "<Figure size 432x288 with 1 Axes>"
      ]
     },
     "metadata": {
      "needs_background": "light"
     },
     "output_type": "display_data"
    }
   ],
   "source": [
    "import matplotlib.pyplot as plt\n",
    "%matplotlib inline\n",
    "for i in range(1990,2010):\n",
    "    plt.imshow(X[i])\n",
    "    print(y[i])\n",
    "    plt.show()"
   ]
  },
  {
   "cell_type": "code",
   "execution_count": 76,
   "metadata": {},
   "outputs": [],
   "source": [
    "from sklearn.model_selection import train_test_split\n",
    "#x_train, x_test, y_train, y_test = train_test_split(X, y, test_size=0.05,shuffle=True)\n",
    "#x_train = X\n",
    "x_train = X_after\n",
    "y_train = y"
   ]
  },
  {
   "cell_type": "code",
   "execution_count": 77,
   "metadata": {},
   "outputs": [
    {
     "name": "stdout",
     "output_type": "stream",
     "text": [
      "x_train shape: (17654, 28, 28, 3)\n",
      "17654 train samples\n",
      "2522 test samples\n"
     ]
    }
   ],
   "source": [
    "# input image dimensions\n",
    "#img_rows, img_cols = 42, 128\n",
    "#img_rows, img_cols = 128, 128\n",
    "img_rows, img_cols = 28, 28\n",
    "\n",
    "x_train = x_train.astype('float32')\n",
    "#X_test = x_test.astype('float32')\n",
    "X_test = x_after_test.astype('float32')\n",
    "#x_train /= 255\n",
    "#x_test /= 255\n",
    "print('x_train shape:', x_train.shape)\n",
    "print(x_train.shape[0], 'train samples')\n",
    "print(X_test.shape[0], 'test samples')\n",
    "\n",
    "input_shape = (img_rows, img_cols, 3)"
   ]
  },
  {
   "cell_type": "code",
   "execution_count": 78,
   "metadata": {
    "scrolled": true
   },
   "outputs": [
    {
     "name": "stdout",
     "output_type": "stream",
     "text": [
      "Train on 17654 samples, validate on 2522 samples\n",
      "Epoch 1/200\n",
      "17654/17654 [==============================] - 8s 435us/step - loss: 1.0938 - accuracy: 0.3586 - val_loss: 1.0869 - val_accuracy: 0.3362\n",
      "Epoch 2/200\n",
      "17654/17654 [==============================] - 7s 419us/step - loss: 1.0716 - accuracy: 0.4162 - val_loss: 1.0874 - val_accuracy: 0.3275\n",
      "Epoch 3/200\n",
      "17654/17654 [==============================] - 7s 416us/step - loss: 1.0495 - accuracy: 0.4593 - val_loss: 1.0606 - val_accuracy: 0.3929\n",
      "Epoch 4/200\n",
      "17654/17654 [==============================] - 7s 417us/step - loss: 1.0303 - accuracy: 0.4765 - val_loss: 1.0520 - val_accuracy: 0.4290\n",
      "Epoch 5/200\n",
      "17654/17654 [==============================] - 7s 416us/step - loss: 1.0081 - accuracy: 0.5031 - val_loss: 1.0720 - val_accuracy: 0.4064\n",
      "Epoch 6/200\n",
      "17654/17654 [==============================] - 7s 418us/step - loss: 0.9861 - accuracy: 0.5279 - val_loss: 1.0954 - val_accuracy: 0.3775\n",
      "Epoch 7/200\n",
      "17654/17654 [==============================] - 7s 416us/step - loss: 0.9614 - accuracy: 0.5483 - val_loss: 1.1155 - val_accuracy: 0.3743\n",
      "Epoch 8/200\n",
      "17654/17654 [==============================] - 7s 417us/step - loss: 0.9392 - accuracy: 0.5630 - val_loss: 1.1984 - val_accuracy: 0.3680\n",
      "Epoch 9/200\n",
      "17654/17654 [==============================] - 7s 416us/step - loss: 0.9213 - accuracy: 0.5757 - val_loss: 1.1311 - val_accuracy: 0.3699\n",
      "Epoch 10/200\n",
      "17654/17654 [==============================] - 7s 419us/step - loss: 0.9071 - accuracy: 0.5796 - val_loss: 1.1240 - val_accuracy: 0.3814\n",
      "Epoch 11/200\n",
      "17654/17654 [==============================] - 7s 419us/step - loss: 0.8919 - accuracy: 0.5878 - val_loss: 1.1970 - val_accuracy: 0.3533\n",
      "Epoch 12/200\n",
      "17654/17654 [==============================] - 7s 418us/step - loss: 0.8795 - accuracy: 0.5984 - val_loss: 1.1191 - val_accuracy: 0.4013\n",
      "Epoch 13/200\n",
      "17654/17654 [==============================] - 7s 419us/step - loss: 0.8685 - accuracy: 0.5986 - val_loss: 1.2257 - val_accuracy: 0.3795\n",
      "Epoch 14/200\n",
      "17654/17654 [==============================] - 7s 418us/step - loss: 0.8550 - accuracy: 0.6063 - val_loss: 1.0749 - val_accuracy: 0.4366\n",
      "Epoch 15/200\n",
      "17654/17654 [==============================] - 7s 418us/step - loss: 0.8430 - accuracy: 0.6120 - val_loss: 1.1671 - val_accuracy: 0.3985\n",
      "Epoch 16/200\n",
      "17654/17654 [==============================] - 7s 417us/step - loss: 0.8346 - accuracy: 0.6186 - val_loss: 1.1416 - val_accuracy: 0.4195\n",
      "Epoch 17/200\n",
      "17654/17654 [==============================] - 7s 417us/step - loss: 0.8208 - accuracy: 0.6291 - val_loss: 1.1636 - val_accuracy: 0.4445\n",
      "Epoch 18/200\n",
      "17654/17654 [==============================] - 7s 418us/step - loss: 0.8109 - accuracy: 0.6348 - val_loss: 1.4549 - val_accuracy: 0.3692\n",
      "Epoch 19/200\n",
      "17654/17654 [==============================] - 7s 419us/step - loss: 0.8014 - accuracy: 0.6394 - val_loss: 1.2692 - val_accuracy: 0.4076\n",
      "Epoch 20/200\n",
      "17654/17654 [==============================] - 7s 418us/step - loss: 0.7922 - accuracy: 0.6423 - val_loss: 1.1466 - val_accuracy: 0.4469\n",
      "Epoch 21/200\n",
      "17654/17654 [==============================] - 7s 418us/step - loss: 0.7827 - accuracy: 0.6480 - val_loss: 1.2226 - val_accuracy: 0.4243\n",
      "Epoch 22/200\n",
      "17654/17654 [==============================] - 7s 418us/step - loss: 0.7766 - accuracy: 0.6511 - val_loss: 1.0813 - val_accuracy: 0.4814\n",
      "Epoch 23/200\n",
      "17654/17654 [==============================] - 7s 419us/step - loss: 0.7659 - accuracy: 0.6557 - val_loss: 1.1868 - val_accuracy: 0.4362\n",
      "Epoch 24/200\n",
      "17654/17654 [==============================] - 7s 418us/step - loss: 0.7579 - accuracy: 0.6636 - val_loss: 1.2288 - val_accuracy: 0.4306\n",
      "Epoch 25/200\n",
      "17654/17654 [==============================] - 7s 419us/step - loss: 0.7528 - accuracy: 0.6670 - val_loss: 1.0223 - val_accuracy: 0.4992\n",
      "Epoch 26/200\n",
      "17654/17654 [==============================] - 7s 419us/step - loss: 0.7428 - accuracy: 0.6788 - val_loss: 1.1907 - val_accuracy: 0.4603\n",
      "Epoch 27/200\n",
      "17654/17654 [==============================] - 7s 420us/step - loss: 0.7408 - accuracy: 0.6736 - val_loss: 1.1637 - val_accuracy: 0.4790\n",
      "Epoch 28/200\n",
      "17654/17654 [==============================] - 7s 420us/step - loss: 0.7341 - accuracy: 0.6758 - val_loss: 1.3302 - val_accuracy: 0.4223\n",
      "Epoch 29/200\n",
      "17654/17654 [==============================] - 7s 418us/step - loss: 0.7277 - accuracy: 0.6799 - val_loss: 1.4719 - val_accuracy: 0.4255\n",
      "Epoch 30/200\n",
      "17654/17654 [==============================] - 7s 422us/step - loss: 0.7227 - accuracy: 0.6828 - val_loss: 1.3994 - val_accuracy: 0.4191\n",
      "Epoch 31/200\n",
      "17654/17654 [==============================] - 7s 418us/step - loss: 0.7174 - accuracy: 0.6868 - val_loss: 1.3535 - val_accuracy: 0.4520\n",
      "Epoch 32/200\n",
      "17654/17654 [==============================] - 7s 417us/step - loss: 0.7122 - accuracy: 0.6890 - val_loss: 1.4198 - val_accuracy: 0.4350\n",
      "Epoch 33/200\n",
      "17654/17654 [==============================] - 7s 417us/step - loss: 0.7056 - accuracy: 0.6914 - val_loss: 1.5070 - val_accuracy: 0.4342\n",
      "Epoch 34/200\n",
      "17654/17654 [==============================] - 7s 417us/step - loss: 0.7047 - accuracy: 0.6929 - val_loss: 1.0974 - val_accuracy: 0.5135\n",
      "Epoch 35/200\n",
      "17654/17654 [==============================] - 7s 417us/step - loss: 0.6994 - accuracy: 0.6920 - val_loss: 1.3738 - val_accuracy: 0.4409\n",
      "Epoch 36/200\n",
      "17654/17654 [==============================] - 8s 445us/step - loss: 0.6958 - accuracy: 0.6978 - val_loss: 1.3725 - val_accuracy: 0.4374\n",
      "Epoch 37/200\n",
      "17654/17654 [==============================] - 12s 682us/step - loss: 0.6910 - accuracy: 0.6990 - val_loss: 1.3522 - val_accuracy: 0.4437\n",
      "Epoch 38/200\n",
      "17654/17654 [==============================] - 10s 556us/step - loss: 0.6883 - accuracy: 0.6970 - val_loss: 1.3531 - val_accuracy: 0.4262\n",
      "Epoch 39/200\n",
      "17654/17654 [==============================] - 8s 434us/step - loss: 0.6837 - accuracy: 0.7060 - val_loss: 1.1176 - val_accuracy: 0.5012\n",
      "Epoch 40/200\n",
      "17654/17654 [==============================] - 10s 543us/step - loss: 0.6786 - accuracy: 0.7082 - val_loss: 1.4240 - val_accuracy: 0.4421\n",
      "Epoch 41/200\n",
      "17654/17654 [==============================] - 8s 445us/step - loss: 0.6761 - accuracy: 0.7066 - val_loss: 1.3260 - val_accuracy: 0.4619\n",
      "Epoch 42/200\n",
      "17654/17654 [==============================] - 8s 472us/step - loss: 0.6717 - accuracy: 0.7098 - val_loss: 1.3445 - val_accuracy: 0.4449\n",
      "Epoch 43/200\n",
      "17654/17654 [==============================] - 9s 486us/step - loss: 0.6662 - accuracy: 0.7125 - val_loss: 1.0700 - val_accuracy: 0.5282\n",
      "Epoch 44/200\n",
      "17654/17654 [==============================] - 8s 442us/step - loss: 0.6649 - accuracy: 0.7107 - val_loss: 1.2330 - val_accuracy: 0.4952\n",
      "Epoch 45/200\n",
      "17654/17654 [==============================] - 9s 499us/step - loss: 0.6621 - accuracy: 0.7135 - val_loss: 1.3727 - val_accuracy: 0.4615\n",
      "Epoch 46/200\n",
      "17654/17654 [==============================] - 8s 436us/step - loss: 0.6604 - accuracy: 0.7143 - val_loss: 1.1435 - val_accuracy: 0.5135\n",
      "Epoch 47/200\n",
      "17654/17654 [==============================] - 9s 482us/step - loss: 0.6541 - accuracy: 0.7188 - val_loss: 1.3037 - val_accuracy: 0.4580\n",
      "Epoch 48/200\n",
      "17654/17654 [==============================] - 8s 460us/step - loss: 0.6526 - accuracy: 0.7202 - val_loss: 1.3273 - val_accuracy: 0.4730\n",
      "Epoch 49/200\n",
      "17654/17654 [==============================] - 8s 450us/step - loss: 0.6485 - accuracy: 0.7197 - val_loss: 1.3597 - val_accuracy: 0.4655.6486 - accuracy: 0.71\n",
      "Epoch 50/200\n",
      "17654/17654 [==============================] - 9s 510us/step - loss: 0.6437 - accuracy: 0.7215 - val_loss: 1.1155 - val_accuracy: 0.5448\n",
      "Epoch 51/200\n",
      "17654/17654 [==============================] - 8s 428us/step - loss: 0.6429 - accuracy: 0.7239 - val_loss: 1.1839 - val_accuracy: 0.5095\n",
      "Epoch 52/200\n",
      "17654/17654 [==============================] - 9s 523us/step - loss: 0.6396 - accuracy: 0.7233 - val_loss: 1.5166 - val_accuracy: 0.4536\n",
      "Epoch 53/200\n",
      "17654/17654 [==============================] - 8s 451us/step - loss: 0.6378 - accuracy: 0.7261 - val_loss: 1.3978 - val_accuracy: 0.4774\n",
      "Epoch 54/200\n",
      "17654/17654 [==============================] - 8s 475us/step - loss: 0.6354 - accuracy: 0.7248 - val_loss: 1.1750 - val_accuracy: 0.5159\n",
      "Epoch 55/200\n"
     ]
    },
    {
     "name": "stdout",
     "output_type": "stream",
     "text": [
      "17654/17654 [==============================] - 9s 486us/step - loss: 0.6333 - accuracy: 0.7281 - val_loss: 1.4540 - val_accuracy: 0.4556\n",
      "Epoch 56/200\n",
      "17654/17654 [==============================] - 8s 472us/step - loss: 0.6297 - accuracy: 0.7299 - val_loss: 1.3949 - val_accuracy: 0.4778\n",
      "Epoch 57/200\n",
      "17654/17654 [==============================] - 7s 419us/step - loss: 0.6290 - accuracy: 0.7307 - val_loss: 1.3150 - val_accuracy: 0.4944\n",
      "Epoch 58/200\n",
      "17654/17654 [==============================] - 8s 472us/step - loss: 0.6268 - accuracy: 0.7284 - val_loss: 1.5850 - val_accuracy: 0.4572\n",
      "Epoch 59/200\n",
      "17654/17654 [==============================] - 8s 470us/step - loss: 0.6249 - accuracy: 0.7313 - val_loss: 1.4117 - val_accuracy: 0.4481\n",
      "Epoch 60/200\n",
      "17654/17654 [==============================] - 8s 473us/step - loss: 0.6204 - accuracy: 0.7346 - val_loss: 1.5280 - val_accuracy: 0.4473\n",
      "Epoch 61/200\n",
      "17654/17654 [==============================] - 8s 470us/step - loss: 0.6200 - accuracy: 0.7345 - val_loss: 1.4431 - val_accuracy: 0.4802\n",
      "Epoch 62/200\n",
      "17654/17654 [==============================] - 8s 455us/step - loss: 0.6177 - accuracy: 0.7360 - val_loss: 1.6094 - val_accuracy: 0.4615\n",
      "Epoch 63/200\n",
      "17654/17654 [==============================] - 8s 457us/step - loss: 0.6144 - accuracy: 0.7380 - val_loss: 1.3358 - val_accuracy: 0.5131\n",
      "Epoch 64/200\n",
      "17654/17654 [==============================] - 8s 478us/step - loss: 0.6127 - accuracy: 0.7373 - val_loss: 1.4538 - val_accuracy: 0.4671\n",
      "Epoch 65/200\n",
      "17654/17654 [==============================] - 9s 487us/step - loss: 0.6111 - accuracy: 0.7379 - val_loss: 1.1748 - val_accuracy: 0.5289\n",
      "Epoch 66/200\n",
      "17654/17654 [==============================] - 8s 436us/step - loss: 0.6087 - accuracy: 0.7394 - val_loss: 1.3514 - val_accuracy: 0.5012\n",
      "Epoch 67/200\n",
      "17654/17654 [==============================] - 9s 497us/step - loss: 0.6064 - accuracy: 0.7392 - val_loss: 1.5654 - val_accuracy: 0.4651\n",
      "Epoch 68/200\n",
      "17654/17654 [==============================] - 9s 483us/step - loss: 0.6030 - accuracy: 0.7415 - val_loss: 1.7394 - val_accuracy: 0.4421\n",
      "Epoch 69/200\n",
      "17654/17654 [==============================] - 9s 538us/step - loss: 0.6014 - accuracy: 0.7426 - val_loss: 1.7142 - val_accuracy: 0.4504\n",
      "Epoch 70/200\n",
      "17654/17654 [==============================] - 10s 570us/step - loss: 0.6001 - accuracy: 0.7424 - val_loss: 1.3418 - val_accuracy: 0.5028\n",
      "Epoch 71/200\n",
      "17654/17654 [==============================] - 9s 534us/step - loss: 0.5986 - accuracy: 0.7410 - val_loss: 1.2351 - val_accuracy: 0.5333\n",
      "Epoch 72/200\n",
      "17654/17654 [==============================] - 9s 525us/step - loss: 0.5979 - accuracy: 0.7441 - val_loss: 1.2299 - val_accuracy: 0.5230\n",
      "Epoch 73/200\n",
      "17654/17654 [==============================] - 9s 500us/step - loss: 0.5941 - accuracy: 0.7458 - val_loss: 1.3186 - val_accuracy: 0.5107\n",
      "Epoch 74/200\n",
      "17654/17654 [==============================] - 9s 514us/step - loss: 0.5965 - accuracy: 0.7429 - val_loss: 1.3597 - val_accuracy: 0.5063\n",
      "Epoch 75/200\n",
      "17654/17654 [==============================] - 8s 463us/step - loss: 0.5911 - accuracy: 0.7473 - val_loss: 1.4148 - val_accuracy: 0.4984\n",
      "Epoch 76/200\n",
      "17654/17654 [==============================] - 7s 420us/step - loss: 0.5910 - accuracy: 0.7474 - val_loss: 1.6367 - val_accuracy: 0.4750\n",
      "Epoch 77/200\n",
      "17654/17654 [==============================] - 9s 511us/step - loss: 0.5899 - accuracy: 0.7486 - val_loss: 1.3876 - val_accuracy: 0.5440\n",
      "Epoch 78/200\n",
      "17654/17654 [==============================] - 7s 424us/step - loss: 0.5890 - accuracy: 0.7478 - val_loss: 1.5289 - val_accuracy: 0.4849\n",
      "Epoch 79/200\n",
      "17654/17654 [==============================] - 7s 415us/step - loss: 0.5837 - accuracy: 0.7503 - val_loss: 1.4603 - val_accuracy: 0.4909\n",
      "Epoch 80/200\n",
      "17654/17654 [==============================] - 7s 414us/step - loss: 0.5845 - accuracy: 0.7484 - val_loss: 1.3531 - val_accuracy: 0.4952\n",
      "Epoch 81/200\n",
      "17654/17654 [==============================] - 8s 467us/step - loss: 0.5825 - accuracy: 0.7500 - val_loss: 1.5104 - val_accuracy: 0.4925\n",
      "Epoch 82/200\n",
      "17654/17654 [==============================] - 7s 416us/step - loss: 0.5789 - accuracy: 0.7504 - val_loss: 1.2232 - val_accuracy: 0.5313\n",
      "Epoch 83/200\n",
      "17654/17654 [==============================] - 7s 416us/step - loss: 0.5802 - accuracy: 0.7524 - val_loss: 1.6555 - val_accuracy: 0.4750\n",
      "Epoch 84/200\n",
      "17654/17654 [==============================] - 7s 415us/step - loss: 0.5780 - accuracy: 0.7534 - val_loss: 1.6188 - val_accuracy: 0.4901\n",
      "Epoch 85/200\n",
      "17654/17654 [==============================] - 7s 418us/step - loss: 0.5741 - accuracy: 0.7533 - val_loss: 1.8969 - val_accuracy: 0.4623\n",
      "Epoch 86/200\n",
      "17654/17654 [==============================] - 7s 417us/step - loss: 0.5755 - accuracy: 0.7567 - val_loss: 1.7403 - val_accuracy: 0.4822\n",
      "Epoch 87/200\n",
      "17654/17654 [==============================] - 7s 417us/step - loss: 0.5736 - accuracy: 0.7545 - val_loss: 1.8178 - val_accuracy: 0.4830\n",
      "Epoch 88/200\n",
      "17654/17654 [==============================] - 7s 416us/step - loss: 0.5726 - accuracy: 0.7542 - val_loss: 1.3094 - val_accuracy: 0.5107\n",
      "Epoch 89/200\n",
      "17654/17654 [==============================] - 7s 417us/step - loss: 0.5713 - accuracy: 0.7567 - val_loss: 1.5279 - val_accuracy: 0.5119\n",
      "Epoch 90/200\n",
      "17654/17654 [==============================] - 7s 415us/step - loss: 0.5685 - accuracy: 0.7575 - val_loss: 1.6781 - val_accuracy: 0.4707\n",
      "Epoch 91/200\n",
      "17654/17654 [==============================] - 7s 415us/step - loss: 0.5692 - accuracy: 0.7539 - val_loss: 1.7215 - val_accuracy: 0.4889\n",
      "Epoch 92/200\n",
      "17654/17654 [==============================] - 7s 416us/step - loss: 0.5645 - accuracy: 0.7582 - val_loss: 1.6693 - val_accuracy: 0.4960\n",
      "Epoch 93/200\n",
      "17654/17654 [==============================] - 7s 416us/step - loss: 0.5668 - accuracy: 0.7572 - val_loss: 1.5051 - val_accuracy: 0.4964\n",
      "Epoch 94/200\n",
      "17654/17654 [==============================] - 7s 417us/step - loss: 0.5618 - accuracy: 0.7602 - val_loss: 1.5478 - val_accuracy: 0.4770\n",
      "Epoch 95/200\n",
      "17654/17654 [==============================] - 7s 418us/step - loss: 0.5610 - accuracy: 0.7586 - val_loss: 1.6406 - val_accuracy: 0.4937\n",
      "Epoch 96/200\n",
      "17654/17654 [==============================] - 7s 417us/step - loss: 0.5616 - accuracy: 0.7631 - val_loss: 1.6469 - val_accuracy: 0.4897\n",
      "Epoch 97/200\n",
      "17654/17654 [==============================] - 7s 416us/step - loss: 0.5580 - accuracy: 0.7623 - val_loss: 1.6638 - val_accuracy: 0.5024\n",
      "Epoch 98/200\n",
      "17654/17654 [==============================] - 7s 416us/step - loss: 0.5577 - accuracy: 0.7619 - val_loss: 1.8914 - val_accuracy: 0.4687\n",
      "Epoch 99/200\n",
      "17654/17654 [==============================] - 7s 415us/step - loss: 0.5545 - accuracy: 0.7642 - val_loss: 1.6084 - val_accuracy: 0.5063\n",
      "Epoch 100/200\n",
      "17654/17654 [==============================] - 7s 415us/step - loss: 0.5543 - accuracy: 0.7638 - val_loss: 1.8041 - val_accuracy: 0.4837\n",
      "Epoch 101/200\n",
      "17654/17654 [==============================] - 7s 417us/step - loss: 0.5516 - accuracy: 0.7640 - val_loss: 1.9701 - val_accuracy: 0.4715\n",
      "Epoch 102/200\n",
      "17654/17654 [==============================] - 7s 416us/step - loss: 0.5526 - accuracy: 0.7641 - val_loss: 1.9408 - val_accuracy: 0.4631\n",
      "Epoch 103/200\n",
      "17654/17654 [==============================] - 7s 416us/step - loss: 0.5494 - accuracy: 0.7642 - val_loss: 1.5458 - val_accuracy: 0.5210\n",
      "Epoch 104/200\n",
      "17654/17654 [==============================] - 7s 415us/step - loss: 0.5505 - accuracy: 0.7682 - val_loss: 1.5691 - val_accuracy: 0.5313\n",
      "Epoch 105/200\n",
      "17654/17654 [==============================] - 7s 415us/step - loss: 0.5482 - accuracy: 0.7694 - val_loss: 1.4511 - val_accuracy: 0.5194\n",
      "Epoch 106/200\n",
      "17654/17654 [==============================] - 7s 415us/step - loss: 0.5463 - accuracy: 0.7675 - val_loss: 1.5300 - val_accuracy: 0.5131\n",
      "Epoch 107/200\n",
      "17654/17654 [==============================] - 7s 416us/step - loss: 0.5455 - accuracy: 0.7692 - val_loss: 1.9197 - val_accuracy: 0.4881\n",
      "Epoch 108/200\n",
      "17654/17654 [==============================] - 7s 416us/step - loss: 0.5430 - accuracy: 0.7690 - val_loss: 1.5849 - val_accuracy: 0.5163\n",
      "Epoch 109/200\n"
     ]
    },
    {
     "name": "stdout",
     "output_type": "stream",
     "text": [
      "17654/17654 [==============================] - 7s 415us/step - loss: 0.5419 - accuracy: 0.7716 - val_loss: 1.5138 - val_accuracy: 0.5309\n",
      "Epoch 110/200\n",
      "17654/17654 [==============================] - 7s 416us/step - loss: 0.5422 - accuracy: 0.7697 - val_loss: 1.9124 - val_accuracy: 0.4635\n",
      "Epoch 111/200\n",
      "17654/17654 [==============================] - 7s 419us/step - loss: 0.5415 - accuracy: 0.7727 - val_loss: 1.6333 - val_accuracy: 0.5194\n",
      "Epoch 112/200\n",
      "17654/17654 [==============================] - 7s 417us/step - loss: 0.5405 - accuracy: 0.7688 - val_loss: 1.7806 - val_accuracy: 0.4849\n",
      "Epoch 113/200\n",
      "17654/17654 [==============================] - 7s 417us/step - loss: 0.5373 - accuracy: 0.7739 - val_loss: 1.4602 - val_accuracy: 0.5551\n",
      "Epoch 114/200\n",
      "17654/17654 [==============================] - 7s 416us/step - loss: 0.5393 - accuracy: 0.7704 - val_loss: 1.4642 - val_accuracy: 0.5194\n",
      "Epoch 115/200\n",
      "17654/17654 [==============================] - 7s 417us/step - loss: 0.5346 - accuracy: 0.7756 - val_loss: 1.7694 - val_accuracy: 0.5079\n",
      "Epoch 116/200\n",
      "17654/17654 [==============================] - 7s 416us/step - loss: 0.5336 - accuracy: 0.7725 - val_loss: 1.6674 - val_accuracy: 0.5163\n",
      "Epoch 117/200\n",
      "17654/17654 [==============================] - 7s 416us/step - loss: 0.5348 - accuracy: 0.7712 - val_loss: 1.7003 - val_accuracy: 0.5032\n",
      "Epoch 118/200\n",
      "17654/17654 [==============================] - 7s 417us/step - loss: 0.5333 - accuracy: 0.7699 - val_loss: 2.0666 - val_accuracy: 0.4544\n",
      "Epoch 119/200\n",
      "17654/17654 [==============================] - 7s 417us/step - loss: 0.5315 - accuracy: 0.7732 - val_loss: 1.7428 - val_accuracy: 0.4960\n",
      "Epoch 120/200\n",
      "17654/17654 [==============================] - 7s 417us/step - loss: 0.5289 - accuracy: 0.7738 - val_loss: 1.7992 - val_accuracy: 0.5063\n",
      "Epoch 121/200\n",
      "17654/17654 [==============================] - 7s 417us/step - loss: 0.5298 - accuracy: 0.7752 - val_loss: 1.6714 - val_accuracy: 0.5202\n",
      "Epoch 122/200\n",
      "17654/17654 [==============================] - 7s 418us/step - loss: 0.5269 - accuracy: 0.7758 - val_loss: 1.7401 - val_accuracy: 0.4901\n",
      "Epoch 123/200\n",
      "17654/17654 [==============================] - 7s 418us/step - loss: 0.5273 - accuracy: 0.7760 - val_loss: 1.5958 - val_accuracy: 0.5238\n",
      "Epoch 124/200\n",
      "17654/17654 [==============================] - 7s 417us/step - loss: 0.5249 - accuracy: 0.7770 - val_loss: 1.7843 - val_accuracy: 0.5178\n",
      "Epoch 125/200\n",
      "17654/17654 [==============================] - 7s 417us/step - loss: 0.5245 - accuracy: 0.7797 - val_loss: 1.7874 - val_accuracy: 0.4984\n",
      "Epoch 126/200\n",
      "17654/17654 [==============================] - 7s 418us/step - loss: 0.5250 - accuracy: 0.7803 - val_loss: 1.7656 - val_accuracy: 0.5163\n",
      "Epoch 127/200\n",
      "17654/17654 [==============================] - 7s 416us/step - loss: 0.5225 - accuracy: 0.7790 - val_loss: 1.7131 - val_accuracy: 0.5234\n",
      "Epoch 128/200\n",
      "17654/17654 [==============================] - 7s 416us/step - loss: 0.5208 - accuracy: 0.7793 - val_loss: 1.8196 - val_accuracy: 0.4992\n",
      "Epoch 129/200\n",
      "17654/17654 [==============================] - 7s 417us/step - loss: 0.5196 - accuracy: 0.7807 - val_loss: 2.0327 - val_accuracy: 0.4734\n",
      "Epoch 130/200\n",
      "17654/17654 [==============================] - 7s 416us/step - loss: 0.5197 - accuracy: 0.7824 - val_loss: 1.8243 - val_accuracy: 0.5056\n",
      "Epoch 131/200\n",
      "17654/17654 [==============================] - 7s 416us/step - loss: 0.5200 - accuracy: 0.7787 - val_loss: 1.9645 - val_accuracy: 0.5044\n",
      "Epoch 132/200\n",
      "17654/17654 [==============================] - 7s 417us/step - loss: 0.5189 - accuracy: 0.7806 - val_loss: 1.8421 - val_accuracy: 0.5087\n",
      "Epoch 133/200\n",
      "17654/17654 [==============================] - 7s 417us/step - loss: 0.5183 - accuracy: 0.7823 - val_loss: 1.5484 - val_accuracy: 0.5242\n",
      "Epoch 134/200\n",
      "17654/17654 [==============================] - 7s 417us/step - loss: 0.5160 - accuracy: 0.7813 - val_loss: 2.2196 - val_accuracy: 0.4742\n",
      "Epoch 135/200\n",
      "17654/17654 [==============================] - 7s 416us/step - loss: 0.5161 - accuracy: 0.7810 - val_loss: 1.9326 - val_accuracy: 0.4738\n",
      "Epoch 136/200\n",
      "17654/17654 [==============================] - 7s 416us/step - loss: 0.5152 - accuracy: 0.7834 - val_loss: 2.0119 - val_accuracy: 0.4972\n",
      "Epoch 137/200\n",
      "17654/17654 [==============================] - 7s 417us/step - loss: 0.5130 - accuracy: 0.7812 - val_loss: 1.9353 - val_accuracy: 0.4865\n",
      "Epoch 138/200\n",
      "17654/17654 [==============================] - 7s 417us/step - loss: 0.5108 - accuracy: 0.7872 - val_loss: 1.6770 - val_accuracy: 0.5052\n",
      "Epoch 139/200\n",
      "17654/17654 [==============================] - 7s 417us/step - loss: 0.5107 - accuracy: 0.7850 - val_loss: 1.6294 - val_accuracy: 0.5178\n",
      "Epoch 140/200\n",
      "17654/17654 [==============================] - 7s 417us/step - loss: 0.5081 - accuracy: 0.7832 - val_loss: 2.2331 - val_accuracy: 0.4584\n",
      "Epoch 141/200\n",
      "17654/17654 [==============================] - 7s 418us/step - loss: 0.5102 - accuracy: 0.7854 - val_loss: 1.7206 - val_accuracy: 0.5337\n",
      "Epoch 142/200\n",
      "17654/17654 [==============================] - 7s 418us/step - loss: 0.5103 - accuracy: 0.7850 - val_loss: 1.6925 - val_accuracy: 0.5024\n",
      "Epoch 143/200\n",
      "17654/17654 [==============================] - 7s 415us/step - loss: 0.5075 - accuracy: 0.7869 - val_loss: 1.7288 - val_accuracy: 0.5230\n",
      "Epoch 144/200\n",
      "17654/17654 [==============================] - 7s 416us/step - loss: 0.5078 - accuracy: 0.7860 - val_loss: 1.8812 - val_accuracy: 0.4818\n",
      "Epoch 145/200\n",
      "17654/17654 [==============================] - 7s 416us/step - loss: 0.5062 - accuracy: 0.7827 - val_loss: 1.6871 - val_accuracy: 0.5373\n",
      "Epoch 146/200\n",
      "17654/17654 [==============================] - 7s 417us/step - loss: 0.5043 - accuracy: 0.7879 - val_loss: 1.9662 - val_accuracy: 0.5059\n",
      "Epoch 147/200\n",
      "17654/17654 [==============================] - 7s 417us/step - loss: 0.5057 - accuracy: 0.7853 - val_loss: 1.8647 - val_accuracy: 0.5091\n",
      "Epoch 148/200\n",
      "17654/17654 [==============================] - 7s 417us/step - loss: 0.5034 - accuracy: 0.7914 - val_loss: 1.8709 - val_accuracy: 0.4917\n",
      "Epoch 149/200\n",
      "17654/17654 [==============================] - 7s 416us/step - loss: 0.5019 - accuracy: 0.7876 - val_loss: 1.8675 - val_accuracy: 0.5067\n",
      "Epoch 150/200\n",
      "17654/17654 [==============================] - 7s 417us/step - loss: 0.5005 - accuracy: 0.7867 - val_loss: 2.0683 - val_accuracy: 0.4675\n",
      "Epoch 151/200\n",
      "17654/17654 [==============================] - 7s 416us/step - loss: 0.5015 - accuracy: 0.7871 - val_loss: 1.5960 - val_accuracy: 0.5444\n",
      "Epoch 152/200\n",
      "17654/17654 [==============================] - 7s 416us/step - loss: 0.5007 - accuracy: 0.7908 - val_loss: 1.9646 - val_accuracy: 0.4885\n",
      "Epoch 153/200\n",
      "17654/17654 [==============================] - 7s 416us/step - loss: 0.4998 - accuracy: 0.7902 - val_loss: 2.1066 - val_accuracy: 0.4718\n",
      "Epoch 154/200\n",
      "17654/17654 [==============================] - 7s 416us/step - loss: 0.4992 - accuracy: 0.7920 - val_loss: 2.0566 - val_accuracy: 0.4830\n",
      "Epoch 155/200\n",
      "17654/17654 [==============================] - 7s 415us/step - loss: 0.4985 - accuracy: 0.7909 - val_loss: 1.7610 - val_accuracy: 0.5123\n",
      "Epoch 156/200\n",
      "17654/17654 [==============================] - 7s 415us/step - loss: 0.4965 - accuracy: 0.7915 - val_loss: 2.0477 - val_accuracy: 0.4774\n",
      "Epoch 157/200\n",
      "17654/17654 [==============================] - 7s 420us/step - loss: 0.4952 - accuracy: 0.7921 - val_loss: 2.0426 - val_accuracy: 0.4818\n",
      "Epoch 158/200\n",
      "17654/17654 [==============================] - 7s 416us/step - loss: 0.4953 - accuracy: 0.7908 - val_loss: 2.0146 - val_accuracy: 0.4968\n",
      "Epoch 159/200\n",
      "17654/17654 [==============================] - 7s 416us/step - loss: 0.4917 - accuracy: 0.7939 - val_loss: 1.8473 - val_accuracy: 0.5091\n",
      "Epoch 160/200\n",
      "17654/17654 [==============================] - 7s 417us/step - loss: 0.4924 - accuracy: 0.7919 - val_loss: 1.8331 - val_accuracy: 0.5361\n",
      "Epoch 161/200\n",
      "17654/17654 [==============================] - 7s 416us/step - loss: 0.4922 - accuracy: 0.7929 - val_loss: 2.2005 - val_accuracy: 0.4869\n",
      "Epoch 162/200\n",
      "17654/17654 [==============================] - 7s 417us/step - loss: 0.4893 - accuracy: 0.7928 - val_loss: 2.1927 - val_accuracy: 0.4683\n",
      "Epoch 163/200\n"
     ]
    },
    {
     "name": "stdout",
     "output_type": "stream",
     "text": [
      "17654/17654 [==============================] - 7s 418us/step - loss: 0.4903 - accuracy: 0.7949 - val_loss: 1.8219 - val_accuracy: 0.5063\n",
      "Epoch 164/200\n",
      "17654/17654 [==============================] - 7s 416us/step - loss: 0.4895 - accuracy: 0.7943 - val_loss: 2.0855 - val_accuracy: 0.4837\n",
      "Epoch 165/200\n",
      "17654/17654 [==============================] - 7s 417us/step - loss: 0.4888 - accuracy: 0.7953 - val_loss: 2.1167 - val_accuracy: 0.4984\n",
      "Epoch 166/200\n",
      "17654/17654 [==============================] - 7s 418us/step - loss: 0.4863 - accuracy: 0.7956 - val_loss: 2.1291 - val_accuracy: 0.5119\n",
      "Epoch 167/200\n",
      "17654/17654 [==============================] - 7s 418us/step - loss: 0.4870 - accuracy: 0.7944 - val_loss: 2.2201 - val_accuracy: 0.5079\n",
      "Epoch 168/200\n",
      "17654/17654 [==============================] - 7s 417us/step - loss: 0.4868 - accuracy: 0.7957 - val_loss: 2.1459 - val_accuracy: 0.4865\n",
      "Epoch 169/200\n",
      "17654/17654 [==============================] - 7s 419us/step - loss: 0.4877 - accuracy: 0.7957 - val_loss: 2.1577 - val_accuracy: 0.4794\n",
      "Epoch 170/200\n",
      "17654/17654 [==============================] - 7s 416us/step - loss: 0.4835 - accuracy: 0.7972 - val_loss: 1.9078 - val_accuracy: 0.5063\n",
      "Epoch 171/200\n",
      "17654/17654 [==============================] - 7s 417us/step - loss: 0.4828 - accuracy: 0.7963 - val_loss: 2.1014 - val_accuracy: 0.4905\n",
      "Epoch 172/200\n",
      "17654/17654 [==============================] - 7s 418us/step - loss: 0.4822 - accuracy: 0.7996 - val_loss: 2.2701 - val_accuracy: 0.4711\n",
      "Epoch 173/200\n",
      "17654/17654 [==============================] - 7s 417us/step - loss: 0.4837 - accuracy: 0.7977 - val_loss: 1.7644 - val_accuracy: 0.5000\n",
      "Epoch 174/200\n",
      "17654/17654 [==============================] - 7s 419us/step - loss: 0.4811 - accuracy: 0.7982 - val_loss: 1.9592 - val_accuracy: 0.5111\n",
      "Epoch 175/200\n",
      "17654/17654 [==============================] - 7s 418us/step - loss: 0.4847 - accuracy: 0.7979 - val_loss: 2.3652 - val_accuracy: 0.4766\n",
      "Epoch 176/200\n",
      "17654/17654 [==============================] - 7s 417us/step - loss: 0.4795 - accuracy: 0.7981 - val_loss: 1.8657 - val_accuracy: 0.5163\n",
      "Epoch 177/200\n",
      "17654/17654 [==============================] - 7s 417us/step - loss: 0.4816 - accuracy: 0.7982 - val_loss: 2.1499 - val_accuracy: 0.4786\n",
      "Epoch 178/200\n",
      "17654/17654 [==============================] - 7s 418us/step - loss: 0.4781 - accuracy: 0.7981 - val_loss: 2.0197 - val_accuracy: 0.5182\n",
      "Epoch 179/200\n",
      "17654/17654 [==============================] - 7s 418us/step - loss: 0.4772 - accuracy: 0.8017 - val_loss: 2.0091 - val_accuracy: 0.5135\n",
      "Epoch 180/200\n",
      "17654/17654 [==============================] - 7s 417us/step - loss: 0.4777 - accuracy: 0.7993 - val_loss: 2.0490 - val_accuracy: 0.4944\n",
      "Epoch 181/200\n",
      "17654/17654 [==============================] - 7s 418us/step - loss: 0.4766 - accuracy: 0.7989 - val_loss: 2.3860 - val_accuracy: 0.4818\n",
      "Epoch 182/200\n",
      "17654/17654 [==============================] - 7s 418us/step - loss: 0.4735 - accuracy: 0.8018 - val_loss: 2.3233 - val_accuracy: 0.4742\n",
      "Epoch 183/200\n",
      "17654/17654 [==============================] - 7s 417us/step - loss: 0.4765 - accuracy: 0.8010 - val_loss: 1.9962 - val_accuracy: 0.5297\n",
      "Epoch 184/200\n",
      "17654/17654 [==============================] - 7s 418us/step - loss: 0.4745 - accuracy: 0.8031 - val_loss: 2.1543 - val_accuracy: 0.4826\n",
      "Epoch 185/200\n",
      "17654/17654 [==============================] - 7s 417us/step - loss: 0.4728 - accuracy: 0.8049 - val_loss: 1.7828 - val_accuracy: 0.5198\n",
      "Epoch 186/200\n",
      "17654/17654 [==============================] - 7s 418us/step - loss: 0.4732 - accuracy: 0.7995 - val_loss: 2.0812 - val_accuracy: 0.4980\n",
      "Epoch 187/200\n",
      "17654/17654 [==============================] - 7s 418us/step - loss: 0.4728 - accuracy: 0.8045 - val_loss: 1.8937 - val_accuracy: 0.5190\n",
      "Epoch 188/200\n",
      "17654/17654 [==============================] - 7s 416us/step - loss: 0.4731 - accuracy: 0.8027 - val_loss: 2.1588 - val_accuracy: 0.4984\n",
      "Epoch 189/200\n",
      "17654/17654 [==============================] - 7s 417us/step - loss: 0.4709 - accuracy: 0.8046 - val_loss: 1.6513 - val_accuracy: 0.5567\n",
      "Epoch 190/200\n",
      "17654/17654 [==============================] - 7s 418us/step - loss: 0.4695 - accuracy: 0.8050 - val_loss: 1.9504 - val_accuracy: 0.5345\n",
      "Epoch 191/200\n",
      "17654/17654 [==============================] - 7s 418us/step - loss: 0.4698 - accuracy: 0.8032 - val_loss: 2.2804 - val_accuracy: 0.4818\n",
      "Epoch 192/200\n",
      "17654/17654 [==============================] - 7s 417us/step - loss: 0.4663 - accuracy: 0.8065 - val_loss: 2.5195 - val_accuracy: 0.4754\n",
      "Epoch 193/200\n",
      "17654/17654 [==============================] - 7s 419us/step - loss: 0.4691 - accuracy: 0.8038 - val_loss: 1.9604 - val_accuracy: 0.5099\n",
      "Epoch 194/200\n",
      "17654/17654 [==============================] - 7s 419us/step - loss: 0.4657 - accuracy: 0.8056 - val_loss: 2.0974 - val_accuracy: 0.5056\n",
      "Epoch 195/200\n",
      "17654/17654 [==============================] - 7s 417us/step - loss: 0.4636 - accuracy: 0.8074 - val_loss: 1.9686 - val_accuracy: 0.5087\n",
      "Epoch 196/200\n",
      "17654/17654 [==============================] - 7s 417us/step - loss: 0.4648 - accuracy: 0.8046 - val_loss: 1.7487 - val_accuracy: 0.5174\n",
      "Epoch 197/200\n",
      "17654/17654 [==============================] - 7s 417us/step - loss: 0.4654 - accuracy: 0.8041 - val_loss: 2.2661 - val_accuracy: 0.4956\n",
      "Epoch 198/200\n",
      "17654/17654 [==============================] - 7s 417us/step - loss: 0.4649 - accuracy: 0.8072 - val_loss: 2.2111 - val_accuracy: 0.4849\n",
      "Epoch 199/200\n",
      "17654/17654 [==============================] - 7s 418us/step - loss: 0.4635 - accuracy: 0.8064 - val_loss: 2.2501 - val_accuracy: 0.4774\n",
      "Epoch 200/200\n",
      "17654/17654 [==============================] - 7s 418us/step - loss: 0.4609 - accuracy: 0.8063 - val_loss: 2.0923 - val_accuracy: 0.4944\n"
     ]
    },
    {
     "data": {
      "text/plain": [
       "<keras.callbacks.callbacks.History at 0x20686009808>"
      ]
     },
     "execution_count": 78,
     "metadata": {},
     "output_type": "execute_result"
    }
   ],
   "source": [
    "import keras\n",
    "from keras.models import Sequential\n",
    "from keras.layers import Dense, Dropout, Activation, Flatten\n",
    "from keras.layers import Conv2D, MaxPooling2D\n",
    "\n",
    "batch_size = 32\n",
    "num_classes = 3\n",
    "#epochs = 350\n",
    "#epochs = 100\n",
    "epochs = 200\n",
    "\n",
    "# convert class vectors to binary class matrices\n",
    "y_train = keras.utils.to_categorical(y_train, num_classes)\n",
    "y_test = keras.utils.to_categorical(y_test, num_classes)\n",
    "\n",
    "model = Sequential()\n",
    "model.add(Conv2D(32, (3, 3), padding='same',input_shape=input_shape))\n",
    "model.add(Activation('relu'))\n",
    "model.add(Conv2D(32, (3, 3)))\n",
    "model.add(Activation('relu'))\n",
    "model.add(MaxPooling2D(pool_size=(2, 2)))\n",
    "#model.add(Dropout(0.25))\n",
    "\n",
    "model.add(Flatten())\n",
    "model.add(Dense(10))\n",
    "model.add(Activation('relu'))\n",
    "#model.add(Dropout(0.5))\n",
    "model.add(Dense(num_classes))\n",
    "model.add(Activation('softmax'))\n",
    "#model.add(Activation('sigmoid'))\n",
    "\n",
    "# initiate RMSprop optimizer\n",
    "opt = keras.optimizers.rmsprop(lr=0.0001, decay=1e-6)\n",
    "\n",
    "# Let's train the model using RMSprop\n",
    "model.compile(loss='categorical_crossentropy',\n",
    "              optimizer=opt,\n",
    "              metrics=['accuracy'])\n",
    "\n",
    "x_train = x_train.astype('float32')\n",
    "X_test = X_test.astype('float32')\n",
    "#x_train /= 255\n",
    "#x_test /= 255\n",
    "\n",
    "\n",
    "model.fit(x_train, y_train,\n",
    "          batch_size=batch_size,\n",
    "          epochs=epochs,\n",
    "          validation_data=(X_test, y_test),\n",
    "          shuffle=True)"
   ]
  },
  {
   "cell_type": "code",
   "execution_count": 58,
   "metadata": {},
   "outputs": [
    {
     "name": "stdout",
     "output_type": "stream",
     "text": [
      "2522/2522 [==============================] - 0s 190us/step\n"
     ]
    },
    {
     "data": {
      "text/plain": [
       "[2.0654810721100465, 0.5079302191734314]"
      ]
     },
     "execution_count": 58,
     "metadata": {},
     "output_type": "execute_result"
    }
   ],
   "source": [
    "model.evaluate(X_test, y_test)"
   ]
  },
  {
   "cell_type": "code",
   "execution_count": 59,
   "metadata": {},
   "outputs": [
    {
     "name": "stdout",
     "output_type": "stream",
     "text": [
      "840/840 [==============================] - 0s 204us/step\n"
     ]
    },
    {
     "data": {
      "text/plain": [
       "[4.643183163234165, 0.014285714365541935]"
      ]
     },
     "execution_count": 59,
     "metadata": {},
     "output_type": "execute_result"
    }
   ],
   "source": [
    "model.evaluate(x_test_1, keras.utils.to_categorical(y_test_1, num_classes))"
   ]
  },
  {
   "cell_type": "code",
   "execution_count": 60,
   "metadata": {},
   "outputs": [
    {
     "name": "stdout",
     "output_type": "stream",
     "text": [
      "836/836 [==============================] - 0s 207us/step\n"
     ]
    },
    {
     "data": {
      "text/plain": [
       "[1.526959521918776, 0.5131579041481018]"
      ]
     },
     "execution_count": 60,
     "metadata": {},
     "output_type": "execute_result"
    }
   ],
   "source": [
    "model.evaluate(x_test_0, keras.utils.to_categorical(y_test_0, num_classes))"
   ]
  },
  {
   "cell_type": "code",
   "execution_count": 61,
   "metadata": {},
   "outputs": [
    {
     "name": "stdout",
     "output_type": "stream",
     "text": [
      "846/846 [==============================] - 0s 314us/step\n"
     ]
    },
    {
     "data": {
      "text/plain": [
       "[0.03821655947618169, 0.9929078221321106]"
      ]
     },
     "execution_count": 61,
     "metadata": {},
     "output_type": "execute_result"
    }
   ],
   "source": [
    "model.evaluate(x_test_2, keras.utils.to_categorical(y_test_2, num_classes))"
   ]
  },
  {
   "cell_type": "code",
   "execution_count": 22,
   "metadata": {},
   "outputs": [],
   "source": [
    "1.42\n",
    "51.31\n",
    "99.29"
   ]
  },
  {
   "cell_type": "code",
   "execution_count": 61,
   "metadata": {},
   "outputs": [
    {
     "name": "stdout",
     "output_type": "stream",
     "text": [
      "796/796 [==============================] - 2s 2ms/step\n"
     ]
    },
    {
     "data": {
      "text/plain": [
       "[0.637220244611328, 0.6457286477088928]"
      ]
     },
     "execution_count": 61,
     "metadata": {},
     "output_type": "execute_result"
    }
   ],
   "source": [
    "model.evaluate(X_test, keras.utils.to_categorical(y_test, num_classes))"
   ]
  },
  {
   "cell_type": "code",
   "execution_count": 62,
   "metadata": {},
   "outputs": [
    {
     "name": "stdout",
     "output_type": "stream",
     "text": [
      "398/398 [==============================] - 1s 2ms/step\n"
     ]
    },
    {
     "data": {
      "text/plain": [
       "[0.6389172658249361, 0.8190954923629761]"
      ]
     },
     "execution_count": 62,
     "metadata": {},
     "output_type": "execute_result"
    }
   ],
   "source": [
    "model.evaluate(X_test_1, keras.utils.to_categorical(y_test_1, num_classes))"
   ]
  },
  {
   "cell_type": "code",
   "execution_count": 63,
   "metadata": {},
   "outputs": [
    {
     "name": "stdout",
     "output_type": "stream",
     "text": [
      "398/398 [==============================] - 1s 2ms/step\n"
     ]
    },
    {
     "data": {
      "text/plain": [
       "[0.7973151060205009, 0.18090452253818512]"
      ]
     },
     "execution_count": 63,
     "metadata": {},
     "output_type": "execute_result"
    }
   ],
   "source": [
    "model.evaluate(X_test_0, keras.utils.to_categorical(y_test_0, num_classes))"
   ]
  },
  {
   "cell_type": "code",
   "execution_count": null,
   "metadata": {},
   "outputs": [],
   "source": []
  },
  {
   "cell_type": "code",
   "execution_count": 19,
   "metadata": {},
   "outputs": [],
   "source": [
    "model.save('model_g.h5')"
   ]
  },
  {
   "cell_type": "markdown",
   "metadata": {},
   "source": [
    "# Res NET 50"
   ]
  },
  {
   "cell_type": "code",
   "execution_count": 239,
   "metadata": {},
   "outputs": [],
   "source": [
    "# GRADED FUNCTION: identity_block\n",
    "\n",
    "def identity_block(X, f, filters, stage, block):\n",
    "    \"\"\"\n",
    "    Implementation of the identity block as defined in Figure 4\n",
    "    \n",
    "    Arguments:\n",
    "    X -- input tensor of shape (m, n_H_prev, n_W_prev, n_C_prev)\n",
    "    f -- integer, specifying the shape of the middle CONV's window for the main path\n",
    "    filters -- python list of integers, defining the number of filters in the CONV layers of the main path\n",
    "    stage -- integer, used to name the layers, depending on their position in the network\n",
    "    block -- string/character, used to name the layers, depending on their position in the network\n",
    "    \n",
    "    Returns:\n",
    "    X -- output of the identity block, tensor of shape (n_H, n_W, n_C)\n",
    "    \"\"\"\n",
    "    \n",
    "    # defining name basis\n",
    "    conv_name_base = 'res' + str(stage) + block + '_branch'\n",
    "    bn_name_base = 'bn' + str(stage) + block + '_branch'\n",
    "    \n",
    "    # Retrieve Filters\n",
    "    F1, F2, F3 = filters\n",
    "    \n",
    "    # Save the input value. You'll need this later to add back to the main path. \n",
    "    X_shortcut = X\n",
    "    \n",
    "    # First component of main path\n",
    "    X = Conv2D(filters = F1, kernel_size = (1, 1), strides = (1,1), padding = 'valid', name = conv_name_base + '2a', kernel_initializer = glorot_uniform(seed=0))(X)\n",
    "    X = BatchNormalization(axis = 3, name = bn_name_base + '2a')(X)\n",
    "    X = Activation('relu')(X)\n",
    "    \n",
    "    ### START CODE HERE ###\n",
    "    \n",
    "    # Second component of main path (≈3 lines)\n",
    "    X = Conv2D(filters = F2, kernel_size = (f, f), strides = (1,1), padding = 'same', name = conv_name_base + '2b', kernel_initializer = glorot_uniform(seed=0))(X)\n",
    "    X = BatchNormalization(axis = 3, name = bn_name_base + '2b')(X)\n",
    "    X = Activation('relu')(X)\n",
    "\n",
    "    # Third component of main path (≈2 lines)\n",
    "    X = Conv2D(filters = F3, kernel_size = (1, 1), strides = (1,1), padding = 'valid', name = conv_name_base + '2c', kernel_initializer = glorot_uniform(seed=0))(X)\n",
    "    X = BatchNormalization(axis = 3, name = bn_name_base + '2c')(X)\n",
    "\n",
    "    # Final step: Add shortcut value to main path, and pass it through a RELU activation (≈2 lines)\n",
    "    X = Add()([X_shortcut, X])\n",
    "    X = Activation('relu')(X)\n",
    "    \n",
    "    ### END CODE HERE ###\n",
    "    \n",
    "    return X"
   ]
  },
  {
   "cell_type": "code",
   "execution_count": 240,
   "metadata": {},
   "outputs": [],
   "source": [
    "# GRADED FUNCTION: convolutional_block\n",
    "\n",
    "def convolutional_block(X, f, filters, stage, block, s = 2):\n",
    "    \"\"\"\n",
    "    Implementation of the convolutional block as defined in Figure 4\n",
    "    \n",
    "    Arguments:\n",
    "    X -- input tensor of shape (m, n_H_prev, n_W_prev, n_C_prev)\n",
    "    f -- integer, specifying the shape of the middle CONV's window for the main path\n",
    "    filters -- python list of integers, defining the number of filters in the CONV layers of the main path\n",
    "    stage -- integer, used to name the layers, depending on their position in the network\n",
    "    block -- string/character, used to name the layers, depending on their position in the network\n",
    "    s -- Integer, specifying the stride to be used\n",
    "    \n",
    "    Returns:\n",
    "    X -- output of the convolutional block, tensor of shape (n_H, n_W, n_C)\n",
    "    \"\"\"\n",
    "    \n",
    "    # defining name basis\n",
    "    conv_name_base = 'res' + str(stage) + block + '_branch'\n",
    "    bn_name_base = 'bn' + str(stage) + block + '_branch'\n",
    "    \n",
    "    # Retrieve Filters\n",
    "    F1, F2, F3 = filters\n",
    "    \n",
    "    # Save the input value\n",
    "    X_shortcut = X\n",
    "\n",
    "\n",
    "    ##### MAIN PATH #####\n",
    "    # First component of main path \n",
    "    X = Conv2D(F1, (1, 1), strides = (s,s), name = conv_name_base + '2a', kernel_initializer = glorot_uniform(seed=0))(X)\n",
    "    X = BatchNormalization(axis = 3, name = bn_name_base + '2a')(X)\n",
    "    X = Activation('relu')(X)\n",
    "    \n",
    "    ### START CODE HERE ###\n",
    "\n",
    "    # Second component of main path (≈3 lines)\n",
    "    X = Conv2D(F2, (f, f), strides = (1,1), padding = 'same', name = conv_name_base + '2b', kernel_initializer = glorot_uniform(seed=0))(X)\n",
    "    X = BatchNormalization(axis = 3, name = bn_name_base + '2b')(X)\n",
    "    X = Activation('relu')(X)\n",
    "\n",
    "    # Third component of main path (≈2 lines)\n",
    "    X = Conv2D(F3, (1,1), strides = (1,1), padding = 'valid', name = conv_name_base + '2c', kernel_initializer = glorot_uniform(seed=0))(X)\n",
    "    X = BatchNormalization(axis = 3, name = bn_name_base + '2c')(X)\n",
    "\n",
    "    ##### SHORTCUT PATH #### (≈2 lines)\n",
    "    X_shortcut = Conv2D(F3, (1,1), strides = (s,s), padding = 'valid', name = conv_name_base + '1', kernel_initializer = glorot_uniform(seed=0))(X_shortcut)\n",
    "    X_shortcut = BatchNormalization(axis = 3, name = bn_name_base + '1')(X_shortcut)\n",
    "\n",
    "    # Final step: Add shortcut value to main path, and pass it through a RELU activation (≈2 lines)\n",
    "    X = Add()([X, X_shortcut])\n",
    "    X = Activation('relu')(X)\n",
    "    \n",
    "    ### END CODE HERE ###\n",
    "    \n",
    "    return X"
   ]
  },
  {
   "cell_type": "code",
   "execution_count": 241,
   "metadata": {},
   "outputs": [],
   "source": [
    "# GRADED FUNCTION: ResNet50\n",
    "\n",
    "def ResNet50(input_shape = (64, 64, 3), classes = 2):\n",
    "    \"\"\"\n",
    "    Implementation of the popular ResNet50 the following architecture:\n",
    "    CONV2D -> BATCHNORM -> RELU -> MAXPOOL -> CONVBLOCK -> IDBLOCK*2 -> CONVBLOCK -> IDBLOCK*3\n",
    "    -> CONVBLOCK -> IDBLOCK*5 -> CONVBLOCK -> IDBLOCK*2 -> AVGPOOL -> TOPLAYER\n",
    "\n",
    "    Arguments:\n",
    "    input_shape -- shape of the images of the dataset\n",
    "    classes -- integer, number of classes\n",
    "\n",
    "    Returns:\n",
    "    model -- a Model() instance in Keras\n",
    "    \"\"\"\n",
    "    \n",
    "    # Define the input as a tensor with shape input_shape\n",
    "    X_input = Input(input_shape)\n",
    "\n",
    "    \n",
    "    # Zero-Padding\n",
    "    X = ZeroPadding2D((3, 3))(X_input)\n",
    "    \n",
    "    # Stage 1\n",
    "    X = Conv2D(64, (7, 7), strides = (2, 2), name = 'conv1', kernel_initializer = glorot_uniform(seed=0))(X)\n",
    "    X = BatchNormalization(axis = 3, name = 'bn_conv1')(X)\n",
    "    X = Activation('relu')(X)\n",
    "    X = MaxPooling2D((3, 3), strides=(2, 2))(X)\n",
    "\n",
    "    # Stage 2\n",
    "    X = convolutional_block(X, f = 3, filters = [64, 64, 256], stage = 2, block='a', s = 1)\n",
    "    X = identity_block(X, 3, [64, 64, 256], stage=2, block='b')\n",
    "    X = identity_block(X, 3, [64, 64, 256], stage=2, block='c')\n",
    "\n",
    "    ### START CODE HERE ###\n",
    "\n",
    "    # Stage 3 (≈4 lines)\n",
    "    X = convolutional_block(X, f = 3, filters = [128,128,512], stage = 3, block = 'a', s = 2)\n",
    "    X = identity_block(X, 3, [128,128,512], stage = 3, block = 'b')\n",
    "    X = identity_block(X, 3, [128,128,512], stage = 3, block = 'c')\n",
    "    X = identity_block(X, 3, [128,128,512], stage = 3, block = 'd')\n",
    "\n",
    "    # Stage 4 (≈6 lines)\n",
    "    X = convolutional_block(X, f = 3, filters = [256, 256, 1024], stage = 4, block = 'a', s = 2)\n",
    "    X = identity_block(X, 3, [256, 256, 1024], stage = 4, block = 'b')\n",
    "    X = identity_block(X, 3, [256, 256, 1024], stage = 4, block = 'c')\n",
    "    X = identity_block(X, 3, [256, 256, 1024], stage = 4, block = 'd')\n",
    "    X = identity_block(X, 3, [256, 256, 1024], stage = 4, block = 'e')\n",
    "    X = identity_block(X, 3, [256, 256, 1024], stage = 4, block = 'f')\n",
    "\n",
    "    # Stage 5 (≈3 lines)\n",
    "    X = convolutional_block(X, f = 3, filters = [512, 512, 2048], stage = 5, block = 'a', s = 2)\n",
    "    X = identity_block(X, 3, [512, 512, 2048], stage = 5, block = 'b')\n",
    "    X = identity_block(X, 3, [512, 512, 2048], stage = 5, block = 'c')\n",
    "\n",
    "    # AVGPOOL (≈1 line). Use \"X = AveragePooling2D(...)(X)\"\n",
    "    X = AveragePooling2D(pool_size = (2, 2), name = 'avg_pool')(X)\n",
    "    #AveragePooling2D(pool_size = (1, 1), name = 'avg_pool')(X)\n",
    "    \n",
    "    ### END CODE HERE ###\n",
    "\n",
    "    # output layer\n",
    "    X = Flatten()(X)\n",
    "    X = Dense(classes, activation='softmax', name='fc' + str(classes), kernel_initializer = glorot_uniform(seed=0))(X)\n",
    "    \n",
    "    \n",
    "    # Create model\n",
    "    model = Model(inputs = X_input, outputs = X, name='ResNet50')\n",
    "\n",
    "    return model"
   ]
  },
  {
   "cell_type": "code",
   "execution_count": 242,
   "metadata": {
    "scrolled": true
   },
   "outputs": [],
   "source": [
    "model = ResNet50(input_shape = (64, 64, 3), classes = 2)\n",
    "model.compile(optimizer='adam', loss='categorical_crossentropy', metrics=['accuracy'])"
   ]
  },
  {
   "cell_type": "code",
   "execution_count": 244,
   "metadata": {},
   "outputs": [
    {
     "name": "stdout",
     "output_type": "stream",
     "text": [
      "Train on 3415 samples, validate on 180 samples\n",
      "Epoch 1/20\n",
      "3415/3415 [==============================] - 833s 244ms/step - loss: 0.8448 - accuracy: 0.5151 - val_loss: 0.9204 - val_accuracy: 0.4722\n",
      "Epoch 2/20\n",
      "3415/3415 [==============================] - 908s 266ms/step - loss: 0.8377 - accuracy: 0.5142 - val_loss: 0.8577 - val_accuracy: 0.5056\n",
      "Epoch 3/20\n",
      "3415/3415 [==============================] - 863s 253ms/step - loss: 0.9263 - accuracy: 0.5157 - val_loss: 0.7032 - val_accuracy: 0.5611\n",
      "Epoch 4/20\n",
      "3415/3415 [==============================] - 735s 215ms/step - loss: 0.8456 - accuracy: 0.5209 - val_loss: 1.0259 - val_accuracy: 0.5389\n",
      "Epoch 5/20\n",
      "3415/3415 [==============================] - 770s 226ms/step - loss: 0.8968 - accuracy: 0.5300 - val_loss: 0.8275 - val_accuracy: 0.5056\n",
      "Epoch 6/20\n",
      "3415/3415 [==============================] - 757s 222ms/step - loss: 0.7527 - accuracy: 0.5286 - val_loss: 0.7174 - val_accuracy: 0.5222\n",
      "Epoch 7/20\n",
      "3415/3415 [==============================] - 786s 230ms/step - loss: 0.7481 - accuracy: 0.5297 - val_loss: 0.7203 - val_accuracy: 0.5111\n",
      "Epoch 8/20\n",
      "3415/3415 [==============================] - 759s 222ms/step - loss: 0.7376 - accuracy: 0.5385 - val_loss: 0.9513 - val_accuracy: 0.4889\n",
      "Epoch 9/20\n",
      "3415/3415 [==============================] - 759s 222ms/step - loss: 0.7113 - accuracy: 0.5505 - val_loss: 0.7046 - val_accuracy: 0.5500\n",
      "Epoch 10/20\n",
      "3415/3415 [==============================] - 751s 220ms/step - loss: 0.7016 - accuracy: 0.5625 - val_loss: 0.6985 - val_accuracy: 0.5500\n",
      "Epoch 11/20\n",
      "3415/3415 [==============================] - 752s 220ms/step - loss: 0.7115 - accuracy: 0.5748 - val_loss: 0.7409 - val_accuracy: 0.5222\n",
      "Epoch 12/20\n",
      "3415/3415 [==============================] - 750s 220ms/step - loss: 0.7033 - accuracy: 0.5552 - val_loss: 0.6980 - val_accuracy: 0.5333\n",
      "Epoch 13/20\n",
      "3415/3415 [==============================] - 751s 220ms/step - loss: 0.7019 - accuracy: 0.5816 - val_loss: 0.6883 - val_accuracy: 0.5222\n",
      "Epoch 14/20\n",
      "3415/3415 [==============================] - 752s 220ms/step - loss: 0.7122 - accuracy: 0.5777 - val_loss: 0.8385 - val_accuracy: 0.5667\n",
      "Epoch 15/20\n",
      "3415/3415 [==============================] - 756s 221ms/step - loss: 0.7011 - accuracy: 0.5719 - val_loss: 0.6853 - val_accuracy: 0.5556\n",
      "Epoch 16/20\n",
      "3415/3415 [==============================] - 755s 221ms/step - loss: 0.7117 - accuracy: 0.5608 - val_loss: 0.7118 - val_accuracy: 0.4944\n",
      "Epoch 17/20\n",
      "3415/3415 [==============================] - 751s 220ms/step - loss: 0.7141 - accuracy: 0.5798 - val_loss: 0.7268 - val_accuracy: 0.5722\n",
      "Epoch 18/20\n",
      "3415/3415 [==============================] - 749s 219ms/step - loss: 0.7408 - accuracy: 0.5628 - val_loss: 0.8927 - val_accuracy: 0.5500\n",
      "Epoch 19/20\n",
      "3415/3415 [==============================] - 755s 221ms/step - loss: 0.7757 - accuracy: 0.5148 - val_loss: 0.7448 - val_accuracy: 0.5222\n",
      "Epoch 20/20\n",
      "3415/3415 [==============================] - 757s 222ms/step - loss: 0.7222 - accuracy: 0.5256 - val_loss: 0.7564 - val_accuracy: 0.5167\n"
     ]
    },
    {
     "data": {
      "text/plain": [
       "<keras.callbacks.callbacks.History at 0x22979e890c8>"
      ]
     },
     "execution_count": 244,
     "metadata": {},
     "output_type": "execute_result"
    }
   ],
   "source": [
    "model.fit(x_train, to_categorical(y_train), epochs = 20, batch_size = 32, validation_split = 0.05)"
   ]
  },
  {
   "cell_type": "code",
   "execution_count": null,
   "metadata": {},
   "outputs": [
    {
     "name": "stdout",
     "output_type": "stream",
     "text": [
      "352/400 [=========================>....] - ETA: 1s"
     ]
    }
   ],
   "source": [
    "model.evaluate(x_test, to_categorical(y_test))"
   ]
  },
  {
   "cell_type": "markdown",
   "metadata": {
    "heading_collapsed": true
   },
   "source": [
    "# Other"
   ]
  },
  {
   "cell_type": "code",
   "execution_count": 312,
   "metadata": {
    "hidden": true
   },
   "outputs": [
    {
     "ename": "AttributeError",
     "evalue": "'Node' object has no attribute 'output_masks'",
     "output_type": "error",
     "traceback": [
      "\u001b[1;31m---------------------------------------------------------------------------\u001b[0m",
      "\u001b[1;31mAttributeError\u001b[0m                            Traceback (most recent call last)",
      "\u001b[1;32m<ipython-input-312-1cd280b5875e>\u001b[0m in \u001b[0;36m<module>\u001b[1;34m\u001b[0m\n\u001b[0;32m      1\u001b[0m \u001b[0mopt\u001b[0m \u001b[1;33m=\u001b[0m \u001b[0mkeras\u001b[0m\u001b[1;33m.\u001b[0m\u001b[0moptimizers\u001b[0m\u001b[1;33m.\u001b[0m\u001b[0mrmsprop\u001b[0m\u001b[1;33m(\u001b[0m\u001b[0mlr\u001b[0m\u001b[1;33m=\u001b[0m\u001b[1;36m0.0001\u001b[0m\u001b[1;33m,\u001b[0m \u001b[0mdecay\u001b[0m\u001b[1;33m=\u001b[0m\u001b[1;36m1e-6\u001b[0m\u001b[1;33m)\u001b[0m\u001b[1;33m\u001b[0m\u001b[1;33m\u001b[0m\u001b[0m\n\u001b[1;32m----> 2\u001b[1;33m \u001b[0mmodel\u001b[0m \u001b[1;33m=\u001b[0m \u001b[0mDeepConvNet\u001b[0m\u001b[1;33m(\u001b[0m\u001b[1;36m2\u001b[0m\u001b[1;33m,\u001b[0m \u001b[0mpicsize\u001b[0m\u001b[1;33m=\u001b[0m \u001b[1;36m64\u001b[0m\u001b[1;33m,\u001b[0m \u001b[0mdropoutRate\u001b[0m \u001b[1;33m=\u001b[0m \u001b[1;36m0.5\u001b[0m\u001b[1;33m)\u001b[0m\u001b[1;33m\u001b[0m\u001b[1;33m\u001b[0m\u001b[0m\n\u001b[0m\u001b[0;32m      3\u001b[0m \u001b[1;31m# Let's train the model using RMSprop\u001b[0m\u001b[1;33m\u001b[0m\u001b[1;33m\u001b[0m\u001b[1;33m\u001b[0m\u001b[0m\n\u001b[0;32m      4\u001b[0m model.compile(loss='categorical_crossentropy',\n\u001b[0;32m      5\u001b[0m               \u001b[0moptimizer\u001b[0m\u001b[1;33m=\u001b[0m\u001b[0mopt\u001b[0m\u001b[1;33m,\u001b[0m\u001b[1;33m\u001b[0m\u001b[1;33m\u001b[0m\u001b[0m\n",
      "\u001b[1;32m<ipython-input-310-51e69ff79a3b>\u001b[0m in \u001b[0;36mDeepConvNet\u001b[1;34m(nb_classes, picsize, dropoutRate)\u001b[0m\n\u001b[0;32m     16\u001b[0m     \u001b[1;31m# start the model\u001b[0m\u001b[1;33m\u001b[0m\u001b[1;33m\u001b[0m\u001b[1;33m\u001b[0m\u001b[0m\n\u001b[0;32m     17\u001b[0m     \u001b[0minput_main\u001b[0m   \u001b[1;33m=\u001b[0m \u001b[0mInput\u001b[0m\u001b[1;33m(\u001b[0m\u001b[1;33m(\u001b[0m\u001b[0mpicsize\u001b[0m\u001b[1;33m,\u001b[0m\u001b[0mpicsize\u001b[0m\u001b[1;33m,\u001b[0m\u001b[1;36m3\u001b[0m\u001b[1;33m)\u001b[0m\u001b[1;33m)\u001b[0m\u001b[1;33m\u001b[0m\u001b[1;33m\u001b[0m\u001b[0m\n\u001b[1;32m---> 18\u001b[1;33m     \u001b[0mblock1\u001b[0m       \u001b[1;33m=\u001b[0m \u001b[0mConv2D\u001b[0m\u001b[1;33m(\u001b[0m\u001b[1;36m32\u001b[0m\u001b[1;33m,\u001b[0m \u001b[1;33m(\u001b[0m\u001b[1;36m3\u001b[0m\u001b[1;33m,\u001b[0m \u001b[1;36m3\u001b[0m\u001b[1;33m)\u001b[0m\u001b[1;33m,\u001b[0m \u001b[0mpadding\u001b[0m\u001b[1;33m=\u001b[0m\u001b[1;34m'same'\u001b[0m\u001b[1;33m,\u001b[0m\u001b[0minput_shape\u001b[0m\u001b[1;33m=\u001b[0m\u001b[0minput_shape\u001b[0m\u001b[1;33m)\u001b[0m\u001b[1;33m(\u001b[0m\u001b[0minput_main\u001b[0m\u001b[1;33m)\u001b[0m\u001b[1;33m\u001b[0m\u001b[1;33m\u001b[0m\u001b[0m\n\u001b[0m\u001b[0;32m     19\u001b[0m     block1       = Conv2D(25, (picsize,1),\n\u001b[0;32m     20\u001b[0m                                  kernel_constraint = max_norm(2., axis=(0,1,2)))(block1)\n",
      "\u001b[1;32mC:\\ProgramData\\Anaconda3\\lib\\site-packages\\keras\\engine\\base_layer.py\u001b[0m in \u001b[0;36m__call__\u001b[1;34m(self, inputs, **kwargs)\u001b[0m\n\u001b[0;32m    473\u001b[0m \u001b[1;33m\u001b[0m\u001b[0m\n\u001b[0;32m    474\u001b[0m             \u001b[1;31m# Handle mask propagation.\u001b[0m\u001b[1;33m\u001b[0m\u001b[1;33m\u001b[0m\u001b[1;33m\u001b[0m\u001b[0m\n\u001b[1;32m--> 475\u001b[1;33m             \u001b[0mprevious_mask\u001b[0m \u001b[1;33m=\u001b[0m \u001b[0m_collect_previous_mask\u001b[0m\u001b[1;33m(\u001b[0m\u001b[0minputs\u001b[0m\u001b[1;33m)\u001b[0m\u001b[1;33m\u001b[0m\u001b[1;33m\u001b[0m\u001b[0m\n\u001b[0m\u001b[0;32m    476\u001b[0m             \u001b[0muser_kwargs\u001b[0m \u001b[1;33m=\u001b[0m \u001b[0mkwargs\u001b[0m\u001b[1;33m.\u001b[0m\u001b[0mcopy\u001b[0m\u001b[1;33m(\u001b[0m\u001b[1;33m)\u001b[0m\u001b[1;33m\u001b[0m\u001b[1;33m\u001b[0m\u001b[0m\n\u001b[0;32m    477\u001b[0m             \u001b[1;32mif\u001b[0m \u001b[1;32mnot\u001b[0m \u001b[0mis_all_none\u001b[0m\u001b[1;33m(\u001b[0m\u001b[0mprevious_mask\u001b[0m\u001b[1;33m)\u001b[0m\u001b[1;33m:\u001b[0m\u001b[1;33m\u001b[0m\u001b[1;33m\u001b[0m\u001b[0m\n",
      "\u001b[1;32mC:\\ProgramData\\Anaconda3\\lib\\site-packages\\keras\\engine\\base_layer.py\u001b[0m in \u001b[0;36m_collect_previous_mask\u001b[1;34m(input_tensors)\u001b[0m\n\u001b[0;32m   1439\u001b[0m             \u001b[0minbound_layer\u001b[0m\u001b[1;33m,\u001b[0m \u001b[0mnode_index\u001b[0m\u001b[1;33m,\u001b[0m \u001b[0mtensor_index\u001b[0m \u001b[1;33m=\u001b[0m \u001b[0mx\u001b[0m\u001b[1;33m.\u001b[0m\u001b[0m_keras_history\u001b[0m\u001b[1;33m\u001b[0m\u001b[1;33m\u001b[0m\u001b[0m\n\u001b[0;32m   1440\u001b[0m             \u001b[0mnode\u001b[0m \u001b[1;33m=\u001b[0m \u001b[0minbound_layer\u001b[0m\u001b[1;33m.\u001b[0m\u001b[0m_inbound_nodes\u001b[0m\u001b[1;33m[\u001b[0m\u001b[0mnode_index\u001b[0m\u001b[1;33m]\u001b[0m\u001b[1;33m\u001b[0m\u001b[1;33m\u001b[0m\u001b[0m\n\u001b[1;32m-> 1441\u001b[1;33m             \u001b[0mmask\u001b[0m \u001b[1;33m=\u001b[0m \u001b[0mnode\u001b[0m\u001b[1;33m.\u001b[0m\u001b[0moutput_masks\u001b[0m\u001b[1;33m[\u001b[0m\u001b[0mtensor_index\u001b[0m\u001b[1;33m]\u001b[0m\u001b[1;33m\u001b[0m\u001b[1;33m\u001b[0m\u001b[0m\n\u001b[0m\u001b[0;32m   1442\u001b[0m             \u001b[0mmasks\u001b[0m\u001b[1;33m.\u001b[0m\u001b[0mappend\u001b[0m\u001b[1;33m(\u001b[0m\u001b[0mmask\u001b[0m\u001b[1;33m)\u001b[0m\u001b[1;33m\u001b[0m\u001b[1;33m\u001b[0m\u001b[0m\n\u001b[0;32m   1443\u001b[0m         \u001b[1;32melse\u001b[0m\u001b[1;33m:\u001b[0m\u001b[1;33m\u001b[0m\u001b[1;33m\u001b[0m\u001b[0m\n",
      "\u001b[1;31mAttributeError\u001b[0m: 'Node' object has no attribute 'output_masks'"
     ]
    }
   ],
   "source": [
    "opt = keras.optimizers.rmsprop(lr=0.0001, decay=1e-6)\n",
    "model = DeepConvNet(2, picsize= 64, dropoutRate = 0.5)\n",
    "# Let's train the model using RMSprop\n",
    "model.compile(loss='categorical_crossentropy',\n",
    "              optimizer=opt,\n",
    "              metrics=['accuracy'])\n",
    "\n",
    "x_train = x_train.astype('float32')\n",
    "x_test = x_test.astype('float32')\n",
    "#x_train /= 255\n",
    "#x_test /= 255\n",
    "\n",
    "\n",
    "model.fit(x_train, y_train,\n",
    "          batch_size=batch_size,\n",
    "          epochs=epochs,\n",
    "          validation_data=(x_test, y_test),\n",
    "          shuffle=True)"
   ]
  },
  {
   "cell_type": "markdown",
   "metadata": {},
   "source": [
    "# Prepare data for old models"
   ]
  },
  {
   "cell_type": "code",
   "execution_count": 8,
   "metadata": {},
   "outputs": [
    {
     "data": {
      "text/plain": [
       "(20000, 14)"
      ]
     },
     "execution_count": 8,
     "metadata": {},
     "output_type": "execute_result"
    }
   ],
   "source": [
    "check = pd.read_csv('New_data_29_04\\\\data_train_new_appr_1_label1.csv')\n",
    "check.shape"
   ]
  },
  {
   "cell_type": "code",
   "execution_count": 22,
   "metadata": {},
   "outputs": [],
   "source": [
    "def prepare_data_to_old(df, label, sample_start):\n",
    "    l = []\n",
    "    for i in range(sample_start, sample_start+200):\n",
    "        l = l + [i]*100\n",
    "    print(len(l))\n",
    "    df['sample_num'] = l\n",
    "    df['label'] = label\n",
    "    return df"
   ]
  },
  {
   "cell_type": "code",
   "execution_count": 23,
   "metadata": {},
   "outputs": [
    {
     "name": "stdout",
     "output_type": "stream",
     "text": [
      "20000\n",
      "20000\n",
      "20000\n",
      "20000\n",
      "20000\n",
      "20000\n",
      "20000\n",
      "20000\n",
      "20000\n",
      "20000\n",
      "20000\n",
      "20000\n",
      "20000\n",
      "20000\n"
     ]
    }
   ],
   "source": [
    "labels = [1,0,1,0,0,1,0,1,0,1,0,1,0,1]\n",
    "df_1 = pd.read_csv('New_data_29_04\\\\data_train_new_appr_1_label1.csv')\n",
    "df_2 = pd.read_csv('New_data_29_04\\\\data_train_new_appr_2_label0.csv')\n",
    "df_3 = pd.read_csv('New_data_29_04\\\\data_train_new_appr_3_label1.csv')\n",
    "df_4 = pd.read_csv('New_data_29_04\\\\data_train_new_appr_4_label0.csv')\n",
    "df_5 = pd.read_csv('New_data_29_04\\\\data_train_new_appr_5_label0.csv')\n",
    "df_6 = pd.read_csv('New_data_29_04\\\\data_train_new_appr_6_label1.csv')\n",
    "df_7 = pd.read_csv('New_data_29_04\\\\data_train_new_appr_7_label0.csv')\n",
    "df_8 = pd.read_csv('New_data_29_04\\\\data_train_new_appr_8_label1.csv')\n",
    "df_9 = pd.read_csv('New_data_29_04\\\\data_train_new_appr_9_label0.csv')\n",
    "df_10 = pd.read_csv('New_data_29_04\\\\data_train_new_appr_10_label1.csv')\n",
    "df_11 = pd.read_csv('New_data_29_04\\\\data_train_new_appr_11_label0.csv')\n",
    "df_12 = pd.read_csv('New_data_29_04\\\\data_train_new_appr_12_label1.csv')\n",
    "df_13 = pd.read_csv('New_data_29_04\\\\data_train_new_appr_13_label0.csv')\n",
    "df_14 = pd.read_csv('New_data_29_04\\\\data_train_new_appr_14_label1.csv')\n",
    "l = [df_1, df_2, df_3, df_4, df_5, df_6, df_7,\n",
    "       df_8, df_9, df_10, df_11, df_12, df_13, df_14]\n",
    "sample_start = 0\n",
    "k = 0\n",
    "df_all = pd.DataFrame()\n",
    "for i, j in zip(l, labels):\n",
    "    if k == 0:\n",
    "        df_all = prepare_data_to_old(i, j, sample_start)\n",
    "        sample_start = sample_start + 200\n",
    "    else:\n",
    "        df_all = pd.concat([df_all, prepare_data_to_old(i, j, sample_start)])\n",
    "        sample_start = sample_start + 200\n",
    "    k = k+1"
   ]
  },
  {
   "cell_type": "code",
   "execution_count": 28,
   "metadata": {},
   "outputs": [
    {
     "data": {
      "text/plain": [
       "0           0\n",
       "1           0\n",
       "2           0\n",
       "3           0\n",
       "4           0\n",
       "         ... \n",
       "19995    2799\n",
       "19996    2799\n",
       "19997    2799\n",
       "19998    2799\n",
       "19999    2799\n",
       "Name: sample_num, Length: 280000, dtype: int64"
      ]
     },
     "execution_count": 28,
     "metadata": {},
     "output_type": "execute_result"
    }
   ],
   "source": [
    "df_all['sample_num']"
   ]
  },
  {
   "cell_type": "code",
   "execution_count": 29,
   "metadata": {},
   "outputs": [],
   "source": [
    "df_all.to_csv('df_all.csv')"
   ]
  },
  {
   "cell_type": "code",
   "execution_count": null,
   "metadata": {},
   "outputs": [],
   "source": []
  }
 ],
 "metadata": {
  "anaconda-cloud": {},
  "kernelspec": {
   "display_name": "Python 3",
   "language": "python",
   "name": "python3"
  },
  "language_info": {
   "codemirror_mode": {
    "name": "ipython",
    "version": 3
   },
   "file_extension": ".py",
   "mimetype": "text/x-python",
   "name": "python",
   "nbconvert_exporter": "python",
   "pygments_lexer": "ipython3",
   "version": "3.7.4"
  },
  "toc": {
   "base_numbering": 1,
   "nav_menu": {},
   "number_sections": true,
   "sideBar": true,
   "skip_h1_title": false,
   "title_cell": "Table of Contents",
   "title_sidebar": "Contents",
   "toc_cell": false,
   "toc_position": {},
   "toc_section_display": true,
   "toc_window_display": false
  }
 },
 "nbformat": 4,
 "nbformat_minor": 1
}
