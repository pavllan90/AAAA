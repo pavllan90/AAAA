{
 "cells": [
  {
   "cell_type": "code",
   "execution_count": 2,
   "metadata": {
    "scrolled": true
   },
   "outputs": [
    {
     "name": "stderr",
     "output_type": "stream",
     "text": [
      "C:\\Users\\user\\Anaconda3\\envs\\Diplom_New\\lib\\site-packages\\tensorflow\\python\\framework\\dtypes.py:516: FutureWarning: Passing (type, 1) or '1type' as a synonym of type is deprecated; in a future version of numpy, it will be understood as (type, (1,)) / '(1,)type'.\n",
      "  _np_qint8 = np.dtype([(\"qint8\", np.int8, 1)])\n",
      "C:\\Users\\user\\Anaconda3\\envs\\Diplom_New\\lib\\site-packages\\tensorflow\\python\\framework\\dtypes.py:517: FutureWarning: Passing (type, 1) or '1type' as a synonym of type is deprecated; in a future version of numpy, it will be understood as (type, (1,)) / '(1,)type'.\n",
      "  _np_quint8 = np.dtype([(\"quint8\", np.uint8, 1)])\n",
      "C:\\Users\\user\\Anaconda3\\envs\\Diplom_New\\lib\\site-packages\\tensorflow\\python\\framework\\dtypes.py:518: FutureWarning: Passing (type, 1) or '1type' as a synonym of type is deprecated; in a future version of numpy, it will be understood as (type, (1,)) / '(1,)type'.\n",
      "  _np_qint16 = np.dtype([(\"qint16\", np.int16, 1)])\n",
      "C:\\Users\\user\\Anaconda3\\envs\\Diplom_New\\lib\\site-packages\\tensorflow\\python\\framework\\dtypes.py:519: FutureWarning: Passing (type, 1) or '1type' as a synonym of type is deprecated; in a future version of numpy, it will be understood as (type, (1,)) / '(1,)type'.\n",
      "  _np_quint16 = np.dtype([(\"quint16\", np.uint16, 1)])\n",
      "C:\\Users\\user\\Anaconda3\\envs\\Diplom_New\\lib\\site-packages\\tensorflow\\python\\framework\\dtypes.py:520: FutureWarning: Passing (type, 1) or '1type' as a synonym of type is deprecated; in a future version of numpy, it will be understood as (type, (1,)) / '(1,)type'.\n",
      "  _np_qint32 = np.dtype([(\"qint32\", np.int32, 1)])\n",
      "C:\\Users\\user\\Anaconda3\\envs\\Diplom_New\\lib\\site-packages\\tensorflow\\python\\framework\\dtypes.py:525: FutureWarning: Passing (type, 1) or '1type' as a synonym of type is deprecated; in a future version of numpy, it will be understood as (type, (1,)) / '(1,)type'.\n",
      "  np_resource = np.dtype([(\"resource\", np.ubyte, 1)])\n",
      "C:\\Users\\user\\Anaconda3\\envs\\Diplom_New\\lib\\site-packages\\tensorboard\\compat\\tensorflow_stub\\dtypes.py:541: FutureWarning: Passing (type, 1) or '1type' as a synonym of type is deprecated; in a future version of numpy, it will be understood as (type, (1,)) / '(1,)type'.\n",
      "  _np_qint8 = np.dtype([(\"qint8\", np.int8, 1)])\n",
      "C:\\Users\\user\\Anaconda3\\envs\\Diplom_New\\lib\\site-packages\\tensorboard\\compat\\tensorflow_stub\\dtypes.py:542: FutureWarning: Passing (type, 1) or '1type' as a synonym of type is deprecated; in a future version of numpy, it will be understood as (type, (1,)) / '(1,)type'.\n",
      "  _np_quint8 = np.dtype([(\"quint8\", np.uint8, 1)])\n",
      "C:\\Users\\user\\Anaconda3\\envs\\Diplom_New\\lib\\site-packages\\tensorboard\\compat\\tensorflow_stub\\dtypes.py:543: FutureWarning: Passing (type, 1) or '1type' as a synonym of type is deprecated; in a future version of numpy, it will be understood as (type, (1,)) / '(1,)type'.\n",
      "  _np_qint16 = np.dtype([(\"qint16\", np.int16, 1)])\n",
      "C:\\Users\\user\\Anaconda3\\envs\\Diplom_New\\lib\\site-packages\\tensorboard\\compat\\tensorflow_stub\\dtypes.py:544: FutureWarning: Passing (type, 1) or '1type' as a synonym of type is deprecated; in a future version of numpy, it will be understood as (type, (1,)) / '(1,)type'.\n",
      "  _np_quint16 = np.dtype([(\"quint16\", np.uint16, 1)])\n",
      "C:\\Users\\user\\Anaconda3\\envs\\Diplom_New\\lib\\site-packages\\tensorboard\\compat\\tensorflow_stub\\dtypes.py:545: FutureWarning: Passing (type, 1) or '1type' as a synonym of type is deprecated; in a future version of numpy, it will be understood as (type, (1,)) / '(1,)type'.\n",
      "  _np_qint32 = np.dtype([(\"qint32\", np.int32, 1)])\n",
      "C:\\Users\\user\\Anaconda3\\envs\\Diplom_New\\lib\\site-packages\\tensorboard\\compat\\tensorflow_stub\\dtypes.py:550: FutureWarning: Passing (type, 1) or '1type' as a synonym of type is deprecated; in a future version of numpy, it will be understood as (type, (1,)) / '(1,)type'.\n",
      "  np_resource = np.dtype([(\"resource\", np.ubyte, 1)])\n"
     ]
    }
   ],
   "source": [
    "import numpy as np\n",
    "import pandas as pd\n",
    "import tensorflow\n",
    "from os import listdir\n",
    "from sklearn.ensemble import RandomForestClassifier\n",
    "from sklearn.utils import shuffle\n",
    "import pickle\n",
    "#import matplotlib.pyplot as plt\n",
    "from math import sqrt\n",
    "#import seaborn as sns\n",
    "from sklearn.preprocessing import StandardScaler\n",
    "#from statsmodels.stats.weightstats import _tconfint_generic"
   ]
  },
  {
   "cell_type": "code",
   "execution_count": 16,
   "metadata": {},
   "outputs": [],
   "source": [
    "from sklearn.model_selection import train_test_split, cross_val_score, GridSearchCV\n",
    "from sklearn.metrics import accuracy_score\n",
    "from sklearn.linear_model import LogisticRegression\n",
    "from sklearn.tree import DecisionTreeClassifier\n",
    "from sklearn.ensemble import RandomForestClassifier\n",
    "from sklearn.ensemble import GradientBoostingClassifier"
   ]
  },
  {
   "cell_type": "markdown",
   "metadata": {},
   "source": [
    "# Get data for training"
   ]
  },
  {
   "cell_type": "markdown",
   "metadata": {
    "heading_collapsed": true
   },
   "source": [
    "## Prepare 1_0 data"
   ]
  },
  {
   "cell_type": "code",
   "execution_count": 5,
   "metadata": {
    "hidden": true,
    "scrolled": true
   },
   "outputs": [
    {
     "data": {
      "text/plain": [
       "['data_train_1.csv',\n",
       " 'data_train_2.csv',\n",
       " 'data_train_3.csv',\n",
       " 'data_train_4.csv']"
      ]
     },
     "execution_count": 5,
     "metadata": {},
     "output_type": "execute_result"
    }
   ],
   "source": [
    "file_list = listdir('Data_1_0')\n",
    "file_list"
   ]
  },
  {
   "cell_type": "code",
   "execution_count": 8,
   "metadata": {
    "hidden": true
   },
   "outputs": [
    {
     "data": {
      "text/plain": [
       "20500"
      ]
     },
     "execution_count": 8,
     "metadata": {},
     "output_type": "execute_result"
    }
   ],
   "source": [
    "full_shape = 0\n",
    "for i in file_list:\n",
    "    df = pd.read_csv('Data_1_0\\\\'+str(i))\n",
    "    full_shape = full_shape + df.shape[0]\n",
    "full_shape"
   ]
  },
  {
   "cell_type": "code",
   "execution_count": 18,
   "metadata": {
    "hidden": true
   },
   "outputs": [
    {
     "data": {
      "text/plain": [
       "array([ 0,  1,  2,  3,  4,  5,  6,  7,  8,  9, 10, 11, 12, 13, 14, 15, 16,\n",
       "       17, 18, 19, 20, 21, 22, 23, 24, 25, 26, 27, 28, 29, 30, 31, 32, 33,\n",
       "       34, 35, 36, 37, 38, 39], dtype=int64)"
      ]
     },
     "execution_count": 18,
     "metadata": {},
     "output_type": "execute_result"
    }
   ],
   "source": [
    "df_1 = pd.read_csv('Data_1_0\\\\'+file_list[0])\n",
    "df_1['0'].unique()"
   ]
  },
  {
   "cell_type": "code",
   "execution_count": 19,
   "metadata": {
    "hidden": true
   },
   "outputs": [
    {
     "data": {
      "text/plain": [
       "array([ 40,  41,  42,  43,  44,  45,  46,  47,  48,  49,  50,  51,  52,\n",
       "        53,  54,  55,  56,  57,  58,  59,  60,  61,  62,  63,  64,  65,\n",
       "        66,  67,  68,  69,  70,  71,  72,  73,  74,  75,  76,  77,  78,\n",
       "        79,  80,  81,  82,  83,  84,  85,  86,  87,  88,  89,  90,  91,\n",
       "        92,  93,  94,  95,  96,  97,  98,  99, 100, 101, 102, 103, 104,\n",
       "       105, 106, 107, 108, 109], dtype=int64)"
      ]
     },
     "execution_count": 19,
     "metadata": {},
     "output_type": "execute_result"
    }
   ],
   "source": [
    "df_2 = pd.read_csv('Data_1_0\\\\'+file_list[1])\n",
    "df_2['0'] = df_2['0'] + 40\n",
    "df_2['0'].unique()"
   ]
  },
  {
   "cell_type": "code",
   "execution_count": 20,
   "metadata": {
    "hidden": true
   },
   "outputs": [
    {
     "data": {
      "text/plain": [
       "array([110, 111, 112, 113, 114, 115, 116, 117, 118, 119, 120, 121, 122,\n",
       "       123, 124, 125, 126, 127, 128, 129, 130, 131, 132, 133, 134, 135,\n",
       "       136, 137, 138, 139, 140, 141, 142, 143, 144, 145, 146, 147, 148,\n",
       "       149, 150, 151, 152, 153, 154, 155, 156, 157, 158, 159, 160, 161,\n",
       "       162, 163, 164, 165, 166, 167, 168, 169], dtype=int64)"
      ]
     },
     "execution_count": 20,
     "metadata": {},
     "output_type": "execute_result"
    }
   ],
   "source": [
    "df_3 = pd.read_csv('Data_1_0\\\\'+file_list[2])\n",
    "df_3['0'] = df_3['0'] + 110\n",
    "df_3['0'].unique()"
   ]
  },
  {
   "cell_type": "code",
   "execution_count": 21,
   "metadata": {
    "hidden": true
   },
   "outputs": [
    {
     "data": {
      "text/plain": [
       "array([170, 171, 172, 173, 174, 175, 176, 177, 178, 179, 180, 181, 182,\n",
       "       183, 184, 185, 186, 187, 188, 189, 190, 191, 192, 193, 194, 195,\n",
       "       196, 197, 198, 199, 200, 201, 202, 203, 204], dtype=int64)"
      ]
     },
     "execution_count": 21,
     "metadata": {},
     "output_type": "execute_result"
    }
   ],
   "source": [
    "df_4 = pd.read_csv('Data_1_0\\\\'+file_list[3])\n",
    "df_4['0'] = df_4['0'] + 170\n",
    "df_4['0'].unique()"
   ]
  },
  {
   "cell_type": "code",
   "execution_count": 22,
   "metadata": {
    "hidden": true
   },
   "outputs": [
    {
     "data": {
      "text/plain": [
       "(20500, 16)"
      ]
     },
     "execution_count": 22,
     "metadata": {},
     "output_type": "execute_result"
    }
   ],
   "source": [
    "df_1_0 = pd.concat([df_1, df_2, df_3, df_4])\n",
    "df_1_0.shape"
   ]
  },
  {
   "cell_type": "code",
   "execution_count": 51,
   "metadata": {
    "hidden": true
   },
   "outputs": [
    {
     "data": {
      "text/plain": [
       "205"
      ]
     },
     "execution_count": 51,
     "metadata": {},
     "output_type": "execute_result"
    }
   ],
   "source": [
    "len(df_1_0['0'].unique())"
   ]
  },
  {
   "cell_type": "code",
   "execution_count": 54,
   "metadata": {
    "hidden": true
   },
   "outputs": [
    {
     "name": "stdout",
     "output_type": "stream",
     "text": [
      "['1_0']\n",
      "(20400, 16)\n"
     ]
    },
    {
     "data": {
      "text/plain": [
       "array(['1_0'], dtype=object)"
      ]
     },
     "execution_count": 54,
     "metadata": {},
     "output_type": "execute_result"
    }
   ],
   "source": [
    "print(df_1_0['15'].unique())\n",
    "df_1_0 = df_1_0[df_1_0['15'] == '1_0']\n",
    "print(df_1_0.shape)\n",
    "df_1_0['15'].unique()"
   ]
  },
  {
   "cell_type": "code",
   "execution_count": 65,
   "metadata": {
    "hidden": true
   },
   "outputs": [],
   "source": [
    "df_1_0.to_csv('Data_1_0\\\\Prepared_data.csv', index = False)"
   ]
  },
  {
   "cell_type": "markdown",
   "metadata": {
    "heading_collapsed": true
   },
   "source": [
    "## prepare 0_1 data"
   ]
  },
  {
   "cell_type": "code",
   "execution_count": 29,
   "metadata": {
    "hidden": true
   },
   "outputs": [
    {
     "data": {
      "text/plain": [
       "['data_train_1.csv',\n",
       " 'data_train_2.csv',\n",
       " 'data_train_3.csv',\n",
       " 'data_train_4.csv',\n",
       " 'data_train_5.csv',\n",
       " 'data_train_6.csv',\n",
       " 'data_train_7.csv',\n",
       " 'data_train_8.csv']"
      ]
     },
     "execution_count": 29,
     "metadata": {},
     "output_type": "execute_result"
    }
   ],
   "source": [
    "file_list = listdir('Data_0_1')\n",
    "file_list"
   ]
  },
  {
   "cell_type": "code",
   "execution_count": 30,
   "metadata": {
    "hidden": true
   },
   "outputs": [
    {
     "data": {
      "text/plain": [
       "20300"
      ]
     },
     "execution_count": 30,
     "metadata": {},
     "output_type": "execute_result"
    }
   ],
   "source": [
    "full_shape = 0\n",
    "for i in file_list:\n",
    "    df = pd.read_csv('Data_0_1\\\\'+str(i))\n",
    "    full_shape = full_shape + df.shape[0]\n",
    "full_shape"
   ]
  },
  {
   "cell_type": "code",
   "execution_count": 38,
   "metadata": {
    "hidden": true
   },
   "outputs": [
    {
     "data": {
      "text/plain": [
       "array([ 0,  1,  2,  3,  4,  5,  6,  7,  8,  9, 10, 11, 12, 13, 14, 15, 16,\n",
       "       17, 18, 19, 20, 21, 22, 23, 24, 25, 26, 27, 28, 29, 30, 31, 32, 33],\n",
       "      dtype=int64)"
      ]
     },
     "execution_count": 38,
     "metadata": {},
     "output_type": "execute_result"
    }
   ],
   "source": [
    "df_1 = pd.read_csv('Data_0_1\\\\'+file_list[0])\n",
    "df_1['0'].unique()"
   ]
  },
  {
   "cell_type": "code",
   "execution_count": 39,
   "metadata": {
    "hidden": true
   },
   "outputs": [
    {
     "data": {
      "text/plain": [
       "array([34, 35, 36, 37, 38, 39, 40, 41, 42, 43, 44, 45, 46, 47, 48, 49, 50,\n",
       "       51], dtype=int64)"
      ]
     },
     "execution_count": 39,
     "metadata": {},
     "output_type": "execute_result"
    }
   ],
   "source": [
    "df_2 = pd.read_csv('Data_0_1\\\\'+file_list[1])\n",
    "df_2['0'] = df_2['0'] + 34\n",
    "df_2['0'].unique()"
   ]
  },
  {
   "cell_type": "code",
   "execution_count": 40,
   "metadata": {
    "hidden": true
   },
   "outputs": [
    {
     "data": {
      "text/plain": [
       "array([52, 53, 54, 55, 56, 57, 58, 59, 60, 61, 62, 63, 64, 65, 66, 67, 68,\n",
       "       69, 70, 71, 72, 73, 74, 75, 76, 77, 78, 79, 80, 81, 82, 83, 84, 85],\n",
       "      dtype=int64)"
      ]
     },
     "execution_count": 40,
     "metadata": {},
     "output_type": "execute_result"
    }
   ],
   "source": [
    "df_3 = pd.read_csv('Data_0_1\\\\'+file_list[2])\n",
    "df_3['0'] = df_3['0'] + 52\n",
    "df_3['0'].unique()"
   ]
  },
  {
   "cell_type": "code",
   "execution_count": 41,
   "metadata": {
    "hidden": true
   },
   "outputs": [
    {
     "data": {
      "text/plain": [
       "array([ 86,  87,  88,  89,  90,  91,  92,  93,  94,  95,  96,  97,  98,\n",
       "        99, 100, 101, 102, 103, 104, 105, 106, 107, 108, 109, 110, 111,\n",
       "       112, 113], dtype=int64)"
      ]
     },
     "execution_count": 41,
     "metadata": {},
     "output_type": "execute_result"
    }
   ],
   "source": [
    "df_4 = pd.read_csv('Data_0_1\\\\'+file_list[3])\n",
    "df_4['0'] = df_4['0'] + 86\n",
    "df_4['0'].unique()"
   ]
  },
  {
   "cell_type": "code",
   "execution_count": 42,
   "metadata": {
    "hidden": true
   },
   "outputs": [
    {
     "data": {
      "text/plain": [
       "array([114, 115, 116, 117, 118, 119, 120, 121, 122, 123, 124, 125, 126,\n",
       "       127, 128, 129, 130], dtype=int64)"
      ]
     },
     "execution_count": 42,
     "metadata": {},
     "output_type": "execute_result"
    }
   ],
   "source": [
    "df_5 = pd.read_csv('Data_0_1\\\\'+file_list[4])\n",
    "df_5['0'] = df_5['0'] + 114\n",
    "df_5['0'].unique()"
   ]
  },
  {
   "cell_type": "code",
   "execution_count": 43,
   "metadata": {
    "hidden": true
   },
   "outputs": [
    {
     "data": {
      "text/plain": [
       "array([131, 132, 133, 134, 135, 136, 137, 138, 139, 140, 141, 142, 143,\n",
       "       144, 145, 146, 147, 148, 149, 150, 151, 152, 153, 154, 155],\n",
       "      dtype=int64)"
      ]
     },
     "execution_count": 43,
     "metadata": {},
     "output_type": "execute_result"
    }
   ],
   "source": [
    "df_6 = pd.read_csv('Data_0_1\\\\'+file_list[5])\n",
    "df_6['0'] = df_6['0'] + 131\n",
    "df_6['0'].unique()"
   ]
  },
  {
   "cell_type": "code",
   "execution_count": 44,
   "metadata": {
    "hidden": true
   },
   "outputs": [
    {
     "data": {
      "text/plain": [
       "array([156, 157, 158, 159, 160, 161, 162, 163, 164, 165, 166, 167, 168,\n",
       "       169, 170, 171, 172, 173, 174, 175, 176, 177, 178, 179, 180, 181,\n",
       "       182], dtype=int64)"
      ]
     },
     "execution_count": 44,
     "metadata": {},
     "output_type": "execute_result"
    }
   ],
   "source": [
    "df_7 = pd.read_csv('Data_0_1\\\\'+file_list[6])\n",
    "df_7['0'] = df_7['0'] + 156\n",
    "df_7['0'].unique()"
   ]
  },
  {
   "cell_type": "code",
   "execution_count": 45,
   "metadata": {
    "hidden": true
   },
   "outputs": [
    {
     "data": {
      "text/plain": [
       "array([183, 184, 185, 186, 187, 188, 189, 190, 191, 192, 193, 194, 195,\n",
       "       196, 197, 198, 199, 200, 201, 202], dtype=int64)"
      ]
     },
     "execution_count": 45,
     "metadata": {},
     "output_type": "execute_result"
    }
   ],
   "source": [
    "df_8 = pd.read_csv('Data_0_1\\\\'+file_list[7])\n",
    "df_8['0'] = df_8['0'] + 183\n",
    "df_8['0'].unique()"
   ]
  },
  {
   "cell_type": "code",
   "execution_count": 46,
   "metadata": {
    "hidden": true
   },
   "outputs": [
    {
     "data": {
      "text/plain": [
       "(20300, 16)"
      ]
     },
     "execution_count": 46,
     "metadata": {},
     "output_type": "execute_result"
    }
   ],
   "source": [
    "df_0_1 = pd.concat([df_1, df_2, df_3, df_4,\n",
    "                   df_5, df_6, df_7, df_8])\n",
    "df_0_1.shape"
   ]
  },
  {
   "cell_type": "code",
   "execution_count": 48,
   "metadata": {
    "hidden": true
   },
   "outputs": [
    {
     "data": {
      "text/plain": [
       "203"
      ]
     },
     "execution_count": 48,
     "metadata": {},
     "output_type": "execute_result"
    }
   ],
   "source": [
    "len(df_0_1['0'].unique())"
   ]
  },
  {
   "cell_type": "code",
   "execution_count": 56,
   "metadata": {
    "hidden": true
   },
   "outputs": [
    {
     "name": "stdout",
     "output_type": "stream",
     "text": [
      "['0_1' '1_1' '0_0']\n",
      "(20000, 16)\n"
     ]
    },
    {
     "data": {
      "text/plain": [
       "array(['0_1'], dtype=object)"
      ]
     },
     "execution_count": 56,
     "metadata": {},
     "output_type": "execute_result"
    }
   ],
   "source": [
    "print(df_0_1['15'].unique())\n",
    "df_0_1 = df_0_1[df_0_1['15'] == '0_1']\n",
    "print(df_0_1.shape)\n",
    "df_0_1['15'].unique()"
   ]
  },
  {
   "cell_type": "code",
   "execution_count": 66,
   "metadata": {
    "hidden": true
   },
   "outputs": [],
   "source": [
    "df_0_1.to_csv('Data_0_1\\\\Prepared_data.csv', index = False)"
   ]
  },
  {
   "cell_type": "markdown",
   "metadata": {},
   "source": [
    "## Full data"
   ]
  },
  {
   "cell_type": "code",
   "execution_count": 2,
   "metadata": {},
   "outputs": [
    {
     "name": "stdout",
     "output_type": "stream",
     "text": [
      "(40400, 16)\n"
     ]
    }
   ],
   "source": [
    "#data_10 = pd.read_csv('Data_1_0\\\\Prepared_data.csv', index_col = None)\n",
    "#data_01 = pd.read_csv('Data_0_1\\\\Prepared_data.csv', index_col = None)\n",
    "#data = pd.concat([data_10, data_01])\n",
    "#print(data.shape)\n",
    "#data.to_csv('full_data.csv', index = False)"
   ]
  },
  {
   "cell_type": "code",
   "execution_count": 4,
   "metadata": {},
   "outputs": [],
   "source": [
    "with open('data_4_04.pickle', 'rb') as f:\n",
    "    data = pickle.load(f)"
   ]
  },
  {
   "cell_type": "code",
   "execution_count": 5,
   "metadata": {},
   "outputs": [
    {
     "name": "stdout",
     "output_type": "stream",
     "text": [
      "(40400, 16)\n"
     ]
    },
    {
     "data": {
      "text/html": [
       "<div>\n",
       "<style scoped>\n",
       "    .dataframe tbody tr th:only-of-type {\n",
       "        vertical-align: middle;\n",
       "    }\n",
       "\n",
       "    .dataframe tbody tr th {\n",
       "        vertical-align: top;\n",
       "    }\n",
       "\n",
       "    .dataframe thead th {\n",
       "        text-align: right;\n",
       "    }\n",
       "</style>\n",
       "<table border=\"1\" class=\"dataframe\">\n",
       "  <thead>\n",
       "    <tr style=\"text-align: right;\">\n",
       "      <th></th>\n",
       "      <th>sample_num</th>\n",
       "      <th>0</th>\n",
       "      <th>1</th>\n",
       "      <th>2</th>\n",
       "      <th>3</th>\n",
       "      <th>4</th>\n",
       "      <th>5</th>\n",
       "      <th>6</th>\n",
       "      <th>7</th>\n",
       "      <th>8</th>\n",
       "      <th>9</th>\n",
       "      <th>10</th>\n",
       "      <th>11</th>\n",
       "      <th>12</th>\n",
       "      <th>13</th>\n",
       "      <th>gesture</th>\n",
       "    </tr>\n",
       "  </thead>\n",
       "  <tbody>\n",
       "    <tr>\n",
       "      <th>0</th>\n",
       "      <td>0</td>\n",
       "      <td>4179.359</td>\n",
       "      <td>3801.795</td>\n",
       "      <td>4181.667</td>\n",
       "      <td>4193.205</td>\n",
       "      <td>4206.154</td>\n",
       "      <td>4190.000</td>\n",
       "      <td>4197.179</td>\n",
       "      <td>4174.615</td>\n",
       "      <td>4172.179</td>\n",
       "      <td>4197.436</td>\n",
       "      <td>4180.769</td>\n",
       "      <td>4135.897</td>\n",
       "      <td>4168.590</td>\n",
       "      <td>4175.385</td>\n",
       "      <td>1_0</td>\n",
       "    </tr>\n",
       "    <tr>\n",
       "      <th>1</th>\n",
       "      <td>0</td>\n",
       "      <td>4192.436</td>\n",
       "      <td>3808.974</td>\n",
       "      <td>4187.949</td>\n",
       "      <td>4196.795</td>\n",
       "      <td>4215.897</td>\n",
       "      <td>4200.256</td>\n",
       "      <td>4206.154</td>\n",
       "      <td>4185.385</td>\n",
       "      <td>4188.718</td>\n",
       "      <td>4205.513</td>\n",
       "      <td>4205.769</td>\n",
       "      <td>4158.077</td>\n",
       "      <td>4194.487</td>\n",
       "      <td>4193.974</td>\n",
       "      <td>1_0</td>\n",
       "    </tr>\n",
       "    <tr>\n",
       "      <th>2</th>\n",
       "      <td>0</td>\n",
       "      <td>4189.872</td>\n",
       "      <td>3801.154</td>\n",
       "      <td>4184.744</td>\n",
       "      <td>4192.564</td>\n",
       "      <td>4192.564</td>\n",
       "      <td>4192.949</td>\n",
       "      <td>4203.077</td>\n",
       "      <td>4187.821</td>\n",
       "      <td>4174.744</td>\n",
       "      <td>4192.179</td>\n",
       "      <td>4215.769</td>\n",
       "      <td>4160.897</td>\n",
       "      <td>4198.462</td>\n",
       "      <td>4199.872</td>\n",
       "      <td>1_0</td>\n",
       "    </tr>\n",
       "    <tr>\n",
       "      <th>3</th>\n",
       "      <td>0</td>\n",
       "      <td>4186.026</td>\n",
       "      <td>3800.000</td>\n",
       "      <td>4185.641</td>\n",
       "      <td>4194.103</td>\n",
       "      <td>4211.538</td>\n",
       "      <td>4193.718</td>\n",
       "      <td>4203.974</td>\n",
       "      <td>4187.949</td>\n",
       "      <td>4176.282</td>\n",
       "      <td>4205.000</td>\n",
       "      <td>4205.641</td>\n",
       "      <td>4157.692</td>\n",
       "      <td>4193.205</td>\n",
       "      <td>4199.487</td>\n",
       "      <td>1_0</td>\n",
       "    </tr>\n",
       "    <tr>\n",
       "      <th>4</th>\n",
       "      <td>0</td>\n",
       "      <td>4197.051</td>\n",
       "      <td>3815.000</td>\n",
       "      <td>4192.179</td>\n",
       "      <td>4207.051</td>\n",
       "      <td>4245.769</td>\n",
       "      <td>4211.795</td>\n",
       "      <td>4216.667</td>\n",
       "      <td>4195.769</td>\n",
       "      <td>4212.949</td>\n",
       "      <td>4233.974</td>\n",
       "      <td>4211.923</td>\n",
       "      <td>4168.846</td>\n",
       "      <td>4199.615</td>\n",
       "      <td>4204.615</td>\n",
       "      <td>1_0</td>\n",
       "    </tr>\n",
       "  </tbody>\n",
       "</table>\n",
       "</div>"
      ],
      "text/plain": [
       "   sample_num         0         1         2         3         4         5  \\\n",
       "0           0  4179.359  3801.795  4181.667  4193.205  4206.154  4190.000   \n",
       "1           0  4192.436  3808.974  4187.949  4196.795  4215.897  4200.256   \n",
       "2           0  4189.872  3801.154  4184.744  4192.564  4192.564  4192.949   \n",
       "3           0  4186.026  3800.000  4185.641  4194.103  4211.538  4193.718   \n",
       "4           0  4197.051  3815.000  4192.179  4207.051  4245.769  4211.795   \n",
       "\n",
       "          6         7         8         9        10        11        12  \\\n",
       "0  4197.179  4174.615  4172.179  4197.436  4180.769  4135.897  4168.590   \n",
       "1  4206.154  4185.385  4188.718  4205.513  4205.769  4158.077  4194.487   \n",
       "2  4203.077  4187.821  4174.744  4192.179  4215.769  4160.897  4198.462   \n",
       "3  4203.974  4187.949  4176.282  4205.000  4205.641  4157.692  4193.205   \n",
       "4  4216.667  4195.769  4212.949  4233.974  4211.923  4168.846  4199.615   \n",
       "\n",
       "         13 gesture  \n",
       "0  4175.385     1_0  \n",
       "1  4193.974     1_0  \n",
       "2  4199.872     1_0  \n",
       "3  4199.487     1_0  \n",
       "4  4204.615     1_0  "
      ]
     },
     "execution_count": 5,
     "metadata": {},
     "output_type": "execute_result"
    }
   ],
   "source": [
    "print(data.shape)\n",
    "data.head()"
   ]
  },
  {
   "cell_type": "code",
   "execution_count": 6,
   "metadata": {},
   "outputs": [],
   "source": [
    "df = data.replace(['1_0','0_1'], [1,0])"
   ]
  },
  {
   "cell_type": "markdown",
   "metadata": {},
   "source": [
    "# Creation of experiments"
   ]
  },
  {
   "cell_type": "markdown",
   "metadata": {},
   "source": [
    "## Data explore"
   ]
  },
  {
   "cell_type": "code",
   "execution_count": 6,
   "metadata": {},
   "outputs": [],
   "source": [
    "def plot_coorelation_matrix(df):\n",
    "    fig = plt.figure(figsize = (20,12))\n",
    "    df = pd.DataFrame(df)\n",
    "    corr = df.corr()\n",
    "    ax = sns.heatmap(corr, \n",
    "                     vmin=-1, \n",
    "                     vmax=1, \n",
    "                     center=0,\n",
    "                     cmap=sns.diverging_palette(20, 220, n=200),\n",
    "                     square=True)\n",
    "    ax.set_xticklabels(ax.get_xticklabels(),\n",
    "                       rotation=45,\n",
    "                       horizontalalignment='right');"
   ]
  },
  {
   "cell_type": "code",
   "execution_count": 7,
   "metadata": {},
   "outputs": [],
   "source": [
    "def plot_sensor(data,name,color):\n",
    "    color_list=[\"navy\",\"darkmagenta\",\"red\",\"black\"]\n",
    "    fig, ax = plt.subplots(2,7, figsize=(28,16))\n",
    "    sns.set(style=\"white\")\n",
    "    sns.set(style=\"whitegrid\")\n",
    "    x=0\n",
    "    for i in range(2):\n",
    "        for j in range(7):\n",
    "            plt.suptitle(name)\n",
    "            sns.distplot(data.iloc[:,x],kde=False,ax=ax[i][j],color=color_list[color],bins=20);\n",
    "            x+=1\n",
    "    plt.show()"
   ]
  },
  {
   "cell_type": "code",
   "execution_count": 8,
   "metadata": {
    "scrolled": true
   },
   "outputs": [
    {
     "data": {
      "image/png": "[encoded data removed]",
      "text/plain": [
       "<Figure size 1440x864 with 2 Axes>"
      ]
     },
     "metadata": {
      "needs_background": "light"
     },
     "output_type": "display_data"
    }
   ],
   "source": [
    "plot_coorelation_matrix(df.drop(columns = ['gesture','sample_num']))"
   ]
  },
  {
   "cell_type": "code",
   "execution_count": 9,
   "metadata": {
    "scrolled": true
   },
   "outputs": [
    {
     "data": {
      "image/png": "[encoded data removed]",
      "text/plain": [
       "<Figure size 2016x1152 with 14 Axes>"
      ]
     },
     "metadata": {
      "needs_background": "light"
     },
     "output_type": "display_data"
    }
   ],
   "source": [
    "plot_sensor(df[df['gesture']==1].drop(columns=['sample_num', 'gesture']),'Gesture: 1_0',0)"
   ]
  },
  {
   "cell_type": "code",
   "execution_count": 10,
   "metadata": {
    "scrolled": true
   },
   "outputs": [
    {
     "data": {
      "image/png": "[encoded data removed]",
      "text/plain": [
       "<Figure size 2016x1152 with 14 Axes>"
      ]
     },
     "metadata": {},
     "output_type": "display_data"
    }
   ],
   "source": [
    "plot_sensor(df[df['gesture']==0].drop(columns=['sample_num', 'gesture']),'Gesture: 0_1',1)"
   ]
  },
  {
   "cell_type": "markdown",
   "metadata": {},
   "source": [
    "## Adding features"
   ]
  },
  {
   "cell_type": "code",
   "execution_count": 17,
   "metadata": {
    "scrolled": false
   },
   "outputs": [
    {
     "data": {
      "text/html": [
       "<div>\n",
       "<style scoped>\n",
       "    .dataframe tbody tr th:only-of-type {\n",
       "        vertical-align: middle;\n",
       "    }\n",
       "\n",
       "    .dataframe tbody tr th {\n",
       "        vertical-align: top;\n",
       "    }\n",
       "\n",
       "    .dataframe thead th {\n",
       "        text-align: right;\n",
       "    }\n",
       "</style>\n",
       "<table border=\"1\" class=\"dataframe\">\n",
       "  <thead>\n",
       "    <tr style=\"text-align: right;\">\n",
       "      <th></th>\n",
       "      <th>sample_num</th>\n",
       "      <th>0</th>\n",
       "      <th>1</th>\n",
       "      <th>2</th>\n",
       "      <th>3</th>\n",
       "      <th>4</th>\n",
       "      <th>5</th>\n",
       "      <th>6</th>\n",
       "      <th>7</th>\n",
       "      <th>8</th>\n",
       "      <th>9</th>\n",
       "      <th>10</th>\n",
       "      <th>11</th>\n",
       "      <th>12</th>\n",
       "      <th>13</th>\n",
       "      <th>gesture</th>\n",
       "    </tr>\n",
       "  </thead>\n",
       "  <tbody>\n",
       "    <tr>\n",
       "      <th>0</th>\n",
       "      <td>0</td>\n",
       "      <td>4179.359</td>\n",
       "      <td>3801.795</td>\n",
       "      <td>4181.667</td>\n",
       "      <td>4193.205</td>\n",
       "      <td>4206.154</td>\n",
       "      <td>4190.000</td>\n",
       "      <td>4197.179</td>\n",
       "      <td>4174.615</td>\n",
       "      <td>4172.179</td>\n",
       "      <td>4197.436</td>\n",
       "      <td>4180.769</td>\n",
       "      <td>4135.897</td>\n",
       "      <td>4168.590</td>\n",
       "      <td>4175.385</td>\n",
       "      <td>1</td>\n",
       "    </tr>\n",
       "    <tr>\n",
       "      <th>1</th>\n",
       "      <td>0</td>\n",
       "      <td>4192.436</td>\n",
       "      <td>3808.974</td>\n",
       "      <td>4187.949</td>\n",
       "      <td>4196.795</td>\n",
       "      <td>4215.897</td>\n",
       "      <td>4200.256</td>\n",
       "      <td>4206.154</td>\n",
       "      <td>4185.385</td>\n",
       "      <td>4188.718</td>\n",
       "      <td>4205.513</td>\n",
       "      <td>4205.769</td>\n",
       "      <td>4158.077</td>\n",
       "      <td>4194.487</td>\n",
       "      <td>4193.974</td>\n",
       "      <td>1</td>\n",
       "    </tr>\n",
       "    <tr>\n",
       "      <th>2</th>\n",
       "      <td>0</td>\n",
       "      <td>4189.872</td>\n",
       "      <td>3801.154</td>\n",
       "      <td>4184.744</td>\n",
       "      <td>4192.564</td>\n",
       "      <td>4192.564</td>\n",
       "      <td>4192.949</td>\n",
       "      <td>4203.077</td>\n",
       "      <td>4187.821</td>\n",
       "      <td>4174.744</td>\n",
       "      <td>4192.179</td>\n",
       "      <td>4215.769</td>\n",
       "      <td>4160.897</td>\n",
       "      <td>4198.462</td>\n",
       "      <td>4199.872</td>\n",
       "      <td>1</td>\n",
       "    </tr>\n",
       "    <tr>\n",
       "      <th>3</th>\n",
       "      <td>0</td>\n",
       "      <td>4186.026</td>\n",
       "      <td>3800.000</td>\n",
       "      <td>4185.641</td>\n",
       "      <td>4194.103</td>\n",
       "      <td>4211.538</td>\n",
       "      <td>4193.718</td>\n",
       "      <td>4203.974</td>\n",
       "      <td>4187.949</td>\n",
       "      <td>4176.282</td>\n",
       "      <td>4205.000</td>\n",
       "      <td>4205.641</td>\n",
       "      <td>4157.692</td>\n",
       "      <td>4193.205</td>\n",
       "      <td>4199.487</td>\n",
       "      <td>1</td>\n",
       "    </tr>\n",
       "    <tr>\n",
       "      <th>4</th>\n",
       "      <td>0</td>\n",
       "      <td>4197.051</td>\n",
       "      <td>3815.000</td>\n",
       "      <td>4192.179</td>\n",
       "      <td>4207.051</td>\n",
       "      <td>4245.769</td>\n",
       "      <td>4211.795</td>\n",
       "      <td>4216.667</td>\n",
       "      <td>4195.769</td>\n",
       "      <td>4212.949</td>\n",
       "      <td>4233.974</td>\n",
       "      <td>4211.923</td>\n",
       "      <td>4168.846</td>\n",
       "      <td>4199.615</td>\n",
       "      <td>4204.615</td>\n",
       "      <td>1</td>\n",
       "    </tr>\n",
       "  </tbody>\n",
       "</table>\n",
       "</div>"
      ],
      "text/plain": [
       "   sample_num         0         1         2         3         4         5  \\\n",
       "0           0  4179.359  3801.795  4181.667  4193.205  4206.154  4190.000   \n",
       "1           0  4192.436  3808.974  4187.949  4196.795  4215.897  4200.256   \n",
       "2           0  4189.872  3801.154  4184.744  4192.564  4192.564  4192.949   \n",
       "3           0  4186.026  3800.000  4185.641  4194.103  4211.538  4193.718   \n",
       "4           0  4197.051  3815.000  4192.179  4207.051  4245.769  4211.795   \n",
       "\n",
       "          6         7         8         9        10        11        12  \\\n",
       "0  4197.179  4174.615  4172.179  4197.436  4180.769  4135.897  4168.590   \n",
       "1  4206.154  4185.385  4188.718  4205.513  4205.769  4158.077  4194.487   \n",
       "2  4203.077  4187.821  4174.744  4192.179  4215.769  4160.897  4198.462   \n",
       "3  4203.974  4187.949  4176.282  4205.000  4205.641  4157.692  4193.205   \n",
       "4  4216.667  4195.769  4212.949  4233.974  4211.923  4168.846  4199.615   \n",
       "\n",
       "         13  gesture  \n",
       "0  4175.385        1  \n",
       "1  4193.974        1  \n",
       "2  4199.872        1  \n",
       "3  4199.487        1  \n",
       "4  4204.615        1  "
      ]
     },
     "execution_count": 17,
     "metadata": {},
     "output_type": "execute_result"
    }
   ],
   "source": [
    "df.head()"
   ]
  },
  {
   "cell_type": "code",
   "execution_count": 18,
   "metadata": {
    "scrolled": true
   },
   "outputs": [
    {
     "name": "stderr",
     "output_type": "stream",
     "text": [
      "C:\\Users\\user\\Anaconda3\\envs\\Diplom_New\\lib\\site-packages\\pandas\\core\\generic.py:3936: PerformanceWarning: dropping on a non-lexsorted multi-index without a level parameter may impact performance.\n",
      "  obj = obj._drop_axis(labels, axis, level=level, errors=errors)\n"
     ]
    },
    {
     "data": {
      "text/html": [
       "<div>\n",
       "<style scoped>\n",
       "    .dataframe tbody tr th:only-of-type {\n",
       "        vertical-align: middle;\n",
       "    }\n",
       "\n",
       "    .dataframe tbody tr th {\n",
       "        vertical-align: top;\n",
       "    }\n",
       "\n",
       "    .dataframe thead tr th {\n",
       "        text-align: left;\n",
       "    }\n",
       "</style>\n",
       "<table border=\"1\" class=\"dataframe\">\n",
       "  <thead>\n",
       "    <tr>\n",
       "      <th></th>\n",
       "      <th colspan=\"5\" halign=\"left\">0</th>\n",
       "      <th colspan=\"5\" halign=\"left\">1</th>\n",
       "      <th>...</th>\n",
       "      <th colspan=\"5\" halign=\"left\">12</th>\n",
       "      <th colspan=\"5\" halign=\"left\">13</th>\n",
       "    </tr>\n",
       "    <tr>\n",
       "      <th></th>\n",
       "      <th>min</th>\n",
       "      <th>max</th>\n",
       "      <th>sum</th>\n",
       "      <th>mean</th>\n",
       "      <th>std</th>\n",
       "      <th>min</th>\n",
       "      <th>max</th>\n",
       "      <th>sum</th>\n",
       "      <th>mean</th>\n",
       "      <th>std</th>\n",
       "      <th>...</th>\n",
       "      <th>min</th>\n",
       "      <th>max</th>\n",
       "      <th>sum</th>\n",
       "      <th>mean</th>\n",
       "      <th>std</th>\n",
       "      <th>min</th>\n",
       "      <th>max</th>\n",
       "      <th>sum</th>\n",
       "      <th>mean</th>\n",
       "      <th>std</th>\n",
       "    </tr>\n",
       "  </thead>\n",
       "  <tbody>\n",
       "    <tr>\n",
       "      <th>0</th>\n",
       "      <td>4156.667</td>\n",
       "      <td>4221.795</td>\n",
       "      <td>418897.697</td>\n",
       "      <td>4188.97697</td>\n",
       "      <td>12.363993</td>\n",
       "      <td>3783.974</td>\n",
       "      <td>3887.051</td>\n",
       "      <td>383189.232</td>\n",
       "      <td>3831.89232</td>\n",
       "      <td>24.245113</td>\n",
       "      <td>...</td>\n",
       "      <td>4050.256</td>\n",
       "      <td>4214.231</td>\n",
       "      <td>416142.053</td>\n",
       "      <td>4161.42053</td>\n",
       "      <td>37.969154</td>\n",
       "      <td>4167.051</td>\n",
       "      <td>4217.821</td>\n",
       "      <td>419399.744</td>\n",
       "      <td>4193.99744</td>\n",
       "      <td>12.776230</td>\n",
       "    </tr>\n",
       "    <tr>\n",
       "      <th>1</th>\n",
       "      <td>4143.333</td>\n",
       "      <td>4197.436</td>\n",
       "      <td>416940.383</td>\n",
       "      <td>4169.40383</td>\n",
       "      <td>12.518544</td>\n",
       "      <td>3636.410</td>\n",
       "      <td>4023.846</td>\n",
       "      <td>372300.894</td>\n",
       "      <td>3723.00894</td>\n",
       "      <td>94.318268</td>\n",
       "      <td>...</td>\n",
       "      <td>4037.179</td>\n",
       "      <td>4280.641</td>\n",
       "      <td>411030.901</td>\n",
       "      <td>4110.30901</td>\n",
       "      <td>61.174306</td>\n",
       "      <td>4152.436</td>\n",
       "      <td>4223.077</td>\n",
       "      <td>418745.002</td>\n",
       "      <td>4187.45002</td>\n",
       "      <td>16.677417</td>\n",
       "    </tr>\n",
       "    <tr>\n",
       "      <th>2</th>\n",
       "      <td>4096.026</td>\n",
       "      <td>4224.744</td>\n",
       "      <td>415229.354</td>\n",
       "      <td>4152.29354</td>\n",
       "      <td>34.333470</td>\n",
       "      <td>3864.103</td>\n",
       "      <td>4555.641</td>\n",
       "      <td>411342.183</td>\n",
       "      <td>4113.42183</td>\n",
       "      <td>230.499213</td>\n",
       "      <td>...</td>\n",
       "      <td>4009.487</td>\n",
       "      <td>4315.897</td>\n",
       "      <td>414305.125</td>\n",
       "      <td>4143.05125</td>\n",
       "      <td>84.679903</td>\n",
       "      <td>4095.385</td>\n",
       "      <td>4230.128</td>\n",
       "      <td>415831.539</td>\n",
       "      <td>4158.31539</td>\n",
       "      <td>40.632743</td>\n",
       "    </tr>\n",
       "    <tr>\n",
       "      <th>3</th>\n",
       "      <td>4197.308</td>\n",
       "      <td>4259.744</td>\n",
       "      <td>422341.534</td>\n",
       "      <td>4223.41534</td>\n",
       "      <td>11.273607</td>\n",
       "      <td>4260.385</td>\n",
       "      <td>4323.974</td>\n",
       "      <td>429582.951</td>\n",
       "      <td>4295.82951</td>\n",
       "      <td>13.439999</td>\n",
       "      <td>...</td>\n",
       "      <td>4191.026</td>\n",
       "      <td>4252.308</td>\n",
       "      <td>422310.133</td>\n",
       "      <td>4223.10133</td>\n",
       "      <td>11.842194</td>\n",
       "      <td>4193.205</td>\n",
       "      <td>4256.923</td>\n",
       "      <td>421767.951</td>\n",
       "      <td>4217.67951</td>\n",
       "      <td>11.292804</td>\n",
       "    </tr>\n",
       "    <tr>\n",
       "      <th>4</th>\n",
       "      <td>4198.590</td>\n",
       "      <td>4268.974</td>\n",
       "      <td>421912.309</td>\n",
       "      <td>4219.12309</td>\n",
       "      <td>14.227398</td>\n",
       "      <td>4273.205</td>\n",
       "      <td>4375.513</td>\n",
       "      <td>430230.386</td>\n",
       "      <td>4302.30386</td>\n",
       "      <td>21.269972</td>\n",
       "      <td>...</td>\n",
       "      <td>4200.897</td>\n",
       "      <td>4268.205</td>\n",
       "      <td>422940.768</td>\n",
       "      <td>4229.40768</td>\n",
       "      <td>11.884058</td>\n",
       "      <td>4192.564</td>\n",
       "      <td>4260.128</td>\n",
       "      <td>421607.436</td>\n",
       "      <td>4216.07436</td>\n",
       "      <td>12.286136</td>\n",
       "    </tr>\n",
       "  </tbody>\n",
       "</table>\n",
       "<p>5 rows × 70 columns</p>\n",
       "</div>"
      ],
      "text/plain": [
       "          0                                                      1            \\\n",
       "        min       max         sum        mean        std       min       max   \n",
       "0  4156.667  4221.795  418897.697  4188.97697  12.363993  3783.974  3887.051   \n",
       "1  4143.333  4197.436  416940.383  4169.40383  12.518544  3636.410  4023.846   \n",
       "2  4096.026  4224.744  415229.354  4152.29354  34.333470  3864.103  4555.641   \n",
       "3  4197.308  4259.744  422341.534  4223.41534  11.273607  4260.385  4323.974   \n",
       "4  4198.590  4268.974  421912.309  4219.12309  14.227398  4273.205  4375.513   \n",
       "\n",
       "                                       ...        12                        \\\n",
       "          sum        mean         std  ...       min       max         sum   \n",
       "0  383189.232  3831.89232   24.245113  ...  4050.256  4214.231  416142.053   \n",
       "1  372300.894  3723.00894   94.318268  ...  4037.179  4280.641  411030.901   \n",
       "2  411342.183  4113.42183  230.499213  ...  4009.487  4315.897  414305.125   \n",
       "3  429582.951  4295.82951   13.439999  ...  4191.026  4252.308  422310.133   \n",
       "4  430230.386  4302.30386   21.269972  ...  4200.897  4268.205  422940.768   \n",
       "\n",
       "                                13                                    \\\n",
       "         mean        std       min       max         sum        mean   \n",
       "0  4161.42053  37.969154  4167.051  4217.821  419399.744  4193.99744   \n",
       "1  4110.30901  61.174306  4152.436  4223.077  418745.002  4187.45002   \n",
       "2  4143.05125  84.679903  4095.385  4230.128  415831.539  4158.31539   \n",
       "3  4223.10133  11.842194  4193.205  4256.923  421767.951  4217.67951   \n",
       "4  4229.40768  11.884058  4192.564  4260.128  421607.436  4216.07436   \n",
       "\n",
       "              \n",
       "         std  \n",
       "0  12.776230  \n",
       "1  16.677417  \n",
       "2  40.632743  \n",
       "3  11.292804  \n",
       "4  12.286136  \n",
       "\n",
       "[5 rows x 70 columns]"
      ]
     },
     "execution_count": 18,
     "metadata": {},
     "output_type": "execute_result"
    }
   ],
   "source": [
    "X = df.groupby(['sample_num']).agg(['min','max','sum','mean','std']).reset_index().drop(columns=['gesture', 'sample_num'])\n",
    "X.head()"
   ]
  },
  {
   "cell_type": "code",
   "execution_count": 19,
   "metadata": {},
   "outputs": [
    {
     "data": {
      "text/plain": [
       "0    1\n",
       "1    1\n",
       "2    1\n",
       "3    1\n",
       "4    1\n",
       "Name: min, dtype: int64"
      ]
     },
     "execution_count": 19,
     "metadata": {},
     "output_type": "execute_result"
    }
   ],
   "source": [
    "y = df.groupby(['sample_num']).agg(['min','max','sum','mean','std']).reset_index()['gesture']['min']\n",
    "y.head()"
   ]
  },
  {
   "cell_type": "markdown",
   "metadata": {},
   "source": [
    "## Data preparation"
   ]
  },
  {
   "cell_type": "code",
   "execution_count": 20,
   "metadata": {
    "scrolled": true
   },
   "outputs": [],
   "source": [
    "X,y = shuffle(X, y, random_state=0)"
   ]
  },
  {
   "cell_type": "code",
   "execution_count": 21,
   "metadata": {},
   "outputs": [
    {
     "name": "stdout",
     "output_type": "stream",
     "text": [
      "363 41\n"
     ]
    }
   ],
   "source": [
    "train_size = int(len(X) * 0.9)\n",
    "test_size = len(X) - train_size\n",
    "train, test = X.iloc[0:train_size], X.iloc[train_size:len(X)]\n",
    "print(train_size, test_size)"
   ]
  },
  {
   "cell_type": "code",
   "execution_count": 22,
   "metadata": {},
   "outputs": [
    {
     "name": "stdout",
     "output_type": "stream",
     "text": [
      "(363, 70) (41, 70)\n"
     ]
    }
   ],
   "source": [
    "scaler = StandardScaler()\n",
    "X_train = scaler.fit_transform(train)\n",
    "X_test = scaler.transform(test)\n",
    "print(X_train.shape, X_test.shape)"
   ]
  },
  {
   "cell_type": "code",
   "execution_count": 23,
   "metadata": {},
   "outputs": [],
   "source": [
    "pickle.dump(scaler, open('pred_dir\\\\scaler.pkl', 'wb'))"
   ]
  },
  {
   "cell_type": "code",
   "execution_count": 24,
   "metadata": {},
   "outputs": [
    {
     "name": "stdout",
     "output_type": "stream",
     "text": [
      "(363,) (41,)\n"
     ]
    }
   ],
   "source": [
    "y_train = y.iloc[0:train_size]\n",
    "y_test = y.iloc[train_size:len(y)]\n",
    "print(y_train.shape, y_test.shape)"
   ]
  },
  {
   "cell_type": "markdown",
   "metadata": {},
   "source": [
    "## Modelling"
   ]
  },
  {
   "cell_type": "markdown",
   "metadata": {},
   "source": [
    "### Logistic regression"
   ]
  },
  {
   "cell_type": "code",
   "execution_count": 3,
   "metadata": {
    "scrolled": true
   },
   "outputs": [],
   "source": [
    "clf = LogisticRegression()\n",
    "lr_accur_list = cross_val_score(clf, X_train, y_train, cv=20, scoring = 'accuracy')\n",
    "print('Mean Accuracy after 20 experiments', lr_accur_list.mean())"
   ]
  },
  {
   "cell_type": "code",
   "execution_count": 21,
   "metadata": {},
   "outputs": [
    {
     "name": "stdout",
     "output_type": "stream",
     "text": [
      "logistic regression model mean accuracy 95%% confidence interval (0.8941903370698824, 0.9458337427374791)\n"
     ]
    }
   ],
   "source": [
    "lr_mean_std = lr_accur_list.std(ddof=1)/sqrt(len(lr_accur_list))\n",
    "print('logistic regression model mean accuracy 95%% confidence interval', _tconfint_generic(lr_accur_list.mean(), \n",
    "                                                                       lr_mean_std,\n",
    "                                                                       len(lr_accur_list) - 1,\n",
    "                                                                       0.05, 'two-sided'))"
   ]
  },
  {
   "cell_type": "code",
   "execution_count": 22,
   "metadata": {},
   "outputs": [
    {
     "name": "stdout",
     "output_type": "stream",
     "text": [
      "Accuracy score for test:  0.8780487804878049\n"
     ]
    },
    {
     "name": "stderr",
     "output_type": "stream",
     "text": [
      "C:\\Users\\user\\Anaconda3\\lib\\site-packages\\sklearn\\linear_model\\logistic.py:433: FutureWarning: Default solver will be changed to 'lbfgs' in 0.22. Specify a solver to silence this warning.\n",
      "  FutureWarning)\n"
     ]
    }
   ],
   "source": [
    "clf = LogisticRegression().fit(X_train, y_train)\n",
    "print('Accuracy score for test: ',\n",
    "      accuracy_score(y_test, clf.predict(X_test)))"
   ]
  },
  {
   "cell_type": "markdown",
   "metadata": {},
   "source": [
    "### Decision Tree"
   ]
  },
  {
   "cell_type": "code",
   "execution_count": 23,
   "metadata": {},
   "outputs": [
    {
     "name": "stdout",
     "output_type": "stream",
     "text": [
      "Mean Accuracy after 20 experiments 0.8703044375644995\n"
     ]
    }
   ],
   "source": [
    "tree_clf = DecisionTreeClassifier()\n",
    "tree_accur_list = cross_val_score(tree_clf, X_train, y_train, cv=20, scoring = 'accuracy')\n",
    "print('Mean Accuracy after 20 experiments', tree_accur_list.mean())"
   ]
  },
  {
   "cell_type": "code",
   "execution_count": 24,
   "metadata": {},
   "outputs": [
    {
     "name": "stdout",
     "output_type": "stream",
     "text": [
      "decision tree model mean accuracy 95%% confidence interval (0.8335487215294574, 0.9070601535995416)\n"
     ]
    }
   ],
   "source": [
    "tree_mean_std = tree_accur_list.std(ddof=1)/sqrt(len(tree_accur_list))\n",
    "print('decision tree model mean accuracy 95%% confidence interval', _tconfint_generic(tree_accur_list.mean(), \n",
    "                                                                       tree_mean_std,\n",
    "                                                                       len(tree_accur_list) - 1,\n",
    "                                                                       0.05, 'two-sided'))"
   ]
  },
  {
   "cell_type": "code",
   "execution_count": 25,
   "metadata": {},
   "outputs": [
    {
     "name": "stdout",
     "output_type": "stream",
     "text": [
      "Accuracy score for test:  0.8048780487804879\n"
     ]
    }
   ],
   "source": [
    "tree_clf = DecisionTreeClassifier().fit(X_train, y_train)\n",
    "print('Accuracy score for test: ',\n",
    "      accuracy_score(y_test, tree_clf.predict(X_test)))"
   ]
  },
  {
   "cell_type": "markdown",
   "metadata": {},
   "source": [
    "### Random Forest classifier"
   ]
  },
  {
   "cell_type": "code",
   "execution_count": 26,
   "metadata": {
    "scrolled": true
   },
   "outputs": [
    {
     "name": "stderr",
     "output_type": "stream",
     "text": [
      "C:\\Users\\user\\Anaconda3\\lib\\site-packages\\sklearn\\ensemble\\forest.py:246: FutureWarning: The default value of n_estimators will change from 10 in version 0.20 to 100 in 0.22.\n",
      "  \"10 in version 0.20 to 100 in 0.22.\", FutureWarning)\n",
      "C:\\Users\\user\\Anaconda3\\lib\\site-packages\\sklearn\\ensemble\\forest.py:246: FutureWarning: The default value of n_estimators will change from 10 in version 0.20 to 100 in 0.22.\n",
      "  \"10 in version 0.20 to 100 in 0.22.\", FutureWarning)\n",
      "C:\\Users\\user\\Anaconda3\\lib\\site-packages\\sklearn\\ensemble\\forest.py:246: FutureWarning: The default value of n_estimators will change from 10 in version 0.20 to 100 in 0.22.\n",
      "  \"10 in version 0.20 to 100 in 0.22.\", FutureWarning)\n",
      "C:\\Users\\user\\Anaconda3\\lib\\site-packages\\sklearn\\ensemble\\forest.py:246: FutureWarning: The default value of n_estimators will change from 10 in version 0.20 to 100 in 0.22.\n",
      "  \"10 in version 0.20 to 100 in 0.22.\", FutureWarning)\n",
      "C:\\Users\\user\\Anaconda3\\lib\\site-packages\\sklearn\\ensemble\\forest.py:246: FutureWarning: The default value of n_estimators will change from 10 in version 0.20 to 100 in 0.22.\n",
      "  \"10 in version 0.20 to 100 in 0.22.\", FutureWarning)\n",
      "C:\\Users\\user\\Anaconda3\\lib\\site-packages\\sklearn\\ensemble\\forest.py:246: FutureWarning: The default value of n_estimators will change from 10 in version 0.20 to 100 in 0.22.\n",
      "  \"10 in version 0.20 to 100 in 0.22.\", FutureWarning)\n",
      "C:\\Users\\user\\Anaconda3\\lib\\site-packages\\sklearn\\ensemble\\forest.py:246: FutureWarning: The default value of n_estimators will change from 10 in version 0.20 to 100 in 0.22.\n",
      "  \"10 in version 0.20 to 100 in 0.22.\", FutureWarning)\n",
      "C:\\Users\\user\\Anaconda3\\lib\\site-packages\\sklearn\\ensemble\\forest.py:246: FutureWarning: The default value of n_estimators will change from 10 in version 0.20 to 100 in 0.22.\n",
      "  \"10 in version 0.20 to 100 in 0.22.\", FutureWarning)\n",
      "C:\\Users\\user\\Anaconda3\\lib\\site-packages\\sklearn\\ensemble\\forest.py:246: FutureWarning: The default value of n_estimators will change from 10 in version 0.20 to 100 in 0.22.\n",
      "  \"10 in version 0.20 to 100 in 0.22.\", FutureWarning)\n",
      "C:\\Users\\user\\Anaconda3\\lib\\site-packages\\sklearn\\ensemble\\forest.py:246: FutureWarning: The default value of n_estimators will change from 10 in version 0.20 to 100 in 0.22.\n",
      "  \"10 in version 0.20 to 100 in 0.22.\", FutureWarning)\n",
      "C:\\Users\\user\\Anaconda3\\lib\\site-packages\\sklearn\\ensemble\\forest.py:246: FutureWarning: The default value of n_estimators will change from 10 in version 0.20 to 100 in 0.22.\n",
      "  \"10 in version 0.20 to 100 in 0.22.\", FutureWarning)\n",
      "C:\\Users\\user\\Anaconda3\\lib\\site-packages\\sklearn\\ensemble\\forest.py:246: FutureWarning: The default value of n_estimators will change from 10 in version 0.20 to 100 in 0.22.\n",
      "  \"10 in version 0.20 to 100 in 0.22.\", FutureWarning)\n",
      "C:\\Users\\user\\Anaconda3\\lib\\site-packages\\sklearn\\ensemble\\forest.py:246: FutureWarning: The default value of n_estimators will change from 10 in version 0.20 to 100 in 0.22.\n",
      "  \"10 in version 0.20 to 100 in 0.22.\", FutureWarning)\n",
      "C:\\Users\\user\\Anaconda3\\lib\\site-packages\\sklearn\\ensemble\\forest.py:246: FutureWarning: The default value of n_estimators will change from 10 in version 0.20 to 100 in 0.22.\n",
      "  \"10 in version 0.20 to 100 in 0.22.\", FutureWarning)\n",
      "C:\\Users\\user\\Anaconda3\\lib\\site-packages\\sklearn\\ensemble\\forest.py:246: FutureWarning: The default value of n_estimators will change from 10 in version 0.20 to 100 in 0.22.\n",
      "  \"10 in version 0.20 to 100 in 0.22.\", FutureWarning)\n",
      "C:\\Users\\user\\Anaconda3\\lib\\site-packages\\sklearn\\ensemble\\forest.py:246: FutureWarning: The default value of n_estimators will change from 10 in version 0.20 to 100 in 0.22.\n",
      "  \"10 in version 0.20 to 100 in 0.22.\", FutureWarning)\n",
      "C:\\Users\\user\\Anaconda3\\lib\\site-packages\\sklearn\\ensemble\\forest.py:246: FutureWarning: The default value of n_estimators will change from 10 in version 0.20 to 100 in 0.22.\n",
      "  \"10 in version 0.20 to 100 in 0.22.\", FutureWarning)\n",
      "C:\\Users\\user\\Anaconda3\\lib\\site-packages\\sklearn\\ensemble\\forest.py:246: FutureWarning: The default value of n_estimators will change from 10 in version 0.20 to 100 in 0.22.\n",
      "  \"10 in version 0.20 to 100 in 0.22.\", FutureWarning)\n"
     ]
    },
    {
     "name": "stdout",
     "output_type": "stream",
     "text": [
      "Mean Accuracy after 20 experiments 0.9085714285714286\n"
     ]
    },
    {
     "name": "stderr",
     "output_type": "stream",
     "text": [
      "C:\\Users\\user\\Anaconda3\\lib\\site-packages\\sklearn\\ensemble\\forest.py:246: FutureWarning: The default value of n_estimators will change from 10 in version 0.20 to 100 in 0.22.\n",
      "  \"10 in version 0.20 to 100 in 0.22.\", FutureWarning)\n",
      "C:\\Users\\user\\Anaconda3\\lib\\site-packages\\sklearn\\ensemble\\forest.py:246: FutureWarning: The default value of n_estimators will change from 10 in version 0.20 to 100 in 0.22.\n",
      "  \"10 in version 0.20 to 100 in 0.22.\", FutureWarning)\n"
     ]
    }
   ],
   "source": [
    "forest_clf = RandomForestClassifier()\n",
    "forest_accur_list = cross_val_score(forest_clf, X, y, cv=20, scoring = 'accuracy')\n",
    "print('Mean Accuracy after 20 experiments', forest_accur_list.mean())"
   ]
  },
  {
   "cell_type": "code",
   "execution_count": 27,
   "metadata": {},
   "outputs": [
    {
     "name": "stdout",
     "output_type": "stream",
     "text": [
      "random forest model mean accuarcy 95%% confidence interval (0.8802645139521971, 0.9368783431906601)\n"
     ]
    }
   ],
   "source": [
    "forest_mean_std = forest_accur_list.std(ddof=1)/sqrt(len(forest_accur_list))\n",
    "print('random forest model mean accuarcy 95%% confidence interval', _tconfint_generic(forest_accur_list.mean(), \n",
    "                                                                       forest_mean_std,\n",
    "                                                                       len(forest_accur_list) - 1,\n",
    "                                                                       0.05, 'two-sided'))"
   ]
  },
  {
   "cell_type": "code",
   "execution_count": 28,
   "metadata": {},
   "outputs": [
    {
     "name": "stdout",
     "output_type": "stream",
     "text": [
      "Accuracy score for test:  0.926829268292683\n"
     ]
    },
    {
     "name": "stderr",
     "output_type": "stream",
     "text": [
      "C:\\Users\\user\\Anaconda3\\lib\\site-packages\\sklearn\\ensemble\\forest.py:246: FutureWarning: The default value of n_estimators will change from 10 in version 0.20 to 100 in 0.22.\n",
      "  \"10 in version 0.20 to 100 in 0.22.\", FutureWarning)\n"
     ]
    }
   ],
   "source": [
    "forest_clf = RandomForestClassifier().fit(X_train, y_train)\n",
    "print('Accuracy score for test: ',\n",
    "      accuracy_score(y_test, forest_clf.predict(X_test)))"
   ]
  },
  {
   "cell_type": "markdown",
   "metadata": {},
   "source": [
    "### Gradient Boosting classifier (best)"
   ]
  },
  {
   "cell_type": "code",
   "execution_count": 25,
   "metadata": {},
   "outputs": [
    {
     "name": "stdout",
     "output_type": "stream",
     "text": [
      "Mean Accuracy after 20 experiments 0.9602380952380951\n"
     ]
    }
   ],
   "source": [
    "boosting_clf = GradientBoostingClassifier()\n",
    "boosting_accur_list = cross_val_score(boosting_clf, X, y, cv=20, scoring = 'accuracy')\n",
    "print('Mean Accuracy after 20 experiments', boosting_accur_list.mean())"
   ]
  },
  {
   "cell_type": "code",
   "execution_count": 30,
   "metadata": {},
   "outputs": [
    {
     "name": "stdout",
     "output_type": "stream",
     "text": [
      "random forest model mean accuracy 95%% confidence interval (0.9439847773424285, 0.9764914131337618)\n"
     ]
    }
   ],
   "source": [
    "boosting_mean_std = boosting_accur_list.std(ddof=1)/sqrt(len(boosting_accur_list))\n",
    "print('random forest model mean accuracy 95%% confidence interval', _tconfint_generic(boosting_accur_list.mean(), \n",
    "                                                                       boosting_mean_std,\n",
    "                                                                       len(boosting_accur_list) - 1,\n",
    "                                                                       0.05, 'two-sided'))"
   ]
  },
  {
   "cell_type": "code",
   "execution_count": 26,
   "metadata": {},
   "outputs": [
    {
     "name": "stdout",
     "output_type": "stream",
     "text": [
      "Accuracy score for test:  0.975609756097561\n"
     ]
    }
   ],
   "source": [
    "boosting_clf = GradientBoostingClassifier().fit(X_train, y_train)\n",
    "print('Accuracy score for test: ',\n",
    "      accuracy_score(y_test, boosting_clf.predict(X_test)))"
   ]
  },
  {
   "cell_type": "code",
   "execution_count": 27,
   "metadata": {},
   "outputs": [],
   "source": [
    "pickle.dump(boosting_clf, open('pred_dir\\\\model.pkl', 'wb'))"
   ]
  },
  {
   "cell_type": "markdown",
   "metadata": {},
   "source": [
    "## Tuning GradientBoostingClassifier"
   ]
  },
  {
   "cell_type": "code",
   "execution_count": 101,
   "metadata": {},
   "outputs": [],
   "source": [
    "clf = GradientBoostingClassifier()"
   ]
  },
  {
   "cell_type": "code",
   "execution_count": 102,
   "metadata": {},
   "outputs": [],
   "source": [
    "params = {\n",
    "    'n_estimators': range(20,200,10),\n",
    "    'criterion': ['friedman_mse', 'mse', 'mae']\n",
    "}"
   ]
  },
  {
   "cell_type": "code",
   "execution_count": 103,
   "metadata": {
    "scrolled": true
   },
   "outputs": [
    {
     "name": "stderr",
     "output_type": "stream",
     "text": [
      "C:\\Users\\user\\Anaconda3\\lib\\site-packages\\sklearn\\model_selection\\_search.py:841: DeprecationWarning: The default of the `iid` parameter will change from True to False in version 0.22 and will be removed in 0.24. This will change numeric results when test-set sizes are unequal.\n",
      "  DeprecationWarning)\n"
     ]
    },
    {
     "data": {
      "text/plain": [
       "GridSearchCV(cv=5, error_score='raise-deprecating',\n",
       "       estimator=GradientBoostingClassifier(criterion='friedman_mse', init=None,\n",
       "              learning_rate=0.1, loss='deviance', max_depth=3,\n",
       "              max_features=None, max_leaf_nodes=None,\n",
       "              min_impurity_decrease=0.0, min_impurity_split=None,\n",
       "              min_samples_leaf=1, min_sampl...      subsample=1.0, tol=0.0001, validation_fraction=0.1,\n",
       "              verbose=0, warm_start=False),\n",
       "       fit_params=None, iid='warn', n_jobs=None,\n",
       "       param_grid={'n_estimators': range(20, 200, 10), 'criterion': ['friedman_mse', 'mse', 'mae']},\n",
       "       pre_dispatch='2*n_jobs', refit=True, return_train_score='warn',\n",
       "       scoring='accuracy', verbose=0)"
      ]
     },
     "execution_count": 103,
     "metadata": {},
     "output_type": "execute_result"
    }
   ],
   "source": [
    "g_search = GridSearchCV(clf,\n",
    "                       params,\n",
    "                       scoring='accuracy',\n",
    "                       cv=5)\n",
    "g_search.fit(X_train, y_train)"
   ]
  },
  {
   "cell_type": "code",
   "execution_count": 106,
   "metadata": {},
   "outputs": [
    {
     "name": "stdout",
     "output_type": "stream",
     "text": [
      "Best params: {'criterion': 'friedman_mse', 'n_estimators': 120}\n",
      "Best score: 0.9586776859504132\n"
     ]
    }
   ],
   "source": [
    "print('Best params: '+ str(g_search.best_params_) + '\\nBest score: ' + str(g_search.best_score_))"
   ]
  },
  {
   "cell_type": "code",
   "execution_count": 107,
   "metadata": {},
   "outputs": [
    {
     "name": "stdout",
     "output_type": "stream",
     "text": [
      "Accuracy score by best estimator for test:  0.9512195121951219\n"
     ]
    }
   ],
   "source": [
    "print('Accuracy score by best estimator for test: ',\n",
    "      accuracy_score(y_test, g_search.best_estimator_.predict(X_test)))"
   ]
  },
  {
   "cell_type": "markdown",
   "metadata": {},
   "source": [
    "## Prediction function (prepare data)"
   ]
  },
  {
   "cell_type": "code",
   "execution_count": 45,
   "metadata": {},
   "outputs": [],
   "source": [
    "def predict_data(model, scaler, data):\n",
    "    data_curr = data.copy()\n",
    "    data_curr['sample_num'] = 1\n",
    "    data_curr = data_curr.groupby(['sample_num']).agg(['min','max','sum','mean','std'])\n",
    "    data_curr = scaler.transform(data_curr)\n",
    "    pred = model.predict(data_curr)\n",
    "    if pred == 1:\n",
    "        return '1_0'\n",
    "    elif pred == 0:\n",
    "        return '0_1'"
   ]
  },
  {
   "cell_type": "code",
   "execution_count": 47,
   "metadata": {},
   "outputs": [
    {
     "data": {
      "text/html": [
       "<div>\n",
       "<style scoped>\n",
       "    .dataframe tbody tr th:only-of-type {\n",
       "        vertical-align: middle;\n",
       "    }\n",
       "\n",
       "    .dataframe tbody tr th {\n",
       "        vertical-align: top;\n",
       "    }\n",
       "\n",
       "    .dataframe thead th {\n",
       "        text-align: right;\n",
       "    }\n",
       "</style>\n",
       "<table border=\"1\" class=\"dataframe\">\n",
       "  <thead>\n",
       "    <tr style=\"text-align: right;\">\n",
       "      <th></th>\n",
       "      <th>0</th>\n",
       "      <th>1</th>\n",
       "      <th>2</th>\n",
       "      <th>3</th>\n",
       "      <th>4</th>\n",
       "      <th>5</th>\n",
       "      <th>6</th>\n",
       "      <th>7</th>\n",
       "      <th>8</th>\n",
       "      <th>9</th>\n",
       "      <th>10</th>\n",
       "      <th>11</th>\n",
       "      <th>12</th>\n",
       "      <th>13</th>\n",
       "    </tr>\n",
       "  </thead>\n",
       "  <tbody>\n",
       "    <tr>\n",
       "      <th>39600</th>\n",
       "      <td>4194.615</td>\n",
       "      <td>4184.744</td>\n",
       "      <td>4197.564</td>\n",
       "      <td>4198.333</td>\n",
       "      <td>4209.103</td>\n",
       "      <td>4213.077</td>\n",
       "      <td>4227.949</td>\n",
       "      <td>4221.667</td>\n",
       "      <td>4216.667</td>\n",
       "      <td>4188.333</td>\n",
       "      <td>4193.333</td>\n",
       "      <td>4186.026</td>\n",
       "      <td>4182.179</td>\n",
       "      <td>4196.795</td>\n",
       "    </tr>\n",
       "    <tr>\n",
       "      <th>39601</th>\n",
       "      <td>4195.256</td>\n",
       "      <td>4188.590</td>\n",
       "      <td>4201.282</td>\n",
       "      <td>4201.923</td>\n",
       "      <td>4212.949</td>\n",
       "      <td>4214.744</td>\n",
       "      <td>4230.897</td>\n",
       "      <td>4219.872</td>\n",
       "      <td>4212.436</td>\n",
       "      <td>4191.410</td>\n",
       "      <td>4198.077</td>\n",
       "      <td>4189.231</td>\n",
       "      <td>4178.846</td>\n",
       "      <td>4197.821</td>\n",
       "    </tr>\n",
       "    <tr>\n",
       "      <th>39602</th>\n",
       "      <td>4198.718</td>\n",
       "      <td>4193.333</td>\n",
       "      <td>4204.872</td>\n",
       "      <td>4202.436</td>\n",
       "      <td>4221.410</td>\n",
       "      <td>4214.615</td>\n",
       "      <td>4235.385</td>\n",
       "      <td>4223.205</td>\n",
       "      <td>4211.282</td>\n",
       "      <td>4189.872</td>\n",
       "      <td>4199.615</td>\n",
       "      <td>4190.897</td>\n",
       "      <td>4183.205</td>\n",
       "      <td>4197.821</td>\n",
       "    </tr>\n",
       "    <tr>\n",
       "      <th>39603</th>\n",
       "      <td>4198.718</td>\n",
       "      <td>4189.872</td>\n",
       "      <td>4205.000</td>\n",
       "      <td>4201.538</td>\n",
       "      <td>4217.308</td>\n",
       "      <td>4211.667</td>\n",
       "      <td>4236.923</td>\n",
       "      <td>4223.974</td>\n",
       "      <td>4214.103</td>\n",
       "      <td>4187.949</td>\n",
       "      <td>4197.821</td>\n",
       "      <td>4189.231</td>\n",
       "      <td>4188.846</td>\n",
       "      <td>4198.077</td>\n",
       "    </tr>\n",
       "    <tr>\n",
       "      <th>39604</th>\n",
       "      <td>4198.205</td>\n",
       "      <td>4193.077</td>\n",
       "      <td>4206.923</td>\n",
       "      <td>4204.872</td>\n",
       "      <td>4218.077</td>\n",
       "      <td>4207.564</td>\n",
       "      <td>4234.872</td>\n",
       "      <td>4220.256</td>\n",
       "      <td>4215.769</td>\n",
       "      <td>4190.128</td>\n",
       "      <td>4201.154</td>\n",
       "      <td>4193.333</td>\n",
       "      <td>4190.128</td>\n",
       "      <td>4200.256</td>\n",
       "    </tr>\n",
       "  </tbody>\n",
       "</table>\n",
       "</div>"
      ],
      "text/plain": [
       "              0         1         2         3         4         5         6  \\\n",
       "39600  4194.615  4184.744  4197.564  4198.333  4209.103  4213.077  4227.949   \n",
       "39601  4195.256  4188.590  4201.282  4201.923  4212.949  4214.744  4230.897   \n",
       "39602  4198.718  4193.333  4204.872  4202.436  4221.410  4214.615  4235.385   \n",
       "39603  4198.718  4189.872  4205.000  4201.538  4217.308  4211.667  4236.923   \n",
       "39604  4198.205  4193.077  4206.923  4204.872  4218.077  4207.564  4234.872   \n",
       "\n",
       "              7         8         9        10        11        12        13  \n",
       "39600  4221.667  4216.667  4188.333  4193.333  4186.026  4182.179  4196.795  \n",
       "39601  4219.872  4212.436  4191.410  4198.077  4189.231  4178.846  4197.821  \n",
       "39602  4223.205  4211.282  4189.872  4199.615  4190.897  4183.205  4197.821  \n",
       "39603  4223.974  4214.103  4187.949  4197.821  4189.231  4188.846  4198.077  \n",
       "39604  4220.256  4215.769  4190.128  4201.154  4193.333  4190.128  4200.256  "
      ]
     },
     "execution_count": 47,
     "metadata": {},
     "output_type": "execute_result"
    }
   ],
   "source": [
    "test_data = data[data['sample_num'] == 400].drop(columns=['sample_num', 'gesture'])\n",
    "test_data.head()"
   ]
  },
  {
   "cell_type": "code",
   "execution_count": 48,
   "metadata": {},
   "outputs": [
    {
     "data": {
      "text/plain": [
       "'0_1'"
      ]
     },
     "execution_count": 48,
     "metadata": {},
     "output_type": "execute_result"
    }
   ],
   "source": [
    "predict_data(boosting_clf, scaler, test_data)"
   ]
  },
  {
   "cell_type": "code",
   "execution_count": null,
   "metadata": {},
   "outputs": [],
   "source": []
  }
 ],
 "metadata": {
  "kernelspec": {
   "display_name": "Python 3",
   "language": "python",
   "name": "python3"
  },
  "toc": {
   "base_numbering": 1,
   "nav_menu": {},
   "number_sections": true,
   "sideBar": true,
   "skip_h1_title": false,
   "title_cell": "Table of Contents",
   "title_sidebar": "Contents",
   "toc_cell": false,
   "toc_position": {},
   "toc_section_display": true,
   "toc_window_display": false
  }
 },
 "nbformat": 4,
 "nbformat_minor": 2
}
